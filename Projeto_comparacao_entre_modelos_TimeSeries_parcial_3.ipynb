{
 "cells": [
  {
   "cell_type": "markdown",
   "metadata": {},
   "source": [
    "# Comparando modelos de Forecasting (Time Series)."
   ]
  },
  {
   "cell_type": "markdown",
   "metadata": {},
   "source": [
    "**Nesse projeto irei comparar os três métodos de Time Series Forecasting que temos, o clássico ARIMA(Autoregressive Integrated Moving Average), o Facebook Prophet e o LSTM (Long Short term Memory) já da parte de redes neurais (Deep Learning)**"
   ]
  },
  {
   "cell_type": "markdown",
   "metadata": {},
   "source": [
    "### ARIMA (Autoregressive Integrated Moving Average)\n",
    "\n",
    "Terminologias em ARIMA\n",
    "\n",
    "O modelo ARIMA pode ser basicamente resumido por três fatores:\n",
    "\n",
    "p = o número de termos autorregressivos\n",
    "- p é o número de termos auto-regressivos (parte AR). Permite incorporar o efeito de valores\n",
    "  passados em nosso modelo. Intuitivamente, isso seria semelhante ao afirmar que é\n",
    "  provável que esteja quente amanhã se estiver quente nos últimos três dias.\n",
    "\n",
    "d = o número é o fator que vamos aplicar para resolver a estacionaridade\n",
    "- d é o número de diferenças não sazonais necessárias para a estacionariedade.\n",
    "  Intuitivamente, isso seria semelhante ao afirmar que provavelmente haverá a mesma\n",
    "  temperatura amanhã se a diferença de temperatura nos últimos três dias tiver sido muito\n",
    "  pequena.\n",
    "\n",
    "q = o número de termos da média móvel\n",
    "- q é o número de erros de previsão atrasados na equação de previsão (parte MA). Isso nos\n",
    "  permite definir o erro do nosso modelo como uma combinação linear dos valores de erro\n",
    "  observados em momentos anteriores no passado.\n",
    "  Estes são os três números inteiros (p, d, q) usados para parametrizar os modelos ARIMA.\n",
    "  Portanto, isso é chamado de modelo “ARIMA (p, d, q)”."
   ]
  },
  {
   "cell_type": "markdown",
   "metadata": {},
   "source": [
    "### Facebook Prophet\n",
    "\n",
    "O Prophet é um procedimento para prever dados de séries temporais com base em um modelo aditivo em que tendências não lineares são ajustadas com sazonalidade anual, semanal e diária, além dos efeitos de feriados. Funciona melhor com séries temporais que têm fortes efeitos sazonais e várias temporadas de dados históricos. O Prophet é robusto para dados ausentes e mudanças na tendência, e normalmente lida bem com outliers."
   ]
  },
  {
   "cell_type": "markdown",
   "metadata": {},
   "source": [
    "### LSTM (Long Short term Memory)\n",
    "\n",
    "A LSTM é uma arquitetura de rede neural recorrente (RNN) que “lembra” valores em intervalos arbitrários. A LSTM é bem adequada para classificar, processar e prever séries temporais com intervalos de tempo de duração desconhecida. A insensibilidade relativa ao comprimento do gap dá uma vantagem à LSTM em relação a RNNs tradicionais (também chamadas “vanilla”), Modelos Ocultos de Markov (MOM) e outros métodos de aprendizado de sequências.\n",
    "\n",
    "A estrutura de uma RNN é muito semelhante ao Modelo Oculto de Markov. No entanto, a principal diferença é como os parâmetros são calculados e construídos. Uma das vantagens da LSTM é a insensibilidade ao comprimento do gap. RNN e MOM dependem do estado oculto antes da emissão / sequência. Se quisermos prever a sequência após 1.000 intervalos em vez de 10, o modelo esqueceu o ponto de partida até então. Mas um modelo LSTM é capaz de “lembrar” por conta de sua estrutura de células, o diferencial da arquitetura LSTM.\n",
    "\n",
    "A LSTM possui uma estrutura em cadeia que contém quatro redes neurais e diferentes blocos de memória chamados células.\n",
    "\n",
    "<img src=\"https://i.imgur.com/Ooq3hRT.png\" />\n",
    "\n",
    "A informação é retida pelas células e as manipulações de memória são feitas pelos portões (gates). Existem três portões:\n",
    "\n",
    "Forget Gate: As informações que não são mais úteis no estado da célula são removidas com o forget gate. Duas entradas: x_t (entrada no momento específico) e h_t-1 (saída de célula anterior) são alimentadas ao gate e multiplicadas por matrizes de peso, seguidas pela adição do bias. O resultante é passado por uma função de ativação que fornece uma saída binária. Se para um determinado estado de célula a saída for 0, a informação é esquecida e para a saída 1, a informação é retida para uso futuro.\n",
    "\n",
    "Input Gate: A adição de informações úteis ao estado da célula é feita pelo input gate. Primeiro, a informação é regulada usando a função sigmoide que filtra os valores a serem lembrados de forma similar ao forget gate usando as entradas h_t-1 e x_t. Então, um vetor é criado usando a função tanh que dá saída de -1 a +1, que contém todos os valores possíveis de h_t-1 e x_t. Os valores do vetor e os valores regulados são multiplicados para obter as informações úteis\n",
    "\n",
    "Output Gate: A tarefa de extrair informações úteis do estado da célula atual para ser apresentadas como uma saída é feita pelo output gate. Primeiro, um vetor é gerado aplicando a função tanh na célula. Então, a informação é regulada usando a função sigmóide que filtra os valores a serem lembrados usando as entradas h_t-1 e x_t. Os valores do vetor e os valores regulados são multiplicados para serem enviados como uma saída e entrada para a próxima célula.\n",
    "\n",
    "A célula RNN recebe duas entradas, a saída do último estado oculto e a observação no tempo = t. Além do estado oculto, não há informações sobre o passado para se lembrar. A memória de longo prazo é geralmente chamada de estado da célula. As setas em loop indicam a natureza recursiva da célula. Isso permite que as informações dos intervalos anteriores sejam armazenadas na célula LSTM. O estado da célula é modificado pelo forget gate colocado abaixo do estado da célula e também ajustado pela porta de modulação de entrada. Da equação, o estado da célula anterior esquece, multiplica-se com a porta do esquecimento e adiciona novas informações através da saída das portas de entrada.\n",
    "\n",
    "Algumas das famosas aplicações das LSTMs incluem:\n",
    "\n",
    "- Modelagem de Linguagem\n",
    "- Tradução de Idiomas\n",
    "- Legendas em Imagens\n",
    "- Geração de Texto\n",
    "- Chatbots"
   ]
  },
  {
   "cell_type": "markdown",
   "metadata": {},
   "source": [
    "# Dados:"
   ]
  },
  {
   "cell_type": "markdown",
   "metadata": {},
   "source": [
    "## Vendas de autoveículos no Brasil."
   ]
  },
  {
   "cell_type": "markdown",
   "metadata": {},
   "source": [
    "               "
   ]
  },
  {
   "cell_type": "markdown",
   "metadata": {},
   "source": [
    "<img src=\"https://i.imgur.com/isgusta.jpg\" />"
   ]
  },
  {
   "cell_type": "markdown",
   "metadata": {},
   "source": [
    "Valor da produção de veículos automotores no País. Refletem o desempenho das vendas das empresas associadas a(o): estoque e venda de veículos pelas concessionárias produção e vendas de veículos e congêneres produção e vendas de motociclos.\n",
    "\n",
    "Fonte: https://www3.bcb.gov.br/sgspub/consultarvalores/consultarValoresSeries.do?method=consultarGraficoPorId&hdOidSeriesSelecionadas=1378"
   ]
  },
  {
   "cell_type": "markdown",
   "metadata": {},
   "source": [
    "## Vamos lá !"
   ]
  },
  {
   "cell_type": "code",
   "execution_count": 1,
   "metadata": {},
   "outputs": [],
   "source": [
    "import numpy as np\n",
    "import pandas as pd\n",
    "from statsmodels.tsa.statespace.sarimax import SARIMAX\n",
    "from statsmodels.graphics.tsaplots import plot_acf,plot_pacf \n",
    "from statsmodels.tsa.seasonal import seasonal_decompose \n",
    "from pmdarima import auto_arima                        \n",
    "from sklearn.metrics import mean_squared_error\n",
    "from statsmodels.tools.eval_measures import rmse\n",
    "import warnings\n",
    "warnings.filterwarnings(\"ignore\")"
   ]
  },
  {
   "cell_type": "code",
   "execution_count": 2,
   "metadata": {},
   "outputs": [
    {
     "name": "stdout",
     "output_type": "stream",
     "text": [
      "Wall time: 6 ms\n"
     ]
    }
   ],
   "source": [
    "%time data = pd.read_csv('C:/Users/skite/OneDrive/Documentos/GitHub/Projeto_comparacao_entre_modelos_TimeSeries/bcdata.sgs.1378.csv', sep = ';', encoding  = 'UTF-8')"
   ]
  },
  {
   "cell_type": "code",
   "execution_count": 3,
   "metadata": {},
   "outputs": [
    {
     "data": {
      "text/html": [
       "<div>\n",
       "<style scoped>\n",
       "    .dataframe tbody tr th:only-of-type {\n",
       "        vertical-align: middle;\n",
       "    }\n",
       "\n",
       "    .dataframe tbody tr th {\n",
       "        vertical-align: top;\n",
       "    }\n",
       "\n",
       "    .dataframe thead th {\n",
       "        text-align: right;\n",
       "    }\n",
       "</style>\n",
       "<table border=\"1\" class=\"dataframe\">\n",
       "  <thead>\n",
       "    <tr style=\"text-align: right;\">\n",
       "      <th></th>\n",
       "      <th>data</th>\n",
       "      <th>valor</th>\n",
       "    </tr>\n",
       "  </thead>\n",
       "  <tbody>\n",
       "    <tr>\n",
       "      <th>0</th>\n",
       "      <td>01/01/1981</td>\n",
       "      <td>87939</td>\n",
       "    </tr>\n",
       "    <tr>\n",
       "      <th>1</th>\n",
       "      <td>01/02/1981</td>\n",
       "      <td>65251</td>\n",
       "    </tr>\n",
       "    <tr>\n",
       "      <th>2</th>\n",
       "      <td>01/03/1981</td>\n",
       "      <td>64065</td>\n",
       "    </tr>\n",
       "    <tr>\n",
       "      <th>3</th>\n",
       "      <td>01/04/1981</td>\n",
       "      <td>69042</td>\n",
       "    </tr>\n",
       "    <tr>\n",
       "      <th>4</th>\n",
       "      <td>01/05/1981</td>\n",
       "      <td>62966</td>\n",
       "    </tr>\n",
       "  </tbody>\n",
       "</table>\n",
       "</div>"
      ],
      "text/plain": [
       "         data  valor\n",
       "0  01/01/1981  87939\n",
       "1  01/02/1981  65251\n",
       "2  01/03/1981  64065\n",
       "3  01/04/1981  69042\n",
       "4  01/05/1981  62966"
      ]
     },
     "execution_count": 3,
     "metadata": {},
     "output_type": "execute_result"
    }
   ],
   "source": [
    "data.head()"
   ]
  },
  {
   "cell_type": "code",
   "execution_count": 4,
   "metadata": {},
   "outputs": [
    {
     "data": {
      "text/html": [
       "<div>\n",
       "<style scoped>\n",
       "    .dataframe tbody tr th:only-of-type {\n",
       "        vertical-align: middle;\n",
       "    }\n",
       "\n",
       "    .dataframe tbody tr th {\n",
       "        vertical-align: top;\n",
       "    }\n",
       "\n",
       "    .dataframe thead th {\n",
       "        text-align: right;\n",
       "    }\n",
       "</style>\n",
       "<table border=\"1\" class=\"dataframe\">\n",
       "  <thead>\n",
       "    <tr style=\"text-align: right;\">\n",
       "      <th></th>\n",
       "      <th>data</th>\n",
       "      <th>valor</th>\n",
       "    </tr>\n",
       "  </thead>\n",
       "  <tbody>\n",
       "    <tr>\n",
       "      <th>472</th>\n",
       "      <td>01/05/2020</td>\n",
       "      <td>56266</td>\n",
       "    </tr>\n",
       "    <tr>\n",
       "      <th>473</th>\n",
       "      <td>01/06/2020</td>\n",
       "      <td>135140</td>\n",
       "    </tr>\n",
       "    <tr>\n",
       "      <th>474</th>\n",
       "      <td>01/07/2020</td>\n",
       "      <td>184818</td>\n",
       "    </tr>\n",
       "    <tr>\n",
       "      <th>475</th>\n",
       "      <td>01/08/2020</td>\n",
       "      <td>193650</td>\n",
       "    </tr>\n",
       "    <tr>\n",
       "      <th>476</th>\n",
       "      <td>01/09/2020</td>\n",
       "      <td>219033</td>\n",
       "    </tr>\n",
       "  </tbody>\n",
       "</table>\n",
       "</div>"
      ],
      "text/plain": [
       "           data   valor\n",
       "472  01/05/2020   56266\n",
       "473  01/06/2020  135140\n",
       "474  01/07/2020  184818\n",
       "475  01/08/2020  193650\n",
       "476  01/09/2020  219033"
      ]
     },
     "execution_count": 4,
     "metadata": {},
     "output_type": "execute_result"
    }
   ],
   "source": [
    "data.tail()"
   ]
  },
  {
   "cell_type": "markdown",
   "metadata": {},
   "source": [
    "**Temos dados de 01/01/1981 até 01/09/2020, ou seja, 39 anos de registro de venda de Autoveículos.**"
   ]
  },
  {
   "cell_type": "code",
   "execution_count": 5,
   "metadata": {},
   "outputs": [
    {
     "name": "stdout",
     "output_type": "stream",
     "text": [
      "<class 'pandas.core.frame.DataFrame'>\n",
      "RangeIndex: 477 entries, 0 to 476\n",
      "Data columns (total 2 columns):\n",
      " #   Column  Non-Null Count  Dtype \n",
      "---  ------  --------------  ----- \n",
      " 0   data    477 non-null    object\n",
      " 1   valor   477 non-null    int64 \n",
      "dtypes: int64(1), object(1)\n",
      "memory usage: 7.6+ KB\n"
     ]
    }
   ],
   "source": [
    "data.info()"
   ]
  },
  {
   "cell_type": "markdown",
   "metadata": {},
   "source": [
    "**Ajuste da variável data**"
   ]
  },
  {
   "cell_type": "code",
   "execution_count": 6,
   "metadata": {},
   "outputs": [],
   "source": [
    "data['data'] = data['data'].str[3:]"
   ]
  },
  {
   "cell_type": "code",
   "execution_count": 7,
   "metadata": {},
   "outputs": [],
   "source": [
    "data['valor'] = data.valor.astype('float')"
   ]
  },
  {
   "cell_type": "code",
   "execution_count": 8,
   "metadata": {},
   "outputs": [
    {
     "data": {
      "text/html": [
       "<div>\n",
       "<style scoped>\n",
       "    .dataframe tbody tr th:only-of-type {\n",
       "        vertical-align: middle;\n",
       "    }\n",
       "\n",
       "    .dataframe tbody tr th {\n",
       "        vertical-align: top;\n",
       "    }\n",
       "\n",
       "    .dataframe thead th {\n",
       "        text-align: right;\n",
       "    }\n",
       "</style>\n",
       "<table border=\"1\" class=\"dataframe\">\n",
       "  <thead>\n",
       "    <tr style=\"text-align: right;\">\n",
       "      <th></th>\n",
       "      <th>data</th>\n",
       "      <th>valor</th>\n",
       "    </tr>\n",
       "  </thead>\n",
       "  <tbody>\n",
       "    <tr>\n",
       "      <th>0</th>\n",
       "      <td>01/1981</td>\n",
       "      <td>87939.0</td>\n",
       "    </tr>\n",
       "    <tr>\n",
       "      <th>1</th>\n",
       "      <td>02/1981</td>\n",
       "      <td>65251.0</td>\n",
       "    </tr>\n",
       "    <tr>\n",
       "      <th>2</th>\n",
       "      <td>03/1981</td>\n",
       "      <td>64065.0</td>\n",
       "    </tr>\n",
       "    <tr>\n",
       "      <th>3</th>\n",
       "      <td>04/1981</td>\n",
       "      <td>69042.0</td>\n",
       "    </tr>\n",
       "    <tr>\n",
       "      <th>4</th>\n",
       "      <td>05/1981</td>\n",
       "      <td>62966.0</td>\n",
       "    </tr>\n",
       "    <tr>\n",
       "      <th>...</th>\n",
       "      <td>...</td>\n",
       "      <td>...</td>\n",
       "    </tr>\n",
       "    <tr>\n",
       "      <th>472</th>\n",
       "      <td>05/2020</td>\n",
       "      <td>56266.0</td>\n",
       "    </tr>\n",
       "    <tr>\n",
       "      <th>473</th>\n",
       "      <td>06/2020</td>\n",
       "      <td>135140.0</td>\n",
       "    </tr>\n",
       "    <tr>\n",
       "      <th>474</th>\n",
       "      <td>07/2020</td>\n",
       "      <td>184818.0</td>\n",
       "    </tr>\n",
       "    <tr>\n",
       "      <th>475</th>\n",
       "      <td>08/2020</td>\n",
       "      <td>193650.0</td>\n",
       "    </tr>\n",
       "    <tr>\n",
       "      <th>476</th>\n",
       "      <td>09/2020</td>\n",
       "      <td>219033.0</td>\n",
       "    </tr>\n",
       "  </tbody>\n",
       "</table>\n",
       "<p>477 rows × 2 columns</p>\n",
       "</div>"
      ],
      "text/plain": [
       "        data     valor\n",
       "0    01/1981   87939.0\n",
       "1    02/1981   65251.0\n",
       "2    03/1981   64065.0\n",
       "3    04/1981   69042.0\n",
       "4    05/1981   62966.0\n",
       "..       ...       ...\n",
       "472  05/2020   56266.0\n",
       "473  06/2020  135140.0\n",
       "474  07/2020  184818.0\n",
       "475  08/2020  193650.0\n",
       "476  09/2020  219033.0\n",
       "\n",
       "[477 rows x 2 columns]"
      ]
     },
     "execution_count": 8,
     "metadata": {},
     "output_type": "execute_result"
    }
   ],
   "source": [
    "data"
   ]
  },
  {
   "cell_type": "markdown",
   "metadata": {},
   "source": [
    "**Vamos determinar a data como índice e aplicar o Datetime para transformar a variável.**"
   ]
  },
  {
   "cell_type": "code",
   "execution_count": 9,
   "metadata": {},
   "outputs": [],
   "source": [
    "data.data = pd.to_datetime(data.data)"
   ]
  },
  {
   "cell_type": "code",
   "execution_count": 10,
   "metadata": {},
   "outputs": [
    {
     "data": {
      "text/html": [
       "<div>\n",
       "<style scoped>\n",
       "    .dataframe tbody tr th:only-of-type {\n",
       "        vertical-align: middle;\n",
       "    }\n",
       "\n",
       "    .dataframe tbody tr th {\n",
       "        vertical-align: top;\n",
       "    }\n",
       "\n",
       "    .dataframe thead th {\n",
       "        text-align: right;\n",
       "    }\n",
       "</style>\n",
       "<table border=\"1\" class=\"dataframe\">\n",
       "  <thead>\n",
       "    <tr style=\"text-align: right;\">\n",
       "      <th></th>\n",
       "      <th>valor</th>\n",
       "    </tr>\n",
       "    <tr>\n",
       "      <th>data</th>\n",
       "      <th></th>\n",
       "    </tr>\n",
       "  </thead>\n",
       "  <tbody>\n",
       "    <tr>\n",
       "      <th>1981-01-01</th>\n",
       "      <td>87939.0</td>\n",
       "    </tr>\n",
       "    <tr>\n",
       "      <th>1981-02-01</th>\n",
       "      <td>65251.0</td>\n",
       "    </tr>\n",
       "    <tr>\n",
       "      <th>1981-03-01</th>\n",
       "      <td>64065.0</td>\n",
       "    </tr>\n",
       "    <tr>\n",
       "      <th>1981-04-01</th>\n",
       "      <td>69042.0</td>\n",
       "    </tr>\n",
       "    <tr>\n",
       "      <th>1981-05-01</th>\n",
       "      <td>62966.0</td>\n",
       "    </tr>\n",
       "  </tbody>\n",
       "</table>\n",
       "</div>"
      ],
      "text/plain": [
       "              valor\n",
       "data               \n",
       "1981-01-01  87939.0\n",
       "1981-02-01  65251.0\n",
       "1981-03-01  64065.0\n",
       "1981-04-01  69042.0\n",
       "1981-05-01  62966.0"
      ]
     },
     "execution_count": 10,
     "metadata": {},
     "output_type": "execute_result"
    }
   ],
   "source": [
    "data = data.set_index(\"data\")\n",
    "data.head()"
   ]
  },
  {
   "cell_type": "markdown",
   "metadata": {},
   "source": [
    "**Vamos definir a frequência do dados para mensal**"
   ]
  },
  {
   "cell_type": "code",
   "execution_count": 11,
   "metadata": {},
   "outputs": [],
   "source": [
    "data.index.freq = 'MS'"
   ]
  },
  {
   "cell_type": "code",
   "execution_count": 12,
   "metadata": {},
   "outputs": [
    {
     "data": {
      "image/png": "[encoded data removed]",
      "text/plain": [
       "<Figure size 1152x360 with 1 Axes>"
      ]
     },
     "metadata": {
      "needs_background": "light"
     },
     "output_type": "display_data"
    }
   ],
   "source": [
    "ax = data['valor'].plot(figsize = (16,5), title = \"vendas de autoveículos no Brasil\")\n",
    "ax.set(xlabel='Data', ylabel='Total de vendas');"
   ]
  },
  {
   "cell_type": "markdown",
   "metadata": {},
   "source": [
    "**Analisando as vendas ao longo dos anos, mostra que as vendas de autoveículos não é nada sazonal onde temos grande quedas próximos dos anos de 1985, 1999, 2015 e claro 2020**"
   ]
  },
  {
   "cell_type": "markdown",
   "metadata": {},
   "source": [
    "**Vamos utilizar o \"seasonal_decompose\" para verificar o comportamento da série**"
   ]
  },
  {
   "cell_type": "code",
   "execution_count": 13,
   "metadata": {},
   "outputs": [
    {
     "data": {
      "image/png": "[encoded data removed]",
      "text/plain": [
       "<Figure size 432x288 with 4 Axes>"
      ]
     },
     "metadata": {
      "needs_background": "light"
     },
     "output_type": "display_data"
    }
   ],
   "source": [
    "a = seasonal_decompose(data[\"valor\"], model = \"multiplicative\")\n",
    "a.plot();"
   ]
  },
  {
   "cell_type": "markdown",
   "metadata": {},
   "source": [
    "**Seasonal**"
   ]
  },
  {
   "cell_type": "code",
   "execution_count": 14,
   "metadata": {},
   "outputs": [
    {
     "data": {
      "image/png": "[encoded data removed]",
      "text/plain": [
       "<Figure size 1152x504 with 1 Axes>"
      ]
     },
     "metadata": {
      "needs_background": "light"
     },
     "output_type": "display_data"
    }
   ],
   "source": [
    "import matplotlib.pyplot as plt\n",
    "plt.figure(figsize = (16,7))\n",
    "a.seasonal.plot();"
   ]
  },
  {
   "cell_type": "markdown",
   "metadata": {},
   "source": [
    "           "
   ]
  },
  {
   "cell_type": "markdown",
   "metadata": {},
   "source": [
    "               "
   ]
  },
  {
   "cell_type": "markdown",
   "metadata": {},
   "source": [
    "                 "
   ]
  },
  {
   "cell_type": "markdown",
   "metadata": {},
   "source": [
    "# Previsão com o ARIMA"
   ]
  },
  {
   "cell_type": "markdown",
   "metadata": {},
   "source": [
    "**Vamos executar a função auto_arima () para obter os melhores valores p, d, q**"
   ]
  },
  {
   "cell_type": "code",
   "execution_count": 15,
   "metadata": {},
   "outputs": [],
   "source": [
    "# auto_arima(data['valor'], seasonal=True, m=12,max_p=7, max_d=5,max_q=7, max_P=4, max_D=4,max_Q=4).summary()"
   ]
  },
  {
   "cell_type": "markdown",
   "metadata": {},
   "source": [
    "**Como podemos ver os melhores parametros que o  auto_arima() nos retornou foi SARIMAX(3, 1, 3)x(3, 0, 3, 12)**"
   ]
  },
  {
   "cell_type": "markdown",
   "metadata": {},
   "source": [
    "**Ok, agora vamos separar os dados de treino e teste**"
   ]
  },
  {
   "cell_type": "code",
   "execution_count": 16,
   "metadata": {},
   "outputs": [],
   "source": [
    "train_data = data[:len(data)-24]\n",
    "test_data = data[len(data)-24:]"
   ]
  },
  {
   "cell_type": "code",
   "execution_count": 17,
   "metadata": {},
   "outputs": [
    {
     "data": {
      "text/html": [
       "<div>\n",
       "<style scoped>\n",
       "    .dataframe tbody tr th:only-of-type {\n",
       "        vertical-align: middle;\n",
       "    }\n",
       "\n",
       "    .dataframe tbody tr th {\n",
       "        vertical-align: top;\n",
       "    }\n",
       "\n",
       "    .dataframe thead th {\n",
       "        text-align: right;\n",
       "    }\n",
       "</style>\n",
       "<table border=\"1\" class=\"dataframe\">\n",
       "  <thead>\n",
       "    <tr style=\"text-align: right;\">\n",
       "      <th></th>\n",
       "      <th>valor</th>\n",
       "    </tr>\n",
       "    <tr>\n",
       "      <th>data</th>\n",
       "      <th></th>\n",
       "    </tr>\n",
       "  </thead>\n",
       "  <tbody>\n",
       "    <tr>\n",
       "      <th>1981-01-01</th>\n",
       "      <td>87939.0</td>\n",
       "    </tr>\n",
       "    <tr>\n",
       "      <th>1981-02-01</th>\n",
       "      <td>65251.0</td>\n",
       "    </tr>\n",
       "    <tr>\n",
       "      <th>1981-03-01</th>\n",
       "      <td>64065.0</td>\n",
       "    </tr>\n",
       "    <tr>\n",
       "      <th>1981-04-01</th>\n",
       "      <td>69042.0</td>\n",
       "    </tr>\n",
       "    <tr>\n",
       "      <th>1981-05-01</th>\n",
       "      <td>62966.0</td>\n",
       "    </tr>\n",
       "    <tr>\n",
       "      <th>...</th>\n",
       "      <td>...</td>\n",
       "    </tr>\n",
       "    <tr>\n",
       "      <th>2018-05-01</th>\n",
       "      <td>236388.0</td>\n",
       "    </tr>\n",
       "    <tr>\n",
       "      <th>2018-06-01</th>\n",
       "      <td>240714.0</td>\n",
       "    </tr>\n",
       "    <tr>\n",
       "      <th>2018-07-01</th>\n",
       "      <td>239856.0</td>\n",
       "    </tr>\n",
       "    <tr>\n",
       "      <th>2018-08-01</th>\n",
       "      <td>274312.0</td>\n",
       "    </tr>\n",
       "    <tr>\n",
       "      <th>2018-09-01</th>\n",
       "      <td>226447.0</td>\n",
       "    </tr>\n",
       "  </tbody>\n",
       "</table>\n",
       "<p>453 rows × 1 columns</p>\n",
       "</div>"
      ],
      "text/plain": [
       "               valor\n",
       "data                \n",
       "1981-01-01   87939.0\n",
       "1981-02-01   65251.0\n",
       "1981-03-01   64065.0\n",
       "1981-04-01   69042.0\n",
       "1981-05-01   62966.0\n",
       "...              ...\n",
       "2018-05-01  236388.0\n",
       "2018-06-01  240714.0\n",
       "2018-07-01  239856.0\n",
       "2018-08-01  274312.0\n",
       "2018-09-01  226447.0\n",
       "\n",
       "[453 rows x 1 columns]"
      ]
     },
     "execution_count": 17,
     "metadata": {},
     "output_type": "execute_result"
    }
   ],
   "source": [
    "train_data"
   ]
  },
  {
   "cell_type": "code",
   "execution_count": 18,
   "metadata": {},
   "outputs": [
    {
     "data": {
      "text/html": [
       "<div>\n",
       "<style scoped>\n",
       "    .dataframe tbody tr th:only-of-type {\n",
       "        vertical-align: middle;\n",
       "    }\n",
       "\n",
       "    .dataframe tbody tr th {\n",
       "        vertical-align: top;\n",
       "    }\n",
       "\n",
       "    .dataframe thead th {\n",
       "        text-align: right;\n",
       "    }\n",
       "</style>\n",
       "<table border=\"1\" class=\"dataframe\">\n",
       "  <thead>\n",
       "    <tr style=\"text-align: right;\">\n",
       "      <th></th>\n",
       "      <th>valor</th>\n",
       "    </tr>\n",
       "    <tr>\n",
       "      <th>data</th>\n",
       "      <th></th>\n",
       "    </tr>\n",
       "  </thead>\n",
       "  <tbody>\n",
       "    <tr>\n",
       "      <th>2018-10-01</th>\n",
       "      <td>264434.0</td>\n",
       "    </tr>\n",
       "    <tr>\n",
       "      <th>2018-11-01</th>\n",
       "      <td>239547.0</td>\n",
       "    </tr>\n",
       "    <tr>\n",
       "      <th>2018-12-01</th>\n",
       "      <td>237798.0</td>\n",
       "    </tr>\n",
       "    <tr>\n",
       "      <th>2019-01-01</th>\n",
       "      <td>200890.0</td>\n",
       "    </tr>\n",
       "    <tr>\n",
       "      <th>2019-02-01</th>\n",
       "      <td>217205.0</td>\n",
       "    </tr>\n",
       "    <tr>\n",
       "      <th>2019-03-01</th>\n",
       "      <td>225222.0</td>\n",
       "    </tr>\n",
       "    <tr>\n",
       "      <th>2019-04-01</th>\n",
       "      <td>240679.0</td>\n",
       "    </tr>\n",
       "    <tr>\n",
       "      <th>2019-05-01</th>\n",
       "      <td>261975.0</td>\n",
       "    </tr>\n",
       "    <tr>\n",
       "      <th>2019-06-01</th>\n",
       "      <td>240913.0</td>\n",
       "    </tr>\n",
       "    <tr>\n",
       "      <th>2019-07-01</th>\n",
       "      <td>260607.0</td>\n",
       "    </tr>\n",
       "    <tr>\n",
       "      <th>2019-08-01</th>\n",
       "      <td>253575.0</td>\n",
       "    </tr>\n",
       "    <tr>\n",
       "      <th>2019-09-01</th>\n",
       "      <td>246657.0</td>\n",
       "    </tr>\n",
       "    <tr>\n",
       "      <th>2019-10-01</th>\n",
       "      <td>258149.0</td>\n",
       "    </tr>\n",
       "    <tr>\n",
       "      <th>2019-11-01</th>\n",
       "      <td>250468.0</td>\n",
       "    </tr>\n",
       "    <tr>\n",
       "      <th>2019-12-01</th>\n",
       "      <td>262060.0</td>\n",
       "    </tr>\n",
       "    <tr>\n",
       "      <th>2020-01-01</th>\n",
       "      <td>191704.0</td>\n",
       "    </tr>\n",
       "    <tr>\n",
       "      <th>2020-02-01</th>\n",
       "      <td>217602.0</td>\n",
       "    </tr>\n",
       "    <tr>\n",
       "      <th>2020-03-01</th>\n",
       "      <td>177232.0</td>\n",
       "    </tr>\n",
       "    <tr>\n",
       "      <th>2020-04-01</th>\n",
       "      <td>54580.0</td>\n",
       "    </tr>\n",
       "    <tr>\n",
       "      <th>2020-05-01</th>\n",
       "      <td>56266.0</td>\n",
       "    </tr>\n",
       "    <tr>\n",
       "      <th>2020-06-01</th>\n",
       "      <td>135140.0</td>\n",
       "    </tr>\n",
       "    <tr>\n",
       "      <th>2020-07-01</th>\n",
       "      <td>184818.0</td>\n",
       "    </tr>\n",
       "    <tr>\n",
       "      <th>2020-08-01</th>\n",
       "      <td>193650.0</td>\n",
       "    </tr>\n",
       "    <tr>\n",
       "      <th>2020-09-01</th>\n",
       "      <td>219033.0</td>\n",
       "    </tr>\n",
       "  </tbody>\n",
       "</table>\n",
       "</div>"
      ],
      "text/plain": [
       "               valor\n",
       "data                \n",
       "2018-10-01  264434.0\n",
       "2018-11-01  239547.0\n",
       "2018-12-01  237798.0\n",
       "2019-01-01  200890.0\n",
       "2019-02-01  217205.0\n",
       "2019-03-01  225222.0\n",
       "2019-04-01  240679.0\n",
       "2019-05-01  261975.0\n",
       "2019-06-01  240913.0\n",
       "2019-07-01  260607.0\n",
       "2019-08-01  253575.0\n",
       "2019-09-01  246657.0\n",
       "2019-10-01  258149.0\n",
       "2019-11-01  250468.0\n",
       "2019-12-01  262060.0\n",
       "2020-01-01  191704.0\n",
       "2020-02-01  217602.0\n",
       "2020-03-01  177232.0\n",
       "2020-04-01   54580.0\n",
       "2020-05-01   56266.0\n",
       "2020-06-01  135140.0\n",
       "2020-07-01  184818.0\n",
       "2020-08-01  193650.0\n",
       "2020-09-01  219033.0"
      ]
     },
     "execution_count": 18,
     "metadata": {},
     "output_type": "execute_result"
    }
   ],
   "source": [
    "test_data"
   ]
  },
  {
   "cell_type": "code",
   "execution_count": 19,
   "metadata": {},
   "outputs": [
    {
     "data": {
      "text/plain": [
       "[<matplotlib.lines.Line2D at 0x1bb144efd08>]"
      ]
     },
     "execution_count": 19,
     "metadata": {},
     "output_type": "execute_result"
    },
    {
     "data": {
      "image/png": "[encoded data removed]",
      "text/plain": [
       "<Figure size 432x288 with 1 Axes>"
      ]
     },
     "metadata": {
      "needs_background": "light"
     },
     "output_type": "display_data"
    }
   ],
   "source": [
    "plt.plot(train_data)\n",
    "plt.plot(test_data)"
   ]
  },
  {
   "cell_type": "markdown",
   "metadata": {},
   "source": [
    "## Vamos aplicar os parâmetros obtidos pelo o auto_arima() no SARIMAX e compará-lo com os dados reais."
   ]
  },
  {
   "cell_type": "code",
   "execution_count": 20,
   "metadata": {},
   "outputs": [
    {
     "data": {
      "text/html": [
       "<table class=\"simpletable\">\n",
       "<caption>SARIMAX Results</caption>\n",
       "<tr>\n",
       "  <th>Dep. Variable:</th>                <td>valor</td>             <th>  No. Observations:  </th>    <td>453</td>   \n",
       "</tr>\n",
       "<tr>\n",
       "  <th>Model:</th>           <td>SARIMAX(3, 1, 3)x(3, 0, 3, 12)</td> <th>  Log Likelihood     </th> <td>-5101.430</td>\n",
       "</tr>\n",
       "<tr>\n",
       "  <th>Date:</th>                   <td>Thu, 05 Nov 2020</td>        <th>  AIC                </th> <td>10228.859</td>\n",
       "</tr>\n",
       "<tr>\n",
       "  <th>Time:</th>                       <td>19:07:54</td>            <th>  BIC                </th> <td>10282.337</td>\n",
       "</tr>\n",
       "<tr>\n",
       "  <th>Sample:</th>                    <td>01-01-1981</td>           <th>  HQIC               </th> <td>10249.933</td>\n",
       "</tr>\n",
       "<tr>\n",
       "  <th></th>                          <td>- 09-01-2018</td>          <th>                     </th>     <td> </td>    \n",
       "</tr>\n",
       "<tr>\n",
       "  <th>Covariance Type:</th>               <td>opg</td>              <th>                     </th>     <td> </td>    \n",
       "</tr>\n",
       "</table>\n",
       "<table class=\"simpletable\">\n",
       "<tr>\n",
       "      <td></td>        <th>coef</th>     <th>std err</th>      <th>z</th>      <th>P>|z|</th>  <th>[0.025</th>    <th>0.975]</th>  \n",
       "</tr>\n",
       "<tr>\n",
       "  <th>ar.L1</th>    <td>   -0.7539</td> <td>    0.095</td> <td>   -7.936</td> <td> 0.000</td> <td>   -0.940</td> <td>   -0.568</td>\n",
       "</tr>\n",
       "<tr>\n",
       "  <th>ar.L2</th>    <td>   -0.5409</td> <td>    0.108</td> <td>   -4.992</td> <td> 0.000</td> <td>   -0.753</td> <td>   -0.329</td>\n",
       "</tr>\n",
       "<tr>\n",
       "  <th>ar.L3</th>    <td>    0.3807</td> <td>    0.090</td> <td>    4.246</td> <td> 0.000</td> <td>    0.205</td> <td>    0.556</td>\n",
       "</tr>\n",
       "<tr>\n",
       "  <th>ma.L1</th>    <td>    0.2732</td> <td>    0.077</td> <td>    3.535</td> <td> 0.000</td> <td>    0.122</td> <td>    0.425</td>\n",
       "</tr>\n",
       "<tr>\n",
       "  <th>ma.L2</th>    <td>    0.0631</td> <td>    0.073</td> <td>    0.868</td> <td> 0.385</td> <td>   -0.079</td> <td>    0.205</td>\n",
       "</tr>\n",
       "<tr>\n",
       "  <th>ma.L3</th>    <td>   -0.7942</td> <td>    0.072</td> <td>  -11.107</td> <td> 0.000</td> <td>   -0.934</td> <td>   -0.654</td>\n",
       "</tr>\n",
       "<tr>\n",
       "  <th>ar.S.L12</th> <td>    0.3469</td> <td>   85.755</td> <td>    0.004</td> <td> 0.997</td> <td> -167.729</td> <td>  168.423</td>\n",
       "</tr>\n",
       "<tr>\n",
       "  <th>ar.S.L24</th> <td>    0.5707</td> <td>   29.007</td> <td>    0.020</td> <td> 0.984</td> <td>  -56.282</td> <td>   57.423</td>\n",
       "</tr>\n",
       "<tr>\n",
       "  <th>ar.S.L36</th> <td>   -0.0025</td> <td>   49.468</td> <td>-5.01e-05</td> <td> 1.000</td> <td>  -96.958</td> <td>   96.953</td>\n",
       "</tr>\n",
       "<tr>\n",
       "  <th>ma.S.L12</th> <td>   -0.0400</td> <td>   85.746</td> <td>   -0.000</td> <td> 1.000</td> <td> -168.099</td> <td>  168.019</td>\n",
       "</tr>\n",
       "<tr>\n",
       "  <th>ma.S.L24</th> <td>   -0.5559</td> <td>    2.691</td> <td>   -0.207</td> <td> 0.836</td> <td>   -5.831</td> <td>    4.719</td>\n",
       "</tr>\n",
       "<tr>\n",
       "  <th>ma.S.L36</th> <td>    0.0040</td> <td>   47.955</td> <td>  8.3e-05</td> <td> 1.000</td> <td>  -93.986</td> <td>   93.994</td>\n",
       "</tr>\n",
       "<tr>\n",
       "  <th>sigma2</th>   <td> 5.229e+08</td> <td>    0.000</td> <td> 5.15e+12</td> <td> 0.000</td> <td> 5.23e+08</td> <td> 5.23e+08</td>\n",
       "</tr>\n",
       "</table>\n",
       "<table class=\"simpletable\">\n",
       "<tr>\n",
       "  <th>Ljung-Box (Q):</th>          <td>55.39</td> <th>  Jarque-Bera (JB):  </th> <td>95.08</td>\n",
       "</tr>\n",
       "<tr>\n",
       "  <th>Prob(Q):</th>                <td>0.05</td>  <th>  Prob(JB):          </th> <td>0.00</td> \n",
       "</tr>\n",
       "<tr>\n",
       "  <th>Heteroskedasticity (H):</th> <td>2.91</td>  <th>  Skew:              </th> <td>-0.20</td>\n",
       "</tr>\n",
       "<tr>\n",
       "  <th>Prob(H) (two-sided):</th>    <td>0.00</td>  <th>  Kurtosis:          </th> <td>5.21</td> \n",
       "</tr>\n",
       "</table><br/><br/>Warnings:<br/>[1] Covariance matrix calculated using the outer product of gradients (complex-step).<br/>[2] Covariance matrix is singular or near-singular, with condition number 1.44e+28. Standard errors may be unstable."
      ],
      "text/plain": [
       "<class 'statsmodels.iolib.summary.Summary'>\n",
       "\"\"\"\n",
       "                                     SARIMAX Results                                      \n",
       "==========================================================================================\n",
       "Dep. Variable:                              valor   No. Observations:                  453\n",
       "Model:             SARIMAX(3, 1, 3)x(3, 0, 3, 12)   Log Likelihood               -5101.430\n",
       "Date:                            Thu, 05 Nov 2020   AIC                          10228.859\n",
       "Time:                                    19:07:54   BIC                          10282.337\n",
       "Sample:                                01-01-1981   HQIC                         10249.933\n",
       "                                     - 09-01-2018                                         \n",
       "Covariance Type:                              opg                                         \n",
       "==============================================================================\n",
       "                 coef    std err          z      P>|z|      [0.025      0.975]\n",
       "------------------------------------------------------------------------------\n",
       "ar.L1         -0.7539      0.095     -7.936      0.000      -0.940      -0.568\n",
       "ar.L2         -0.5409      0.108     -4.992      0.000      -0.753      -0.329\n",
       "ar.L3          0.3807      0.090      4.246      0.000       0.205       0.556\n",
       "ma.L1          0.2732      0.077      3.535      0.000       0.122       0.425\n",
       "ma.L2          0.0631      0.073      0.868      0.385      -0.079       0.205\n",
       "ma.L3         -0.7942      0.072    -11.107      0.000      -0.934      -0.654\n",
       "ar.S.L12       0.3469     85.755      0.004      0.997    -167.729     168.423\n",
       "ar.S.L24       0.5707     29.007      0.020      0.984     -56.282      57.423\n",
       "ar.S.L36      -0.0025     49.468  -5.01e-05      1.000     -96.958      96.953\n",
       "ma.S.L12      -0.0400     85.746     -0.000      1.000    -168.099     168.019\n",
       "ma.S.L24      -0.5559      2.691     -0.207      0.836      -5.831       4.719\n",
       "ma.S.L36       0.0040     47.955    8.3e-05      1.000     -93.986      93.994\n",
       "sigma2      5.229e+08      0.000   5.15e+12      0.000    5.23e+08    5.23e+08\n",
       "===================================================================================\n",
       "Ljung-Box (Q):                       55.39   Jarque-Bera (JB):                95.08\n",
       "Prob(Q):                              0.05   Prob(JB):                         0.00\n",
       "Heteroskedasticity (H):               2.91   Skew:                            -0.20\n",
       "Prob(H) (two-sided):                  0.00   Kurtosis:                         5.21\n",
       "===================================================================================\n",
       "\n",
       "Warnings:\n",
       "[1] Covariance matrix calculated using the outer product of gradients (complex-step).\n",
       "[2] Covariance matrix is singular or near-singular, with condition number 1.44e+28. Standard errors may be unstable.\n",
       "\"\"\""
      ]
     },
     "execution_count": 20,
     "metadata": {},
     "output_type": "execute_result"
    }
   ],
   "source": [
    "arima_model = SARIMAX(train_data['valor'], order = (3,1,3), seasonal_order = (3,0,3,12))\n",
    "arima_result = arima_model.fit()\n",
    "arima_result.summary()"
   ]
  },
  {
   "cell_type": "markdown",
   "metadata": {},
   "source": [
    "**Vamos comparar o modelo.**"
   ]
  },
  {
   "cell_type": "code",
   "execution_count": 21,
   "metadata": {},
   "outputs": [
    {
     "data": {
      "text/plain": [
       "2018-10-01    249396.494838\n",
       "2018-11-01    245123.873012\n",
       "2018-12-01    250768.012282\n",
       "2019-01-01    218875.325186\n",
       "2019-02-01    205909.819918\n",
       "2019-03-01    232919.794924\n",
       "2019-04-01    248475.876007\n",
       "2019-05-01    231175.734169\n",
       "2019-06-01    234578.999549\n",
       "2019-07-01    251787.820688\n",
       "2019-08-01    250039.436622\n",
       "2019-09-01    229509.348009\n",
       "2019-10-01    248885.190957\n",
       "2019-11-01    237159.254059\n",
       "2019-12-01    261085.184819\n",
       "2020-01-01    220748.847045\n",
       "2020-02-01    201607.721058\n",
       "2020-03-01    242058.306437\n",
       "2020-04-01    241611.440137\n",
       "2020-05-01    233549.237505\n",
       "2020-06-01    246766.343328\n",
       "2020-07-01    249009.320374\n",
       "2020-08-01    245296.955252\n",
       "2020-09-01    242111.254141\n",
       "Freq: MS, Name: Previsão ARIMA, dtype: float64"
      ]
     },
     "execution_count": 21,
     "metadata": {},
     "output_type": "execute_result"
    }
   ],
   "source": [
    "arima_pred = arima_result.predict(start = len(train_data), end = len(data)-1, typ=\"levels\").rename(\"Previsão ARIMA\")\n",
    "arima_pred"
   ]
  },
  {
   "cell_type": "code",
   "execution_count": 22,
   "metadata": {},
   "outputs": [
    {
     "data": {
      "image/png": "[encoded data removed]",
      "text/plain": [
       "<Figure size 1152x360 with 1 Axes>"
      ]
     },
     "metadata": {
      "needs_background": "light"
     },
     "output_type": "display_data"
    }
   ],
   "source": [
    "test_data['valor'].plot(figsize = (16,5), legend=True)\n",
    "arima_pred.plot(legend = True);"
   ]
  },
  {
   "cell_type": "markdown",
   "metadata": {},
   "source": [
    "**Note como a previsão do modelo ARIMA se comporta, observe também que ele não consegue acompanhar a queda brusca que tivemos nas vendas de Autoveículos no mes de abril até maio, isso se dá ao fato que nesses dois mês tivemos o pico do  da COVID-19 no Brasil onde a população teve que ficar confinada em seus lares e fabricas e lojas tiveram que ser fechadas para conter o  avanço dos casos da COVID no país.**"
   ]
  },
  {
   "cell_type": "markdown",
   "metadata": {},
   "source": [
    "**Por esse motivo essa queda brusta será muito dificil de ser acompanlhada, poís uma queda desse tipo não ocorreu nos 39 anos anteriores.**"
   ]
  },
  {
   "cell_type": "code",
   "execution_count": 23,
   "metadata": {},
   "outputs": [
    {
     "name": "stdout",
     "output_type": "stream",
     "text": [
      "MSE Error: 3921934631.3004847\n",
      "RMSE Error: 62625.35134672288\n",
      "Mean: 158795.67714884697\n"
     ]
    }
   ],
   "source": [
    "arima_rmse_error = rmse(test_data['valor'], arima_pred)\n",
    "arima_mse_error = arima_rmse_error**2\n",
    "mean_value = data['valor'].mean()\n",
    "\n",
    "print(f'MSE Error: {arima_mse_error}\\nRMSE Error: {arima_rmse_error}\\nMean: {mean_value}')"
   ]
  },
  {
   "cell_type": "code",
   "execution_count": 24,
   "metadata": {},
   "outputs": [],
   "source": [
    "test_data['ARIMA_Predictions'] = arima_pred"
   ]
  },
  {
   "cell_type": "markdown",
   "metadata": {},
   "source": [
    "              "
   ]
  },
  {
   "cell_type": "markdown",
   "metadata": {},
   "source": [
    "            "
   ]
  },
  {
   "cell_type": "markdown",
   "metadata": {},
   "source": [
    "            "
   ]
  },
  {
   "cell_type": "markdown",
   "metadata": {},
   "source": [
    "# Previsão com o LSTM"
   ]
  },
  {
   "cell_type": "markdown",
   "metadata": {},
   "source": [
    "**Primeiro passo vamos fazer a normalização dos dados com o MinMaxScaler**"
   ]
  },
  {
   "cell_type": "code",
   "execution_count": 25,
   "metadata": {},
   "outputs": [],
   "source": [
    "from sklearn.preprocessing import MinMaxScaler\n",
    "scaler = MinMaxScaler()"
   ]
  },
  {
   "cell_type": "code",
   "execution_count": 26,
   "metadata": {},
   "outputs": [],
   "source": [
    "scaler.fit(train_data)\n",
    "scaled_train_data = scaler.transform(train_data)\n",
    "scaled_test_data = scaler.transform(test_data)"
   ]
  },
  {
   "cell_type": "markdown",
   "metadata": {},
   "source": [
    "**Para utilizar o LSTM vamos usar o Time Series Generator object.**"
   ]
  },
  {
   "cell_type": "code",
   "execution_count": 27,
   "metadata": {},
   "outputs": [
    {
     "name": "stderr",
     "output_type": "stream",
     "text": [
      "Using TensorFlow backend.\n"
     ]
    }
   ],
   "source": [
    "from keras.preprocessing.sequence import TimeseriesGenerator\n",
    "\n",
    "n_input = 24\n",
    "n_features= 1\n",
    "generator = TimeseriesGenerator(scaled_train_data, scaled_train_data, length=n_input, batch_size=8)"
   ]
  },
  {
   "cell_type": "code",
   "execution_count": 28,
   "metadata": {},
   "outputs": [],
   "source": [
    "from keras.models import Sequential\n",
    "from keras.layers import Dense\n",
    "from keras.layers import LSTM"
   ]
  },
  {
   "cell_type": "markdown",
   "metadata": {},
   "source": [
    "**Criação da Rede com o Keras**"
   ]
  },
  {
   "cell_type": "code",
   "execution_count": 29,
   "metadata": {},
   "outputs": [],
   "source": [
    "lstm_model = Sequential()"
   ]
  },
  {
   "cell_type": "markdown",
   "metadata": {},
   "source": [
    "**Camadas da LSTM**"
   ]
  },
  {
   "cell_type": "code",
   "execution_count": 30,
   "metadata": {},
   "outputs": [],
   "source": [
    "lstm_model.add(LSTM(200, activation='relu', input_shape=(n_input, n_features)))\n",
    "lstm_model.add(Dense(1))"
   ]
  },
  {
   "cell_type": "markdown",
   "metadata": {},
   "source": [
    "**Compilação do Modelo**"
   ]
  },
  {
   "cell_type": "code",
   "execution_count": 31,
   "metadata": {},
   "outputs": [],
   "source": [
    "lstm_model.compile(optimizer='adam', loss='mse')"
   ]
  },
  {
   "cell_type": "markdown",
   "metadata": {},
   "source": [
    "**Sumário do Modelo**"
   ]
  },
  {
   "cell_type": "code",
   "execution_count": 32,
   "metadata": {},
   "outputs": [
    {
     "name": "stdout",
     "output_type": "stream",
     "text": [
      "Model: \"sequential_1\"\n",
      "_________________________________________________________________\n",
      "Layer (type)                 Output Shape              Param #   \n",
      "=================================================================\n",
      "lstm_1 (LSTM)                (None, 200)               161600    \n",
      "_________________________________________________________________\n",
      "dense_1 (Dense)              (None, 1)                 201       \n",
      "=================================================================\n",
      "Total params: 161,801\n",
      "Trainable params: 161,801\n",
      "Non-trainable params: 0\n",
      "_________________________________________________________________\n"
     ]
    }
   ],
   "source": [
    "lstm_model.summary()"
   ]
  },
  {
   "cell_type": "markdown",
   "metadata": {},
   "source": [
    "**Ajuste do Modelo**"
   ]
  },
  {
   "cell_type": "code",
   "execution_count": 33,
   "metadata": {
    "scrolled": true
   },
   "outputs": [
    {
     "name": "stdout",
     "output_type": "stream",
     "text": [
      "Epoch 1/200\n",
      "54/54 [==============================] - 2s 35ms/step - loss: 0.0236\n",
      "Epoch 2/200\n",
      "54/54 [==============================] - 2s 28ms/step - loss: 0.0074: \n",
      "Epoch 3/200\n",
      "54/54 [==============================] - 1s 28ms/step - loss: 0.0090: 0s \n",
      "Epoch 4/200\n",
      "54/54 [==============================] - 2s 29ms/step - loss: 0.0077\n",
      "Epoch 5/200\n",
      "54/54 [==============================] - 2s 31ms/step - loss: 0.0056\n",
      "Epoch 6/200\n",
      "54/54 [==============================] - 2s 29ms/step - loss: 0.0065\n",
      "Epoch 7/200\n",
      "54/54 [==============================] - 1s 28ms/step - loss: 0.0077\n",
      "Epoch 8/200\n",
      "54/54 [==============================] - 2s 28ms/step - loss: 0.0054\n",
      "Epoch 9/200\n",
      "54/54 [==============================] - 1s 27ms/step - loss: 0.0058\n",
      "Epoch 10/200\n",
      "54/54 [==============================] - 1s 27ms/step - loss: 0.0090\n",
      "Epoch 11/200\n",
      "54/54 [==============================] - 1s 28ms/step - loss: 0.0055\n",
      "Epoch 12/200\n",
      "54/54 [==============================] - 1s 28ms/step - loss: 0.0054\n",
      "Epoch 13/200\n",
      "54/54 [==============================] - 2s 28ms/step - loss: 0.0053\n",
      "Epoch 14/200\n",
      "54/54 [==============================] - 2s 28ms/step - loss: 0.0055\n",
      "Epoch 15/200\n",
      "54/54 [==============================] - 1s 27ms/step - loss: 0.0051\n",
      "Epoch 16/200\n",
      "54/54 [==============================] - 2s 28ms/step - loss: 0.0054\n",
      "Epoch 17/200\n",
      "54/54 [==============================] - 2s 28ms/step - loss: 0.0050\n",
      "Epoch 18/200\n",
      "54/54 [==============================] - 2s 28ms/step - loss: 0.0056\n",
      "Epoch 19/200\n",
      "54/54 [==============================] - 2s 28ms/step - loss: 0.0051\n",
      "Epoch 20/200\n",
      "54/54 [==============================] - 2s 29ms/step - loss: 0.0060\n",
      "Epoch 21/200\n",
      "54/54 [==============================] - 2s 28ms/step - loss: 0.0052\n",
      "Epoch 22/200\n",
      "54/54 [==============================] - 2s 28ms/step - loss: 0.0051\n",
      "Epoch 23/200\n",
      "54/54 [==============================] - 1s 28ms/step - loss: 0.0054\n",
      "Epoch 24/200\n",
      "54/54 [==============================] - 2s 29ms/step - loss: 0.0057\n",
      "Epoch 25/200\n",
      "54/54 [==============================] - 2s 29ms/step - loss: 0.0056\n",
      "Epoch 26/200\n",
      "54/54 [==============================] - 2s 28ms/step - loss: 0.0056\n",
      "Epoch 27/200\n",
      "54/54 [==============================] - 1s 28ms/step - loss: 0.0050\n",
      "Epoch 28/200\n",
      "54/54 [==============================] - 2s 28ms/step - loss: 0.0050\n",
      "Epoch 29/200\n",
      "54/54 [==============================] - 1s 27ms/step - loss: 0.0052\n",
      "Epoch 30/200\n",
      "54/54 [==============================] - 2s 29ms/step - loss: 0.0051\n",
      "Epoch 31/200\n",
      "54/54 [==============================] - 2s 28ms/step - loss: 0.0050\n",
      "Epoch 32/200\n",
      "54/54 [==============================] - 2s 30ms/step - loss: 0.0051\n",
      "Epoch 33/200\n",
      "54/54 [==============================] - 2s 28ms/step - loss: 0.0050\n",
      "Epoch 34/200\n",
      "54/54 [==============================] - 2s 28ms/step - loss: 0.0057\n",
      "Epoch 35/200\n",
      "54/54 [==============================] - 1s 28ms/step - loss: 0.0051\n",
      "Epoch 36/200\n",
      "54/54 [==============================] - 2s 30ms/step - loss: 0.0050\n",
      "Epoch 37/200\n",
      "54/54 [==============================] - 2s 29ms/step - loss: 0.0052\n",
      "Epoch 38/200\n",
      "54/54 [==============================] - 2s 33ms/step - loss: 0.0050\n",
      "Epoch 39/200\n",
      "54/54 [==============================] - 2s 28ms/step - loss: 0.0049\n",
      "Epoch 40/200\n",
      "54/54 [==============================] - 2s 29ms/step - loss: 0.0050\n",
      "Epoch 41/200\n",
      "54/54 [==============================] - 2s 31ms/step - loss: 0.0048\n",
      "Epoch 42/200\n",
      "54/54 [==============================] - 2s 35ms/step - loss: 0.0049: 0s \n",
      "Epoch 43/200\n",
      "54/54 [==============================] - 2s 33ms/step - loss: 0.0052\n",
      "Epoch 44/200\n",
      "54/54 [==============================] - 2s 32ms/step - loss: 0.0050\n",
      "Epoch 45/200\n",
      "54/54 [==============================] - 2s 32ms/step - loss: 0.0050\n",
      "Epoch 46/200\n",
      "54/54 [==============================] - 1s 28ms/step - loss: 0.0057\n",
      "Epoch 47/200\n",
      "54/54 [==============================] - 1s 28ms/step - loss: 0.0050\n",
      "Epoch 48/200\n",
      "54/54 [==============================] - 1s 27ms/step - loss: 0.0051\n",
      "Epoch 49/200\n",
      "54/54 [==============================] - 1s 28ms/step - loss: 0.0049\n",
      "Epoch 50/200\n",
      "54/54 [==============================] - 2s 29ms/step - loss: 0.0048\n",
      "Epoch 51/200\n",
      "54/54 [==============================] - 2s 30ms/step - loss: 0.0049\n",
      "Epoch 52/200\n",
      "54/54 [==============================] - 2s 29ms/step - loss: 0.0049\n",
      "Epoch 53/200\n",
      "54/54 [==============================] - 2s 29ms/step - loss: 0.0051\n",
      "Epoch 54/200\n",
      "54/54 [==============================] - 2s 28ms/step - loss: 0.0048\n",
      "Epoch 55/200\n",
      "54/54 [==============================] - 2s 28ms/step - loss: 0.0047: 0s - los\n",
      "Epoch 56/200\n",
      "54/54 [==============================] - 1s 28ms/step - loss: 0.0047\n",
      "Epoch 57/200\n",
      "54/54 [==============================] - 1s 28ms/step - loss: 0.0047\n",
      "Epoch 58/200\n",
      "54/54 [==============================] - 2s 29ms/step - loss: 0.0047\n",
      "Epoch 59/200\n",
      "54/54 [==============================] - 2s 28ms/step - loss: 0.0047\n",
      "Epoch 60/200\n",
      "54/54 [==============================] - 2s 28ms/step - loss: 0.0048\n",
      "Epoch 61/200\n",
      "54/54 [==============================] - 2s 39ms/step - loss: 0.0049\n",
      "Epoch 62/200\n",
      "54/54 [==============================] - 2s 36ms/step - loss: 0.0046: 0s - loss: 0\n",
      "Epoch 63/200\n",
      "54/54 [==============================] - 2s 28ms/step - loss: 0.0051\n",
      "Epoch 64/200\n",
      "54/54 [==============================] - 2s 30ms/step - loss: 0.0048\n",
      "Epoch 65/200\n",
      "54/54 [==============================] - 2s 29ms/step - loss: 0.0049\n",
      "Epoch 66/200\n",
      "54/54 [==============================] - 2s 29ms/step - loss: 0.0052\n",
      "Epoch 67/200\n",
      "54/54 [==============================] - 2s 29ms/step - loss: 0.0047\n",
      "Epoch 68/200\n",
      "54/54 [==============================] - 2s 29ms/step - loss: 0.0047\n",
      "Epoch 69/200\n",
      "54/54 [==============================] - 2s 29ms/step - loss: 0.0051\n",
      "Epoch 70/200\n",
      "54/54 [==============================] - 2s 34ms/step - loss: 0.0046\n",
      "Epoch 71/200\n",
      "54/54 [==============================] - 2s 32ms/step - loss: 0.0047\n",
      "Epoch 72/200\n",
      "54/54 [==============================] - 2s 29ms/step - loss: 0.0047\n",
      "Epoch 73/200\n",
      "54/54 [==============================] - 2s 28ms/step - loss: 0.0051\n",
      "Epoch 74/200\n",
      "54/54 [==============================] - 2s 29ms/step - loss: 0.0048\n",
      "Epoch 75/200\n",
      "54/54 [==============================] - 2s 28ms/step - loss: 0.0047\n",
      "Epoch 76/200\n",
      "54/54 [==============================] - 2s 29ms/step - loss: 0.0046\n",
      "Epoch 77/200\n",
      "54/54 [==============================] - 2s 29ms/step - loss: 0.0047\n",
      "Epoch 78/200\n",
      "54/54 [==============================] - 1s 28ms/step - loss: 0.0049\n",
      "Epoch 79/200\n",
      "54/54 [==============================] - 2s 29ms/step - loss: 0.0047\n",
      "Epoch 80/200\n",
      "54/54 [==============================] - 2s 30ms/step - loss: 0.0046\n",
      "Epoch 81/200\n",
      "54/54 [==============================] - 2s 30ms/step - loss: 0.0047\n",
      "Epoch 82/200\n",
      "54/54 [==============================] - 2s 30ms/step - loss: 0.0048\n",
      "Epoch 83/200\n",
      "54/54 [==============================] - 2s 28ms/step - loss: 0.0047\n",
      "Epoch 84/200\n",
      "54/54 [==============================] - 2s 28ms/step - loss: 0.0047\n",
      "Epoch 85/200\n",
      "54/54 [==============================] - 2s 29ms/step - loss: 0.0046\n",
      "Epoch 86/200\n",
      "54/54 [==============================] - 2s 28ms/step - loss: 0.0046\n",
      "Epoch 87/200\n",
      "54/54 [==============================] - 2s 28ms/step - loss: 0.0045\n",
      "Epoch 88/200\n",
      "54/54 [==============================] - 2s 28ms/step - loss: 0.0048\n",
      "Epoch 89/200\n",
      "54/54 [==============================] - 2s 28ms/step - loss: 0.0054: 0s - loss: 0\n",
      "Epoch 90/200\n",
      "54/54 [==============================] - 2s 29ms/step - loss: 0.0049\n",
      "Epoch 91/200\n",
      "54/54 [==============================] - 2s 29ms/step - loss: 0.0046\n",
      "Epoch 92/200\n",
      "54/54 [==============================] - 2s 30ms/step - loss: 0.0046\n",
      "Epoch 93/200\n",
      "54/54 [==============================] - 2s 29ms/step - loss: 0.0045\n",
      "Epoch 94/200\n",
      "54/54 [==============================] - 2s 28ms/step - loss: 0.0049\n",
      "Epoch 95/200\n",
      "54/54 [==============================] - 2s 32ms/step - loss: 0.0049\n",
      "Epoch 96/200\n",
      "54/54 [==============================] - 2s 29ms/step - loss: 0.0047: 0s - loss: 0.0\n",
      "Epoch 97/200\n",
      "54/54 [==============================] - 2s 28ms/step - loss: 0.0047\n",
      "Epoch 98/200\n",
      "54/54 [==============================] - 1s 28ms/step - loss: 0.0047\n",
      "Epoch 99/200\n",
      "54/54 [==============================] - 2s 28ms/step - loss: 0.0050\n",
      "Epoch 100/200\n",
      "54/54 [==============================] - 2s 29ms/step - loss: 0.0045: 0\n",
      "Epoch 101/200\n",
      "54/54 [==============================] - 2s 30ms/step - loss: 0.0046\n",
      "Epoch 102/200\n",
      "54/54 [==============================] - 2s 30ms/step - loss: 0.0044\n",
      "Epoch 103/200\n",
      "54/54 [==============================] - 2s 29ms/step - loss: 0.0044\n",
      "Epoch 104/200\n",
      "54/54 [==============================] - 2s 29ms/step - loss: 0.0051: 0s - loss: 0\n",
      "Epoch 105/200\n",
      "54/54 [==============================] - 2s 34ms/step - loss: 0.0046\n",
      "Epoch 106/200\n",
      "54/54 [==============================] - 2s 34ms/step - loss: 0.0043\n",
      "Epoch 107/200\n",
      "54/54 [==============================] - 2s 44ms/step - loss: 0.0043\n",
      "Epoch 108/200\n",
      "54/54 [==============================] - 2s 33ms/step - loss: 0.0046: 0s - loss: 0.00\n",
      "Epoch 109/200\n",
      "54/54 [==============================] - 2s 31ms/step - loss: 0.0048\n",
      "Epoch 110/200\n",
      "54/54 [==============================] - 2s 30ms/step - loss: 0.0043\n",
      "Epoch 111/200\n",
      "54/54 [==============================] - 2s 30ms/step - loss: 0.0044\n",
      "Epoch 112/200\n",
      "54/54 [==============================] - 2s 33ms/step - loss: 0.0043\n",
      "Epoch 113/200\n",
      "54/54 [==============================] - 2s 30ms/step - loss: 0.0044\n",
      "Epoch 114/200\n",
      "54/54 [==============================] - 2s 30ms/step - loss: 0.0046\n",
      "Epoch 115/200\n",
      "54/54 [==============================] - 1s 27ms/step - loss: 0.0042\n",
      "Epoch 116/200\n",
      "54/54 [==============================] - 1s 26ms/step - loss: 0.0046\n",
      "Epoch 117/200\n",
      "54/54 [==============================] - 1s 27ms/step - loss: 0.0043\n",
      "Epoch 118/200\n",
      "54/54 [==============================] - 1s 28ms/step - loss: 0.0047\n",
      "Epoch 119/200\n",
      "54/54 [==============================] - 2s 35ms/step - loss: 0.0044\n",
      "Epoch 120/200\n",
      "54/54 [==============================] - 2s 35ms/step - loss: 0.0043: 0s \n",
      "Epoch 121/200\n",
      "54/54 [==============================] - 2s 34ms/step - loss: 0.0046: 0s - loss: \n",
      "Epoch 122/200\n",
      "54/54 [==============================] - 2s 34ms/step - loss: 0.0044\n",
      "Epoch 123/200\n",
      "54/54 [==============================] - 2s 31ms/step - loss: 0.0043: 1\n",
      "Epoch 124/200\n",
      "54/54 [==============================] - 1s 27ms/step - loss: 0.0044\n",
      "Epoch 125/200\n",
      "54/54 [==============================] - 2s 29ms/step - loss: 0.0042\n",
      "Epoch 126/200\n",
      "54/54 [==============================] - 2s 29ms/step - loss: 0.0042\n",
      "Epoch 127/200\n",
      "54/54 [==============================] - 1s 28ms/step - loss: 0.0042\n",
      "Epoch 128/200\n",
      "54/54 [==============================] - 2s 34ms/step - loss: 0.0042: 0s - lo\n",
      "Epoch 129/200\n",
      "54/54 [==============================] - 2s 30ms/step - loss: 0.0042\n",
      "Epoch 130/200\n",
      "54/54 [==============================] - 2s 37ms/step - loss: 0.0043\n",
      "Epoch 131/200\n",
      "54/54 [==============================] - 2s 30ms/step - loss: 0.0041\n",
      "Epoch 132/200\n",
      "54/54 [==============================] - 2s 35ms/step - loss: 0.0042\n",
      "Epoch 133/200\n",
      "54/54 [==============================] - 2s 30ms/step - loss: 0.0044\n",
      "Epoch 134/200\n",
      "54/54 [==============================] - 2s 33ms/step - loss: 0.0041\n",
      "Epoch 135/200\n",
      "54/54 [==============================] - 2s 35ms/step - loss: 0.0040\n",
      "Epoch 136/200\n",
      "54/54 [==============================] - 2s 38ms/step - loss: 0.0041\n",
      "Epoch 137/200\n",
      "54/54 [==============================] - 2s 37ms/step - loss: 0.0042\n",
      "Epoch 138/200\n",
      "54/54 [==============================] - 2s 38ms/step - loss: 0.0041: 0s - los\n",
      "Epoch 139/200\n",
      "54/54 [==============================] - 2s 34ms/step - loss: 0.0042\n",
      "Epoch 140/200\n",
      "54/54 [==============================] - 2s 33ms/step - loss: 0.0051\n",
      "Epoch 141/200\n",
      "54/54 [==============================] - 2s 32ms/step - loss: 0.0043\n",
      "Epoch 142/200\n",
      "54/54 [==============================] - 2s 30ms/step - loss: 0.0044: 0s - loss: \n",
      "Epoch 143/200\n",
      "54/54 [==============================] - 2s 31ms/step - loss: 0.0042\n",
      "Epoch 144/200\n",
      "54/54 [==============================] - 2s 36ms/step - loss: 0.0041\n",
      "Epoch 145/200\n",
      "54/54 [==============================] - 2s 35ms/step - loss: 0.0043\n",
      "Epoch 146/200\n",
      "54/54 [==============================] - 2s 36ms/step - loss: 0.0039\n",
      "Epoch 147/200\n",
      "54/54 [==============================] - 2s 35ms/step - loss: 0.0040\n",
      "Epoch 148/200\n",
      "54/54 [==============================] - 2s 34ms/step - loss: 0.0040\n",
      "Epoch 149/200\n",
      "54/54 [==============================] - 2s 29ms/step - loss: 0.0042\n",
      "Epoch 150/200\n",
      "54/54 [==============================] - 2s 30ms/step - loss: 0.0043\n",
      "Epoch 151/200\n",
      "54/54 [==============================] - 2s 28ms/step - loss: 0.0040\n",
      "Epoch 152/200\n",
      "54/54 [==============================] - 2s 29ms/step - loss: 0.0039\n",
      "Epoch 153/200\n",
      "54/54 [==============================] - 2s 30ms/step - loss: 0.0040\n",
      "Epoch 154/200\n",
      "54/54 [==============================] - 2s 30ms/step - loss: 0.0038: 0s - loss\n",
      "Epoch 155/200\n",
      "54/54 [==============================] - 2s 29ms/step - loss: 0.0039\n",
      "Epoch 156/200\n",
      "54/54 [==============================] - 2s 31ms/step - loss: 0.0039\n",
      "Epoch 157/200\n",
      "54/54 [==============================] - 2s 42ms/step - loss: 0.0040\n",
      "Epoch 158/200\n",
      "54/54 [==============================] - 2s 42ms/step - loss: 0.0041\n",
      "Epoch 159/200\n",
      "54/54 [==============================] - 2s 34ms/step - loss: 0.0040\n",
      "Epoch 160/200\n",
      "54/54 [==============================] - 2s 36ms/step - loss: 0.0040\n",
      "Epoch 161/200\n",
      "54/54 [==============================] - 2s 30ms/step - loss: 0.0038\n",
      "Epoch 162/200\n",
      "54/54 [==============================] - 2s 29ms/step - loss: 0.0040\n",
      "Epoch 163/200\n",
      "54/54 [==============================] - 2s 31ms/step - loss: 0.0043\n",
      "Epoch 164/200\n",
      "54/54 [==============================] - 2s 36ms/step - loss: 0.0038\n",
      "Epoch 165/200\n",
      "54/54 [==============================] - 2s 38ms/step - loss: 0.0038\n",
      "Epoch 166/200\n",
      "54/54 [==============================] - 2s 44ms/step - loss: 0.0040\n",
      "Epoch 167/200\n",
      "54/54 [==============================] - 3s 50ms/step - loss: 0.0037\n",
      "Epoch 168/200\n",
      "54/54 [==============================] - 2s 42ms/step - loss: 0.0039\n",
      "Epoch 169/200\n",
      "54/54 [==============================] - 2s 41ms/step - loss: 0.0039\n",
      "Epoch 170/200\n",
      "54/54 [==============================] - 2s 35ms/step - loss: 0.0044\n",
      "Epoch 171/200\n",
      "54/54 [==============================] - 2s 40ms/step - loss: 0.0040\n",
      "Epoch 172/200\n",
      "54/54 [==============================] - 2s 36ms/step - loss: 0.0041\n",
      "Epoch 173/200\n",
      "54/54 [==============================] - 3s 47ms/step - loss: 0.0039\n",
      "Epoch 174/200\n",
      "54/54 [==============================] - 2s 38ms/step - loss: 0.0038\n",
      "Epoch 175/200\n",
      "54/54 [==============================] - 2s 38ms/step - loss: 0.0039\n",
      "Epoch 176/200\n",
      "54/54 [==============================] - 3s 47ms/step - loss: 0.0043: 0s - lo\n",
      "Epoch 177/200\n",
      "54/54 [==============================] - 2s 35ms/step - loss: 0.0042\n",
      "Epoch 178/200\n",
      "54/54 [==============================] - 3s 52ms/step - loss: 0.0041\n",
      "Epoch 179/200\n",
      "54/54 [==============================] - 2s 41ms/step - loss: 0.0038\n",
      "Epoch 180/200\n",
      "54/54 [==============================] - 3s 47ms/step - loss: 0.0041\n",
      "Epoch 181/200\n",
      "54/54 [==============================] - 2s 45ms/step - loss: 0.0039: 0s - loss: 0.\n",
      "Epoch 182/200\n",
      "54/54 [==============================] - 2s 39ms/step - loss: 0.0039\n",
      "Epoch 183/200\n",
      "54/54 [==============================] - 3s 48ms/step - loss: 0.0040\n",
      "Epoch 184/200\n",
      "54/54 [==============================] - 2s 46ms/step - loss: 0.0038\n",
      "Epoch 185/200\n",
      "54/54 [==============================] - 2s 45ms/step - loss: 0.0037\n",
      "Epoch 186/200\n",
      "54/54 [==============================] - 2s 40ms/step - loss: 0.0040\n",
      "Epoch 187/200\n",
      "54/54 [==============================] - 3s 49ms/step - loss: 0.0038\n",
      "Epoch 188/200\n",
      "54/54 [==============================] - 3s 47ms/step - loss: 0.0039\n",
      "Epoch 189/200\n",
      "54/54 [==============================] - 2s 41ms/step - loss: 0.0038\n",
      "Epoch 190/200\n",
      "54/54 [==============================] - 3s 61ms/step - loss: 0.0040\n",
      "Epoch 191/200\n",
      "54/54 [==============================] - 2s 41ms/step - loss: 0.0038\n",
      "Epoch 192/200\n",
      "54/54 [==============================] - 2s 41ms/step - loss: 0.0040\n",
      "Epoch 193/200\n",
      "54/54 [==============================] - 2s 41ms/step - loss: 0.0040\n",
      "Epoch 194/200\n",
      "54/54 [==============================] - 2s 35ms/step - loss: 0.0037\n",
      "Epoch 195/200\n",
      "54/54 [==============================] - 2s 32ms/step - loss: 0.0038\n",
      "Epoch 196/200\n",
      "54/54 [==============================] - 2s 31ms/step - loss: 0.0039\n",
      "Epoch 197/200\n",
      "54/54 [==============================] - 2s 33ms/step - loss: 0.0037\n",
      "Epoch 198/200\n",
      "54/54 [==============================] - 2s 31ms/step - loss: 0.0036\n",
      "Epoch 199/200\n",
      "54/54 [==============================] - 2s 34ms/step - loss: 0.0036\n",
      "Epoch 200/200\n",
      "54/54 [==============================] - 2s 33ms/step - loss: 0.0038\n"
     ]
    },
    {
     "data": {
      "text/plain": [
       "<keras.callbacks.callbacks.History at 0x1bb22eeb988>"
      ]
     },
     "execution_count": 33,
     "metadata": {},
     "output_type": "execute_result"
    }
   ],
   "source": [
    "lstm_model.fit_generator(generator, epochs=200)"
   ]
  },
  {
   "cell_type": "code",
   "execution_count": 34,
   "metadata": {},
   "outputs": [],
   "source": [
    "lstm_predictions_scaled = list()\n",
    "\n",
    "batch = scaled_train_data[-n_input:]\n",
    "current_batch = batch.reshape((1, n_input, n_features))\n",
    "\n",
    "for i in range(len(test_data)):   \n",
    "    lstm_pred = lstm_model.predict(current_batch)[0]\n",
    "    lstm_predictions_scaled.append(lstm_pred) \n",
    "    current_batch = np.append(current_batch[:,1:,:],[[lstm_pred]],axis=1)"
   ]
  },
  {
   "cell_type": "markdown",
   "metadata": {},
   "source": [
    "**Como os dados foram normalizados precisamos retorná-los à forma original.**"
   ]
  },
  {
   "cell_type": "markdown",
   "metadata": {},
   "source": [
    "**Esses são os valores normalizados**"
   ]
  },
  {
   "cell_type": "code",
   "execution_count": 35,
   "metadata": {},
   "outputs": [
    {
     "data": {
      "text/plain": [
       "[array([0.54359365], dtype=float32),\n",
       " array([0.53823835], dtype=float32),\n",
       " array([0.54384124], dtype=float32),\n",
       " array([0.46970376], dtype=float32),\n",
       " array([0.47086486], dtype=float32),\n",
       " array([0.51058996], dtype=float32),\n",
       " array([0.49021685], dtype=float32),\n",
       " array([0.50478566], dtype=float32),\n",
       " array([0.49983063], dtype=float32),\n",
       " array([0.48778594], dtype=float32),\n",
       " array([0.48581505], dtype=float32),\n",
       " array([0.47007975], dtype=float32),\n",
       " array([0.45482922], dtype=float32),\n",
       " array([0.45298854], dtype=float32),\n",
       " array([0.4532367], dtype=float32),\n",
       " array([0.43139032], dtype=float32),\n",
       " array([0.4321328], dtype=float32),\n",
       " array([0.4508611], dtype=float32),\n",
       " array([0.45759913], dtype=float32),\n",
       " array([0.4551355], dtype=float32),\n",
       " array([0.4538681], dtype=float32),\n",
       " array([0.45028386], dtype=float32),\n",
       " array([0.4566675], dtype=float32),\n",
       " array([0.44556272], dtype=float32)]"
      ]
     },
     "execution_count": 35,
     "metadata": {},
     "output_type": "execute_result"
    }
   ],
   "source": [
    "lstm_predictions_scaled"
   ]
  },
  {
   "cell_type": "markdown",
   "metadata": {},
   "source": [
    "**Vamos reverter os valores o inverse_transform**"
   ]
  },
  {
   "cell_type": "code",
   "execution_count": 36,
   "metadata": {},
   "outputs": [
    {
     "data": {
      "text/plain": [
       "array([[224728.40881109],\n",
       "       [222865.03269136],\n",
       "       [224814.56042886],\n",
       "       [199018.42458755],\n",
       "       [199422.42880374],\n",
       "       [213244.7756207 ],\n",
       "       [206155.95338702],\n",
       "       [211225.16932845],\n",
       "       [209501.06889218],\n",
       "       [205310.1162231 ],\n",
       "       [204624.34602737],\n",
       "       [199149.24895078],\n",
       "       [193842.82570839],\n",
       "       [193202.36081094],\n",
       "       [193288.70945334],\n",
       "       [185687.26020664],\n",
       "       [185945.61136276],\n",
       "       [192462.11848617],\n",
       "       [194806.61841542],\n",
       "       [193949.39530104],\n",
       "       [193508.40230048],\n",
       "       [192261.26741678],\n",
       "       [194482.4610284 ],\n",
       "       [190618.54852796]])"
      ]
     },
     "execution_count": 36,
     "metadata": {},
     "output_type": "execute_result"
    }
   ],
   "source": [
    "lstm_predictions = scaler.inverse_transform(lstm_predictions_scaled)\n",
    "lstm_predictions"
   ]
  },
  {
   "cell_type": "markdown",
   "metadata": {},
   "source": [
    "### Vamos comparar o modelo."
   ]
  },
  {
   "cell_type": "code",
   "execution_count": 37,
   "metadata": {},
   "outputs": [],
   "source": [
    "test_data['LSTM_Predictions'] = lstm_predictions"
   ]
  },
  {
   "cell_type": "code",
   "execution_count": 38,
   "metadata": {},
   "outputs": [
    {
     "data": {
      "text/html": [
       "<div>\n",
       "<style scoped>\n",
       "    .dataframe tbody tr th:only-of-type {\n",
       "        vertical-align: middle;\n",
       "    }\n",
       "\n",
       "    .dataframe tbody tr th {\n",
       "        vertical-align: top;\n",
       "    }\n",
       "\n",
       "    .dataframe thead th {\n",
       "        text-align: right;\n",
       "    }\n",
       "</style>\n",
       "<table border=\"1\" class=\"dataframe\">\n",
       "  <thead>\n",
       "    <tr style=\"text-align: right;\">\n",
       "      <th></th>\n",
       "      <th>valor</th>\n",
       "      <th>ARIMA_Predictions</th>\n",
       "      <th>LSTM_Predictions</th>\n",
       "    </tr>\n",
       "    <tr>\n",
       "      <th>data</th>\n",
       "      <th></th>\n",
       "      <th></th>\n",
       "      <th></th>\n",
       "    </tr>\n",
       "  </thead>\n",
       "  <tbody>\n",
       "    <tr>\n",
       "      <th>2018-10-01</th>\n",
       "      <td>264434.0</td>\n",
       "      <td>249396.494838</td>\n",
       "      <td>224728.408811</td>\n",
       "    </tr>\n",
       "    <tr>\n",
       "      <th>2018-11-01</th>\n",
       "      <td>239547.0</td>\n",
       "      <td>245123.873012</td>\n",
       "      <td>222865.032691</td>\n",
       "    </tr>\n",
       "    <tr>\n",
       "      <th>2018-12-01</th>\n",
       "      <td>237798.0</td>\n",
       "      <td>250768.012282</td>\n",
       "      <td>224814.560429</td>\n",
       "    </tr>\n",
       "    <tr>\n",
       "      <th>2019-01-01</th>\n",
       "      <td>200890.0</td>\n",
       "      <td>218875.325186</td>\n",
       "      <td>199018.424588</td>\n",
       "    </tr>\n",
       "    <tr>\n",
       "      <th>2019-02-01</th>\n",
       "      <td>217205.0</td>\n",
       "      <td>205909.819918</td>\n",
       "      <td>199422.428804</td>\n",
       "    </tr>\n",
       "    <tr>\n",
       "      <th>2019-03-01</th>\n",
       "      <td>225222.0</td>\n",
       "      <td>232919.794924</td>\n",
       "      <td>213244.775621</td>\n",
       "    </tr>\n",
       "    <tr>\n",
       "      <th>2019-04-01</th>\n",
       "      <td>240679.0</td>\n",
       "      <td>248475.876007</td>\n",
       "      <td>206155.953387</td>\n",
       "    </tr>\n",
       "    <tr>\n",
       "      <th>2019-05-01</th>\n",
       "      <td>261975.0</td>\n",
       "      <td>231175.734169</td>\n",
       "      <td>211225.169328</td>\n",
       "    </tr>\n",
       "    <tr>\n",
       "      <th>2019-06-01</th>\n",
       "      <td>240913.0</td>\n",
       "      <td>234578.999549</td>\n",
       "      <td>209501.068892</td>\n",
       "    </tr>\n",
       "    <tr>\n",
       "      <th>2019-07-01</th>\n",
       "      <td>260607.0</td>\n",
       "      <td>251787.820688</td>\n",
       "      <td>205310.116223</td>\n",
       "    </tr>\n",
       "    <tr>\n",
       "      <th>2019-08-01</th>\n",
       "      <td>253575.0</td>\n",
       "      <td>250039.436622</td>\n",
       "      <td>204624.346027</td>\n",
       "    </tr>\n",
       "    <tr>\n",
       "      <th>2019-09-01</th>\n",
       "      <td>246657.0</td>\n",
       "      <td>229509.348009</td>\n",
       "      <td>199149.248951</td>\n",
       "    </tr>\n",
       "    <tr>\n",
       "      <th>2019-10-01</th>\n",
       "      <td>258149.0</td>\n",
       "      <td>248885.190957</td>\n",
       "      <td>193842.825708</td>\n",
       "    </tr>\n",
       "    <tr>\n",
       "      <th>2019-11-01</th>\n",
       "      <td>250468.0</td>\n",
       "      <td>237159.254059</td>\n",
       "      <td>193202.360811</td>\n",
       "    </tr>\n",
       "    <tr>\n",
       "      <th>2019-12-01</th>\n",
       "      <td>262060.0</td>\n",
       "      <td>261085.184819</td>\n",
       "      <td>193288.709453</td>\n",
       "    </tr>\n",
       "    <tr>\n",
       "      <th>2020-01-01</th>\n",
       "      <td>191704.0</td>\n",
       "      <td>220748.847045</td>\n",
       "      <td>185687.260207</td>\n",
       "    </tr>\n",
       "    <tr>\n",
       "      <th>2020-02-01</th>\n",
       "      <td>217602.0</td>\n",
       "      <td>201607.721058</td>\n",
       "      <td>185945.611363</td>\n",
       "    </tr>\n",
       "    <tr>\n",
       "      <th>2020-03-01</th>\n",
       "      <td>177232.0</td>\n",
       "      <td>242058.306437</td>\n",
       "      <td>192462.118486</td>\n",
       "    </tr>\n",
       "    <tr>\n",
       "      <th>2020-04-01</th>\n",
       "      <td>54580.0</td>\n",
       "      <td>241611.440137</td>\n",
       "      <td>194806.618415</td>\n",
       "    </tr>\n",
       "    <tr>\n",
       "      <th>2020-05-01</th>\n",
       "      <td>56266.0</td>\n",
       "      <td>233549.237505</td>\n",
       "      <td>193949.395301</td>\n",
       "    </tr>\n",
       "    <tr>\n",
       "      <th>2020-06-01</th>\n",
       "      <td>135140.0</td>\n",
       "      <td>246766.343328</td>\n",
       "      <td>193508.402300</td>\n",
       "    </tr>\n",
       "    <tr>\n",
       "      <th>2020-07-01</th>\n",
       "      <td>184818.0</td>\n",
       "      <td>249009.320374</td>\n",
       "      <td>192261.267417</td>\n",
       "    </tr>\n",
       "    <tr>\n",
       "      <th>2020-08-01</th>\n",
       "      <td>193650.0</td>\n",
       "      <td>245296.955252</td>\n",
       "      <td>194482.461028</td>\n",
       "    </tr>\n",
       "    <tr>\n",
       "      <th>2020-09-01</th>\n",
       "      <td>219033.0</td>\n",
       "      <td>242111.254141</td>\n",
       "      <td>190618.548528</td>\n",
       "    </tr>\n",
       "  </tbody>\n",
       "</table>\n",
       "</div>"
      ],
      "text/plain": [
       "               valor  ARIMA_Predictions  LSTM_Predictions\n",
       "data                                                     \n",
       "2018-10-01  264434.0      249396.494838     224728.408811\n",
       "2018-11-01  239547.0      245123.873012     222865.032691\n",
       "2018-12-01  237798.0      250768.012282     224814.560429\n",
       "2019-01-01  200890.0      218875.325186     199018.424588\n",
       "2019-02-01  217205.0      205909.819918     199422.428804\n",
       "2019-03-01  225222.0      232919.794924     213244.775621\n",
       "2019-04-01  240679.0      248475.876007     206155.953387\n",
       "2019-05-01  261975.0      231175.734169     211225.169328\n",
       "2019-06-01  240913.0      234578.999549     209501.068892\n",
       "2019-07-01  260607.0      251787.820688     205310.116223\n",
       "2019-08-01  253575.0      250039.436622     204624.346027\n",
       "2019-09-01  246657.0      229509.348009     199149.248951\n",
       "2019-10-01  258149.0      248885.190957     193842.825708\n",
       "2019-11-01  250468.0      237159.254059     193202.360811\n",
       "2019-12-01  262060.0      261085.184819     193288.709453\n",
       "2020-01-01  191704.0      220748.847045     185687.260207\n",
       "2020-02-01  217602.0      201607.721058     185945.611363\n",
       "2020-03-01  177232.0      242058.306437     192462.118486\n",
       "2020-04-01   54580.0      241611.440137     194806.618415\n",
       "2020-05-01   56266.0      233549.237505     193949.395301\n",
       "2020-06-01  135140.0      246766.343328     193508.402300\n",
       "2020-07-01  184818.0      249009.320374     192261.267417\n",
       "2020-08-01  193650.0      245296.955252     194482.461028\n",
       "2020-09-01  219033.0      242111.254141     190618.548528"
      ]
     },
     "execution_count": 38,
     "metadata": {},
     "output_type": "execute_result"
    }
   ],
   "source": [
    "test_data"
   ]
  },
  {
   "cell_type": "code",
   "execution_count": 39,
   "metadata": {},
   "outputs": [
    {
     "data": {
      "image/png": "[encoded data removed]",
      "text/plain": [
       "<Figure size 1152x360 with 1 Axes>"
      ]
     },
     "metadata": {
      "needs_background": "light"
     },
     "output_type": "display_data"
    }
   ],
   "source": [
    "test_data['valor'].plot(figsize = (16,5), legend=True)\n",
    "test_data['LSTM_Predictions'].plot(legend = True);"
   ]
  },
  {
   "cell_type": "markdown",
   "metadata": {},
   "source": [
    "**Cálculo do Erro**"
   ]
  },
  {
   "cell_type": "code",
   "execution_count": 40,
   "metadata": {},
   "outputs": [
    {
     "name": "stdout",
     "output_type": "stream",
     "text": [
      "MSE Error: 2969022625.8776555\n",
      "RMSE Error: 54488.738523456894\n",
      "Mean: 158795.67714884697\n"
     ]
    }
   ],
   "source": [
    "lstm_rmse_error = rmse(test_data['valor'], test_data[\"LSTM_Predictions\"])\n",
    "lstm_mse_error = lstm_rmse_error**2\n",
    "mean_value = data['valor'].mean()\n",
    "\n",
    "print(f'MSE Error: {lstm_mse_error}\\nRMSE Error: {lstm_rmse_error}\\nMean: {mean_value}')"
   ]
  },
  {
   "cell_type": "markdown",
   "metadata": {},
   "source": [
    "                 "
   ]
  },
  {
   "cell_type": "markdown",
   "metadata": {},
   "source": [
    "           "
   ]
  },
  {
   "cell_type": "markdown",
   "metadata": {},
   "source": [
    "             "
   ]
  },
  {
   "cell_type": "markdown",
   "metadata": {},
   "source": [
    "# Previsão com o Prophet"
   ]
  },
  {
   "cell_type": "code",
   "execution_count": 41,
   "metadata": {},
   "outputs": [
    {
     "name": "stdout",
     "output_type": "stream",
     "text": [
      "<class 'pandas.core.frame.DataFrame'>\n",
      "DatetimeIndex: 477 entries, 1981-01-01 to 2020-09-01\n",
      "Freq: MS\n",
      "Data columns (total 1 columns):\n",
      " #   Column  Non-Null Count  Dtype  \n",
      "---  ------  --------------  -----  \n",
      " 0   valor   477 non-null    float64\n",
      "dtypes: float64(1)\n",
      "memory usage: 7.5 KB\n"
     ]
    }
   ],
   "source": [
    "data.info()"
   ]
  },
  {
   "cell_type": "markdown",
   "metadata": {},
   "source": [
    "**Vamos fazer uma copia do DataSet original**"
   ]
  },
  {
   "cell_type": "code",
   "execution_count": 42,
   "metadata": {},
   "outputs": [],
   "source": [
    "data_pr = data.copy()\n",
    "data_pr = data.reset_index()"
   ]
  },
  {
   "cell_type": "markdown",
   "metadata": {},
   "source": [
    "**Formatação das colunas para o padrão do Prophet**"
   ]
  },
  {
   "cell_type": "code",
   "execution_count": 43,
   "metadata": {},
   "outputs": [],
   "source": [
    "data_pr.columns = ['ds','y'] "
   ]
  },
  {
   "cell_type": "code",
   "execution_count": 44,
   "metadata": {},
   "outputs": [],
   "source": [
    "train_data_pr = data_pr.iloc[:len(data)-24]\n",
    "test_data_pr = data_pr.iloc[len(data)-24:]"
   ]
  },
  {
   "cell_type": "code",
   "execution_count": 45,
   "metadata": {},
   "outputs": [],
   "source": [
    "from fbprophet import Prophet"
   ]
  },
  {
   "cell_type": "code",
   "execution_count": 46,
   "metadata": {},
   "outputs": [
    {
     "name": "stderr",
     "output_type": "stream",
     "text": [
      "INFO:numexpr.utils:NumExpr defaulting to 4 threads.\n",
      "INFO:fbprophet:Disabling weekly seasonality. Run prophet with weekly_seasonality=True to override this.\n",
      "INFO:fbprophet:Disabling daily seasonality. Run prophet with daily_seasonality=True to override this.\n"
     ]
    }
   ],
   "source": [
    "m = Prophet()\n",
    "m.fit(train_data_pr)\n",
    "future = m.make_future_dataframe(periods=24,freq='MS')\n",
    "prophet_pred = m.predict(future)"
   ]
  },
  {
   "cell_type": "code",
   "execution_count": 47,
   "metadata": {},
   "outputs": [
    {
     "data": {
      "text/html": [
       "<div>\n",
       "<style scoped>\n",
       "    .dataframe tbody tr th:only-of-type {\n",
       "        vertical-align: middle;\n",
       "    }\n",
       "\n",
       "    .dataframe tbody tr th {\n",
       "        vertical-align: top;\n",
       "    }\n",
       "\n",
       "    .dataframe thead th {\n",
       "        text-align: right;\n",
       "    }\n",
       "</style>\n",
       "<table border=\"1\" class=\"dataframe\">\n",
       "  <thead>\n",
       "    <tr style=\"text-align: right;\">\n",
       "      <th></th>\n",
       "      <th>ds</th>\n",
       "      <th>trend</th>\n",
       "      <th>yhat_lower</th>\n",
       "      <th>yhat_upper</th>\n",
       "      <th>trend_lower</th>\n",
       "      <th>trend_upper</th>\n",
       "      <th>additive_terms</th>\n",
       "      <th>additive_terms_lower</th>\n",
       "      <th>additive_terms_upper</th>\n",
       "      <th>yearly</th>\n",
       "      <th>yearly_lower</th>\n",
       "      <th>yearly_upper</th>\n",
       "      <th>multiplicative_terms</th>\n",
       "      <th>multiplicative_terms_lower</th>\n",
       "      <th>multiplicative_terms_upper</th>\n",
       "      <th>yhat</th>\n",
       "    </tr>\n",
       "  </thead>\n",
       "  <tbody>\n",
       "    <tr>\n",
       "      <th>460</th>\n",
       "      <td>2019-05-01</td>\n",
       "      <td>217214.991925</td>\n",
       "      <td>194571.498044</td>\n",
       "      <td>256225.983687</td>\n",
       "      <td>217018.755491</td>\n",
       "      <td>217538.623231</td>\n",
       "      <td>8384.058543</td>\n",
       "      <td>8384.058543</td>\n",
       "      <td>8384.058543</td>\n",
       "      <td>8384.058543</td>\n",
       "      <td>8384.058543</td>\n",
       "      <td>8384.058543</td>\n",
       "      <td>0.0</td>\n",
       "      <td>0.0</td>\n",
       "      <td>0.0</td>\n",
       "      <td>225599.050468</td>\n",
       "    </tr>\n",
       "    <tr>\n",
       "      <th>461</th>\n",
       "      <td>2019-06-01</td>\n",
       "      <td>216625.517147</td>\n",
       "      <td>186199.657861</td>\n",
       "      <td>248164.424164</td>\n",
       "      <td>216311.286313</td>\n",
       "      <td>217051.074966</td>\n",
       "      <td>360.715611</td>\n",
       "      <td>360.715611</td>\n",
       "      <td>360.715611</td>\n",
       "      <td>360.715611</td>\n",
       "      <td>360.715611</td>\n",
       "      <td>360.715611</td>\n",
       "      <td>0.0</td>\n",
       "      <td>0.0</td>\n",
       "      <td>0.0</td>\n",
       "      <td>216986.232758</td>\n",
       "    </tr>\n",
       "    <tr>\n",
       "      <th>462</th>\n",
       "      <td>2019-07-01</td>\n",
       "      <td>216055.057685</td>\n",
       "      <td>190726.513785</td>\n",
       "      <td>255044.264541</td>\n",
       "      <td>215677.588839</td>\n",
       "      <td>216597.041016</td>\n",
       "      <td>6322.811012</td>\n",
       "      <td>6322.811012</td>\n",
       "      <td>6322.811012</td>\n",
       "      <td>6322.811012</td>\n",
       "      <td>6322.811012</td>\n",
       "      <td>6322.811012</td>\n",
       "      <td>0.0</td>\n",
       "      <td>0.0</td>\n",
       "      <td>0.0</td>\n",
       "      <td>222377.868696</td>\n",
       "    </tr>\n",
       "    <tr>\n",
       "      <th>463</th>\n",
       "      <td>2019-08-01</td>\n",
       "      <td>215465.582907</td>\n",
       "      <td>201320.916059</td>\n",
       "      <td>262583.234566</td>\n",
       "      <td>214944.359834</td>\n",
       "      <td>216149.165340</td>\n",
       "      <td>15228.730353</td>\n",
       "      <td>15228.730353</td>\n",
       "      <td>15228.730353</td>\n",
       "      <td>15228.730353</td>\n",
       "      <td>15228.730353</td>\n",
       "      <td>15228.730353</td>\n",
       "      <td>0.0</td>\n",
       "      <td>0.0</td>\n",
       "      <td>0.0</td>\n",
       "      <td>230694.313260</td>\n",
       "    </tr>\n",
       "    <tr>\n",
       "      <th>464</th>\n",
       "      <td>2019-09-01</td>\n",
       "      <td>214876.108129</td>\n",
       "      <td>192994.302857</td>\n",
       "      <td>251311.847187</td>\n",
       "      <td>214246.642660</td>\n",
       "      <td>215725.325129</td>\n",
       "      <td>7874.057385</td>\n",
       "      <td>7874.057385</td>\n",
       "      <td>7874.057385</td>\n",
       "      <td>7874.057385</td>\n",
       "      <td>7874.057385</td>\n",
       "      <td>7874.057385</td>\n",
       "      <td>0.0</td>\n",
       "      <td>0.0</td>\n",
       "      <td>0.0</td>\n",
       "      <td>222750.165513</td>\n",
       "    </tr>\n",
       "  </tbody>\n",
       "</table>\n",
       "</div>"
      ],
      "text/plain": [
       "            ds          trend     yhat_lower     yhat_upper    trend_lower  \\\n",
       "460 2019-05-01  217214.991925  194571.498044  256225.983687  217018.755491   \n",
       "461 2019-06-01  216625.517147  186199.657861  248164.424164  216311.286313   \n",
       "462 2019-07-01  216055.057685  190726.513785  255044.264541  215677.588839   \n",
       "463 2019-08-01  215465.582907  201320.916059  262583.234566  214944.359834   \n",
       "464 2019-09-01  214876.108129  192994.302857  251311.847187  214246.642660   \n",
       "\n",
       "       trend_upper  additive_terms  additive_terms_lower  \\\n",
       "460  217538.623231     8384.058543           8384.058543   \n",
       "461  217051.074966      360.715611            360.715611   \n",
       "462  216597.041016     6322.811012           6322.811012   \n",
       "463  216149.165340    15228.730353          15228.730353   \n",
       "464  215725.325129     7874.057385           7874.057385   \n",
       "\n",
       "     additive_terms_upper        yearly  yearly_lower  yearly_upper  \\\n",
       "460           8384.058543   8384.058543   8384.058543   8384.058543   \n",
       "461            360.715611    360.715611    360.715611    360.715611   \n",
       "462           6322.811012   6322.811012   6322.811012   6322.811012   \n",
       "463          15228.730353  15228.730353  15228.730353  15228.730353   \n",
       "464           7874.057385   7874.057385   7874.057385   7874.057385   \n",
       "\n",
       "     multiplicative_terms  multiplicative_terms_lower  \\\n",
       "460                   0.0                         0.0   \n",
       "461                   0.0                         0.0   \n",
       "462                   0.0                         0.0   \n",
       "463                   0.0                         0.0   \n",
       "464                   0.0                         0.0   \n",
       "\n",
       "     multiplicative_terms_upper           yhat  \n",
       "460                         0.0  225599.050468  \n",
       "461                         0.0  216986.232758  \n",
       "462                         0.0  222377.868696  \n",
       "463                         0.0  230694.313260  \n",
       "464                         0.0  222750.165513  "
      ]
     },
     "execution_count": 47,
     "metadata": {},
     "output_type": "execute_result"
    }
   ],
   "source": [
    "prophet_pred.tail()"
   ]
  },
  {
   "cell_type": "code",
   "execution_count": 48,
   "metadata": {},
   "outputs": [],
   "source": [
    "prophet_pred = pd.DataFrame({\"Date\" : prophet_pred[-24:]['ds'], \"Pred\" : prophet_pred[-24:][\"yhat\"]})"
   ]
  },
  {
   "cell_type": "code",
   "execution_count": 49,
   "metadata": {},
   "outputs": [],
   "source": [
    "prophet_pred = prophet_pred.set_index(\"Date\")"
   ]
  },
  {
   "cell_type": "code",
   "execution_count": 50,
   "metadata": {},
   "outputs": [],
   "source": [
    "prophet_pred.index.freq = \"MS\""
   ]
  },
  {
   "cell_type": "code",
   "execution_count": 51,
   "metadata": {},
   "outputs": [
    {
     "data": {
      "text/html": [
       "<div>\n",
       "<style scoped>\n",
       "    .dataframe tbody tr th:only-of-type {\n",
       "        vertical-align: middle;\n",
       "    }\n",
       "\n",
       "    .dataframe tbody tr th {\n",
       "        vertical-align: top;\n",
       "    }\n",
       "\n",
       "    .dataframe thead th {\n",
       "        text-align: right;\n",
       "    }\n",
       "</style>\n",
       "<table border=\"1\" class=\"dataframe\">\n",
       "  <thead>\n",
       "    <tr style=\"text-align: right;\">\n",
       "      <th></th>\n",
       "      <th>Pred</th>\n",
       "    </tr>\n",
       "    <tr>\n",
       "      <th>Date</th>\n",
       "      <th></th>\n",
       "    </tr>\n",
       "  </thead>\n",
       "  <tbody>\n",
       "    <tr>\n",
       "      <th>2017-10-01</th>\n",
       "      <td>236941.803163</td>\n",
       "    </tr>\n",
       "    <tr>\n",
       "      <th>2017-11-01</th>\n",
       "      <td>228577.804952</td>\n",
       "    </tr>\n",
       "    <tr>\n",
       "      <th>2017-12-01</th>\n",
       "      <td>237070.436523</td>\n",
       "    </tr>\n",
       "    <tr>\n",
       "      <th>2018-01-01</th>\n",
       "      <td>203804.848941</td>\n",
       "    </tr>\n",
       "    <tr>\n",
       "      <th>2018-02-01</th>\n",
       "      <td>204252.765282</td>\n",
       "    </tr>\n",
       "    <tr>\n",
       "      <th>2018-03-01</th>\n",
       "      <td>231392.770344</td>\n",
       "    </tr>\n",
       "    <tr>\n",
       "      <th>2018-04-01</th>\n",
       "      <td>222482.749418</td>\n",
       "    </tr>\n",
       "    <tr>\n",
       "      <th>2018-05-01</th>\n",
       "      <td>229889.821346</td>\n",
       "    </tr>\n",
       "    <tr>\n",
       "      <th>2018-06-01</th>\n",
       "      <td>226758.800656</td>\n",
       "    </tr>\n",
       "    <tr>\n",
       "      <th>2018-07-01</th>\n",
       "      <td>230720.202140</td>\n",
       "    </tr>\n",
       "    <tr>\n",
       "      <th>2018-08-01</th>\n",
       "      <td>238404.062484</td>\n",
       "    </tr>\n",
       "    <tr>\n",
       "      <th>2018-09-01</th>\n",
       "      <td>227887.616428</td>\n",
       "    </tr>\n",
       "    <tr>\n",
       "      <th>2018-10-01</th>\n",
       "      <td>230260.606220</td>\n",
       "    </tr>\n",
       "    <tr>\n",
       "      <th>2018-11-01</th>\n",
       "      <td>222741.766583</td>\n",
       "    </tr>\n",
       "    <tr>\n",
       "      <th>2018-12-01</th>\n",
       "      <td>231456.569075</td>\n",
       "    </tr>\n",
       "    <tr>\n",
       "      <th>2019-01-01</th>\n",
       "      <td>193319.645799</td>\n",
       "    </tr>\n",
       "    <tr>\n",
       "      <th>2019-02-01</th>\n",
       "      <td>196205.652251</td>\n",
       "    </tr>\n",
       "    <tr>\n",
       "      <th>2019-03-01</th>\n",
       "      <td>225882.620861</td>\n",
       "    </tr>\n",
       "    <tr>\n",
       "      <th>2019-04-01</th>\n",
       "      <td>216314.728393</td>\n",
       "    </tr>\n",
       "    <tr>\n",
       "      <th>2019-05-01</th>\n",
       "      <td>225599.050468</td>\n",
       "    </tr>\n",
       "    <tr>\n",
       "      <th>2019-06-01</th>\n",
       "      <td>216986.232758</td>\n",
       "    </tr>\n",
       "    <tr>\n",
       "      <th>2019-07-01</th>\n",
       "      <td>222377.868696</td>\n",
       "    </tr>\n",
       "    <tr>\n",
       "      <th>2019-08-01</th>\n",
       "      <td>230694.313260</td>\n",
       "    </tr>\n",
       "    <tr>\n",
       "      <th>2019-09-01</th>\n",
       "      <td>222750.165513</td>\n",
       "    </tr>\n",
       "  </tbody>\n",
       "</table>\n",
       "</div>"
      ],
      "text/plain": [
       "                     Pred\n",
       "Date                     \n",
       "2017-10-01  236941.803163\n",
       "2017-11-01  228577.804952\n",
       "2017-12-01  237070.436523\n",
       "2018-01-01  203804.848941\n",
       "2018-02-01  204252.765282\n",
       "2018-03-01  231392.770344\n",
       "2018-04-01  222482.749418\n",
       "2018-05-01  229889.821346\n",
       "2018-06-01  226758.800656\n",
       "2018-07-01  230720.202140\n",
       "2018-08-01  238404.062484\n",
       "2018-09-01  227887.616428\n",
       "2018-10-01  230260.606220\n",
       "2018-11-01  222741.766583\n",
       "2018-12-01  231456.569075\n",
       "2019-01-01  193319.645799\n",
       "2019-02-01  196205.652251\n",
       "2019-03-01  225882.620861\n",
       "2019-04-01  216314.728393\n",
       "2019-05-01  225599.050468\n",
       "2019-06-01  216986.232758\n",
       "2019-07-01  222377.868696\n",
       "2019-08-01  230694.313260\n",
       "2019-09-01  222750.165513"
      ]
     },
     "execution_count": 51,
     "metadata": {},
     "output_type": "execute_result"
    }
   ],
   "source": [
    "prophet_pred"
   ]
  },
  {
   "cell_type": "code",
   "execution_count": 52,
   "metadata": {},
   "outputs": [],
   "source": [
    "test_data[\"Prophet_Predictions\"] = prophet_pred['Pred'].values"
   ]
  },
  {
   "cell_type": "code",
   "execution_count": 53,
   "metadata": {},
   "outputs": [
    {
     "data": {
      "image/png": "[encoded data removed]",
      "text/plain": [
       "<Figure size 1152x360 with 1 Axes>"
      ]
     },
     "metadata": {
      "needs_background": "light"
     },
     "output_type": "display_data"
    }
   ],
   "source": [
    "import seaborn as sns\n",
    "plt.figure(figsize=(16,5))\n",
    "ax = sns.lineplot(x= test_data.index, y=test_data[\"valor\"])\n",
    "sns.lineplot(x=test_data.index, y = test_data[\"Prophet_Predictions\"]);"
   ]
  },
  {
   "cell_type": "code",
   "execution_count": 54,
   "metadata": {},
   "outputs": [
    {
     "name": "stdout",
     "output_type": "stream",
     "text": [
      "MSE Error: 3073558574.2560344\n",
      "RMSE Error: 55439.684110355774\n",
      "Mean: 158795.67714884697\n"
     ]
    }
   ],
   "source": [
    "prophet_rmse_error = rmse(test_data['valor'], test_data[\"Prophet_Predictions\"])\n",
    "prophet_mse_error = prophet_rmse_error**2\n",
    "mean_value = data['valor'].mean()\n",
    "\n",
    "print(f'MSE Error: {prophet_mse_error}\\nRMSE Error: {prophet_rmse_error}\\nMean: {mean_value}')"
   ]
  },
  {
   "cell_type": "markdown",
   "metadata": {},
   "source": [
    "## Comparativo entre os modelos"
   ]
  },
  {
   "cell_type": "code",
   "execution_count": 55,
   "metadata": {},
   "outputs": [],
   "source": [
    "rmse_errors = [arima_rmse_error, lstm_rmse_error, prophet_rmse_error]\n",
    "mse_errors = [arima_mse_error, lstm_mse_error, prophet_mse_error]\n",
    "errors = pd.DataFrame({\"Models\" : [\"ARIMA\", \"LSTM\", \"Prophet\"],\"RMSE Errors\" : rmse_errors, \"MSE Errors\" : mse_errors})"
   ]
  },
  {
   "cell_type": "code",
   "execution_count": 56,
   "metadata": {},
   "outputs": [
    {
     "data": {
      "image/png": "[encoded data removed]",
      "text/plain": [
       "<Figure size 1152x648 with 1 Axes>"
      ]
     },
     "metadata": {
      "needs_background": "light"
     },
     "output_type": "display_data"
    }
   ],
   "source": [
    "plt.figure(figsize=(16,9))\n",
    "plt.plot_date(test_data.index, test_data[\"valor\"], linestyle=\"-\", label='valor')\n",
    "plt.plot_date(test_data.index, test_data[\"ARIMA_Predictions\"], linestyle=\"-.\", label='ARIMA_Predictions')\n",
    "plt.plot_date(test_data.index, test_data[\"LSTM_Predictions\"], linestyle=\"--\", label='LSTM_Predictions')\n",
    "plt.plot_date(test_data.index, test_data[\"Prophet_Predictions\"], linestyle=\":\", label='Prophet_Predictions')\n",
    "plt.legend()\n",
    "plt.show()"
   ]
  },
  {
   "cell_type": "code",
   "execution_count": 57,
   "metadata": {},
   "outputs": [
    {
     "name": "stdout",
     "output_type": "stream",
     "text": [
      "Mean: 212091.83333333334\n"
     ]
    },
    {
     "data": {
      "text/html": [
       "<div>\n",
       "<style scoped>\n",
       "    .dataframe tbody tr th:only-of-type {\n",
       "        vertical-align: middle;\n",
       "    }\n",
       "\n",
       "    .dataframe tbody tr th {\n",
       "        vertical-align: top;\n",
       "    }\n",
       "\n",
       "    .dataframe thead th {\n",
       "        text-align: right;\n",
       "    }\n",
       "</style>\n",
       "<table border=\"1\" class=\"dataframe\">\n",
       "  <thead>\n",
       "    <tr style=\"text-align: right;\">\n",
       "      <th></th>\n",
       "      <th>Models</th>\n",
       "      <th>RMSE Errors</th>\n",
       "      <th>MSE Errors</th>\n",
       "    </tr>\n",
       "  </thead>\n",
       "  <tbody>\n",
       "    <tr>\n",
       "      <th>0</th>\n",
       "      <td>ARIMA</td>\n",
       "      <td>62625.351347</td>\n",
       "      <td>3.921935e+09</td>\n",
       "    </tr>\n",
       "    <tr>\n",
       "      <th>1</th>\n",
       "      <td>LSTM</td>\n",
       "      <td>54488.738523</td>\n",
       "      <td>2.969023e+09</td>\n",
       "    </tr>\n",
       "    <tr>\n",
       "      <th>2</th>\n",
       "      <td>Prophet</td>\n",
       "      <td>55439.684110</td>\n",
       "      <td>3.073559e+09</td>\n",
       "    </tr>\n",
       "  </tbody>\n",
       "</table>\n",
       "</div>"
      ],
      "text/plain": [
       "    Models   RMSE Errors    MSE Errors\n",
       "0    ARIMA  62625.351347  3.921935e+09\n",
       "1     LSTM  54488.738523  2.969023e+09\n",
       "2  Prophet  55439.684110  3.073559e+09"
      ]
     },
     "execution_count": 57,
     "metadata": {},
     "output_type": "execute_result"
    }
   ],
   "source": [
    "print(f\"Mean: {test_data['valor'].mean()}\")\n",
    "errors"
   ]
  },
  {
   "cell_type": "code",
   "execution_count": 58,
   "metadata": {},
   "outputs": [
    {
     "data": {
      "text/html": [
       "<div>\n",
       "<style scoped>\n",
       "    .dataframe tbody tr th:only-of-type {\n",
       "        vertical-align: middle;\n",
       "    }\n",
       "\n",
       "    .dataframe tbody tr th {\n",
       "        vertical-align: top;\n",
       "    }\n",
       "\n",
       "    .dataframe thead th {\n",
       "        text-align: right;\n",
       "    }\n",
       "</style>\n",
       "<table border=\"1\" class=\"dataframe\">\n",
       "  <thead>\n",
       "    <tr style=\"text-align: right;\">\n",
       "      <th></th>\n",
       "      <th>valor</th>\n",
       "      <th>ARIMA_Predictions</th>\n",
       "      <th>LSTM_Predictions</th>\n",
       "      <th>Prophet_Predictions</th>\n",
       "    </tr>\n",
       "    <tr>\n",
       "      <th>data</th>\n",
       "      <th></th>\n",
       "      <th></th>\n",
       "      <th></th>\n",
       "      <th></th>\n",
       "    </tr>\n",
       "  </thead>\n",
       "  <tbody>\n",
       "    <tr>\n",
       "      <th>2018-10-01</th>\n",
       "      <td>264434.0</td>\n",
       "      <td>249396.494838</td>\n",
       "      <td>224728.408811</td>\n",
       "      <td>236941.803163</td>\n",
       "    </tr>\n",
       "    <tr>\n",
       "      <th>2018-11-01</th>\n",
       "      <td>239547.0</td>\n",
       "      <td>245123.873012</td>\n",
       "      <td>222865.032691</td>\n",
       "      <td>228577.804952</td>\n",
       "    </tr>\n",
       "    <tr>\n",
       "      <th>2018-12-01</th>\n",
       "      <td>237798.0</td>\n",
       "      <td>250768.012282</td>\n",
       "      <td>224814.560429</td>\n",
       "      <td>237070.436523</td>\n",
       "    </tr>\n",
       "    <tr>\n",
       "      <th>2019-01-01</th>\n",
       "      <td>200890.0</td>\n",
       "      <td>218875.325186</td>\n",
       "      <td>199018.424588</td>\n",
       "      <td>203804.848941</td>\n",
       "    </tr>\n",
       "    <tr>\n",
       "      <th>2019-02-01</th>\n",
       "      <td>217205.0</td>\n",
       "      <td>205909.819918</td>\n",
       "      <td>199422.428804</td>\n",
       "      <td>204252.765282</td>\n",
       "    </tr>\n",
       "    <tr>\n",
       "      <th>2019-03-01</th>\n",
       "      <td>225222.0</td>\n",
       "      <td>232919.794924</td>\n",
       "      <td>213244.775621</td>\n",
       "      <td>231392.770344</td>\n",
       "    </tr>\n",
       "    <tr>\n",
       "      <th>2019-04-01</th>\n",
       "      <td>240679.0</td>\n",
       "      <td>248475.876007</td>\n",
       "      <td>206155.953387</td>\n",
       "      <td>222482.749418</td>\n",
       "    </tr>\n",
       "    <tr>\n",
       "      <th>2019-05-01</th>\n",
       "      <td>261975.0</td>\n",
       "      <td>231175.734169</td>\n",
       "      <td>211225.169328</td>\n",
       "      <td>229889.821346</td>\n",
       "    </tr>\n",
       "    <tr>\n",
       "      <th>2019-06-01</th>\n",
       "      <td>240913.0</td>\n",
       "      <td>234578.999549</td>\n",
       "      <td>209501.068892</td>\n",
       "      <td>226758.800656</td>\n",
       "    </tr>\n",
       "    <tr>\n",
       "      <th>2019-07-01</th>\n",
       "      <td>260607.0</td>\n",
       "      <td>251787.820688</td>\n",
       "      <td>205310.116223</td>\n",
       "      <td>230720.202140</td>\n",
       "    </tr>\n",
       "    <tr>\n",
       "      <th>2019-08-01</th>\n",
       "      <td>253575.0</td>\n",
       "      <td>250039.436622</td>\n",
       "      <td>204624.346027</td>\n",
       "      <td>238404.062484</td>\n",
       "    </tr>\n",
       "    <tr>\n",
       "      <th>2019-09-01</th>\n",
       "      <td>246657.0</td>\n",
       "      <td>229509.348009</td>\n",
       "      <td>199149.248951</td>\n",
       "      <td>227887.616428</td>\n",
       "    </tr>\n",
       "    <tr>\n",
       "      <th>2019-10-01</th>\n",
       "      <td>258149.0</td>\n",
       "      <td>248885.190957</td>\n",
       "      <td>193842.825708</td>\n",
       "      <td>230260.606220</td>\n",
       "    </tr>\n",
       "    <tr>\n",
       "      <th>2019-11-01</th>\n",
       "      <td>250468.0</td>\n",
       "      <td>237159.254059</td>\n",
       "      <td>193202.360811</td>\n",
       "      <td>222741.766583</td>\n",
       "    </tr>\n",
       "    <tr>\n",
       "      <th>2019-12-01</th>\n",
       "      <td>262060.0</td>\n",
       "      <td>261085.184819</td>\n",
       "      <td>193288.709453</td>\n",
       "      <td>231456.569075</td>\n",
       "    </tr>\n",
       "    <tr>\n",
       "      <th>2020-01-01</th>\n",
       "      <td>191704.0</td>\n",
       "      <td>220748.847045</td>\n",
       "      <td>185687.260207</td>\n",
       "      <td>193319.645799</td>\n",
       "    </tr>\n",
       "    <tr>\n",
       "      <th>2020-02-01</th>\n",
       "      <td>217602.0</td>\n",
       "      <td>201607.721058</td>\n",
       "      <td>185945.611363</td>\n",
       "      <td>196205.652251</td>\n",
       "    </tr>\n",
       "    <tr>\n",
       "      <th>2020-03-01</th>\n",
       "      <td>177232.0</td>\n",
       "      <td>242058.306437</td>\n",
       "      <td>192462.118486</td>\n",
       "      <td>225882.620861</td>\n",
       "    </tr>\n",
       "    <tr>\n",
       "      <th>2020-04-01</th>\n",
       "      <td>54580.0</td>\n",
       "      <td>241611.440137</td>\n",
       "      <td>194806.618415</td>\n",
       "      <td>216314.728393</td>\n",
       "    </tr>\n",
       "    <tr>\n",
       "      <th>2020-05-01</th>\n",
       "      <td>56266.0</td>\n",
       "      <td>233549.237505</td>\n",
       "      <td>193949.395301</td>\n",
       "      <td>225599.050468</td>\n",
       "    </tr>\n",
       "    <tr>\n",
       "      <th>2020-06-01</th>\n",
       "      <td>135140.0</td>\n",
       "      <td>246766.343328</td>\n",
       "      <td>193508.402300</td>\n",
       "      <td>216986.232758</td>\n",
       "    </tr>\n",
       "    <tr>\n",
       "      <th>2020-07-01</th>\n",
       "      <td>184818.0</td>\n",
       "      <td>249009.320374</td>\n",
       "      <td>192261.267417</td>\n",
       "      <td>222377.868696</td>\n",
       "    </tr>\n",
       "    <tr>\n",
       "      <th>2020-08-01</th>\n",
       "      <td>193650.0</td>\n",
       "      <td>245296.955252</td>\n",
       "      <td>194482.461028</td>\n",
       "      <td>230694.313260</td>\n",
       "    </tr>\n",
       "    <tr>\n",
       "      <th>2020-09-01</th>\n",
       "      <td>219033.0</td>\n",
       "      <td>242111.254141</td>\n",
       "      <td>190618.548528</td>\n",
       "      <td>222750.165513</td>\n",
       "    </tr>\n",
       "  </tbody>\n",
       "</table>\n",
       "</div>"
      ],
      "text/plain": [
       "               valor  ARIMA_Predictions  LSTM_Predictions  Prophet_Predictions\n",
       "data                                                                          \n",
       "2018-10-01  264434.0      249396.494838     224728.408811        236941.803163\n",
       "2018-11-01  239547.0      245123.873012     222865.032691        228577.804952\n",
       "2018-12-01  237798.0      250768.012282     224814.560429        237070.436523\n",
       "2019-01-01  200890.0      218875.325186     199018.424588        203804.848941\n",
       "2019-02-01  217205.0      205909.819918     199422.428804        204252.765282\n",
       "2019-03-01  225222.0      232919.794924     213244.775621        231392.770344\n",
       "2019-04-01  240679.0      248475.876007     206155.953387        222482.749418\n",
       "2019-05-01  261975.0      231175.734169     211225.169328        229889.821346\n",
       "2019-06-01  240913.0      234578.999549     209501.068892        226758.800656\n",
       "2019-07-01  260607.0      251787.820688     205310.116223        230720.202140\n",
       "2019-08-01  253575.0      250039.436622     204624.346027        238404.062484\n",
       "2019-09-01  246657.0      229509.348009     199149.248951        227887.616428\n",
       "2019-10-01  258149.0      248885.190957     193842.825708        230260.606220\n",
       "2019-11-01  250468.0      237159.254059     193202.360811        222741.766583\n",
       "2019-12-01  262060.0      261085.184819     193288.709453        231456.569075\n",
       "2020-01-01  191704.0      220748.847045     185687.260207        193319.645799\n",
       "2020-02-01  217602.0      201607.721058     185945.611363        196205.652251\n",
       "2020-03-01  177232.0      242058.306437     192462.118486        225882.620861\n",
       "2020-04-01   54580.0      241611.440137     194806.618415        216314.728393\n",
       "2020-05-01   56266.0      233549.237505     193949.395301        225599.050468\n",
       "2020-06-01  135140.0      246766.343328     193508.402300        216986.232758\n",
       "2020-07-01  184818.0      249009.320374     192261.267417        222377.868696\n",
       "2020-08-01  193650.0      245296.955252     194482.461028        230694.313260\n",
       "2020-09-01  219033.0      242111.254141     190618.548528        222750.165513"
      ]
     },
     "execution_count": 58,
     "metadata": {},
     "output_type": "execute_result"
    }
   ],
   "source": [
    "test_data"
   ]
  },
  {
   "cell_type": "code",
   "execution_count": null,
   "metadata": {},
   "outputs": [],
   "source": []
  },
  {
   "cell_type": "code",
   "execution_count": null,
   "metadata": {},
   "outputs": [],
   "source": []
  },
  {
   "cell_type": "code",
   "execution_count": null,
   "metadata": {},
   "outputs": [],
   "source": []
  }
 ],
 "metadata": {
  "kernelspec": {
   "display_name": "Python 3",
   "language": "python",
   "name": "python3"
  },
  "language_info": {
   "codemirror_mode": {
    "name": "ipython",
    "version": 3
   },
   "file_extension": ".py",
   "mimetype": "text/x-python",
   "name": "python",
   "nbconvert_exporter": "python",
   "pygments_lexer": "ipython3",
   "version": "3.7.6"
  }
 },
 "nbformat": 4,
 "nbformat_minor": 4
}
