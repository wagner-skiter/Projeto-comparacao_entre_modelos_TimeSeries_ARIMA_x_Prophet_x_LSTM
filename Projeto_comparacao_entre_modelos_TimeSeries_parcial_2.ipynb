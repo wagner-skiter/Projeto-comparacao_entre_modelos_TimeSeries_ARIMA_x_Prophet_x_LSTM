{
 "cells": [
  {
   "cell_type": "markdown",
   "metadata": {},
   "source": [
    "# Comparando modelos de Forecasting (Time Series)."
   ]
  },
  {
   "cell_type": "markdown",
   "metadata": {},
   "source": [
    "**Nesse projeto irei comparar os três métodos de Time Series Forecasting que temos, o clássico ARIMA(Autoregressive Integrated Moving Average), o Facebook Prophet e o LSTM (Long Short term Memory) já da parte de redes neurais (Deep Learning)**"
   ]
  },
  {
   "cell_type": "markdown",
   "metadata": {},
   "source": [
    "### ARIMA (Autoregressive Integrated Moving Average)\n",
    "\n",
    "Terminologias em ARIMA\n",
    "\n",
    "O modelo ARIMA pode ser basicamente resumido por três fatores:\n",
    "\n",
    "p = o número de termos autorregressivos\n",
    "- p é o número de termos auto-regressivos (parte AR). Permite incorporar o efeito de valores\n",
    "  passados em nosso modelo. Intuitivamente, isso seria semelhante ao afirmar que é\n",
    "  provável que esteja quente amanhã se estiver quente nos últimos três dias.\n",
    "\n",
    "d = o número é o fator que vamos aplicar para resolver a estacionaridade\n",
    "- d é o número de diferenças não sazonais necessárias para a estacionariedade.\n",
    "  Intuitivamente, isso seria semelhante ao afirmar que provavelmente haverá a mesma\n",
    "  temperatura amanhã se a diferença de temperatura nos últimos três dias tiver sido muito\n",
    "  pequena.\n",
    "\n",
    "q = o número de termos da média móvel\n",
    "- q é o número de erros de previsão atrasados na equação de previsão (parte MA). Isso nos\n",
    "  permite definir o erro do nosso modelo como uma combinação linear dos valores de erro\n",
    "  observados em momentos anteriores no passado.\n",
    "  Estes são os três números inteiros (p, d, q) usados para parametrizar os modelos ARIMA.\n",
    "  Portanto, isso é chamado de modelo “ARIMA (p, d, q)”."
   ]
  },
  {
   "cell_type": "markdown",
   "metadata": {},
   "source": [
    "### Facebook Prophet\n",
    "\n",
    "O Prophet é um procedimento para prever dados de séries temporais com base em um modelo aditivo em que tendências não lineares são ajustadas com sazonalidade anual, semanal e diária, além dos efeitos de feriados. Funciona melhor com séries temporais que têm fortes efeitos sazonais e várias temporadas de dados históricos. O Prophet é robusto para dados ausentes e mudanças na tendência, e normalmente lida bem com outliers."
   ]
  },
  {
   "cell_type": "markdown",
   "metadata": {},
   "source": [
    "### LSTM (Long Short term Memory)\n",
    "\n",
    "A LSTM é uma arquitetura de rede neural recorrente (RNN) que “lembra” valores em intervalos arbitrários. A LSTM é bem adequada para classificar, processar e prever séries temporais com intervalos de tempo de duração desconhecida. A insensibilidade relativa ao comprimento do gap dá uma vantagem à LSTM em relação a RNNs tradicionais (também chamadas “vanilla”), Modelos Ocultos de Markov (MOM) e outros métodos de aprendizado de sequências.\n",
    "\n",
    "A estrutura de uma RNN é muito semelhante ao Modelo Oculto de Markov. No entanto, a principal diferença é como os parâmetros são calculados e construídos. Uma das vantagens da LSTM é a insensibilidade ao comprimento do gap. RNN e MOM dependem do estado oculto antes da emissão / sequência. Se quisermos prever a sequência após 1.000 intervalos em vez de 10, o modelo esqueceu o ponto de partida até então. Mas um modelo LSTM é capaz de “lembrar” por conta de sua estrutura de células, o diferencial da arquitetura LSTM.\n",
    "\n",
    "A LSTM possui uma estrutura em cadeia que contém quatro redes neurais e diferentes blocos de memória chamados células.\n",
    "\n",
    "<img src=\"https://i.imgur.com/Ooq3hRT.png\" />\n",
    "\n",
    "A informação é retida pelas células e as manipulações de memória são feitas pelos portões (gates). Existem três portões:\n",
    "\n",
    "Forget Gate: As informações que não são mais úteis no estado da célula são removidas com o forget gate. Duas entradas: x_t (entrada no momento específico) e h_t-1 (saída de célula anterior) são alimentadas ao gate e multiplicadas por matrizes de peso, seguidas pela adição do bias. O resultante é passado por uma função de ativação que fornece uma saída binária. Se para um determinado estado de célula a saída for 0, a informação é esquecida e para a saída 1, a informação é retida para uso futuro.\n",
    "\n",
    "Input Gate: A adição de informações úteis ao estado da célula é feita pelo input gate. Primeiro, a informação é regulada usando a função sigmoide que filtra os valores a serem lembrados de forma similar ao forget gate usando as entradas h_t-1 e x_t. Então, um vetor é criado usando a função tanh que dá saída de -1 a +1, que contém todos os valores possíveis de h_t-1 e x_t. Os valores do vetor e os valores regulados são multiplicados para obter as informações úteis\n",
    "\n",
    "Output Gate: A tarefa de extrair informações úteis do estado da célula atual para ser apresentadas como uma saída é feita pelo output gate. Primeiro, um vetor é gerado aplicando a função tanh na célula. Então, a informação é regulada usando a função sigmóide que filtra os valores a serem lembrados usando as entradas h_t-1 e x_t. Os valores do vetor e os valores regulados são multiplicados para serem enviados como uma saída e entrada para a próxima célula.\n",
    "\n",
    "A célula RNN recebe duas entradas, a saída do último estado oculto e a observação no tempo = t. Além do estado oculto, não há informações sobre o passado para se lembrar. A memória de longo prazo é geralmente chamada de estado da célula. As setas em loop indicam a natureza recursiva da célula. Isso permite que as informações dos intervalos anteriores sejam armazenadas na célula LSTM. O estado da célula é modificado pelo forget gate colocado abaixo do estado da célula e também ajustado pela porta de modulação de entrada. Da equação, o estado da célula anterior esquece, multiplica-se com a porta do esquecimento e adiciona novas informações através da saída das portas de entrada.\n",
    "\n",
    "Algumas das famosas aplicações das LSTMs incluem:\n",
    "\n",
    "- Modelagem de Linguagem\n",
    "- Tradução de Idiomas\n",
    "- Legendas em Imagens\n",
    "- Geração de Texto\n",
    "- Chatbots"
   ]
  },
  {
   "cell_type": "markdown",
   "metadata": {},
   "source": [
    "# Dados:"
   ]
  },
  {
   "cell_type": "markdown",
   "metadata": {},
   "source": [
    "## Vendas de autoveículos no Brasil."
   ]
  },
  {
   "cell_type": "markdown",
   "metadata": {},
   "source": [
    "               "
   ]
  },
  {
   "cell_type": "markdown",
   "metadata": {},
   "source": [
    "<img src=\"https://i.imgur.com/isgusta.jpg\" />"
   ]
  },
  {
   "cell_type": "markdown",
   "metadata": {},
   "source": [
    "Valor da produção de veículos automotores no País. Refletem o desempenho das vendas das empresas associadas a(o): estoque e venda de veículos pelas concessionárias produção e vendas de veículos e congêneres produção e vendas de motociclos.\n",
    "\n",
    "Fonte: https://www3.bcb.gov.br/sgspub/consultarvalores/consultarValoresSeries.do?method=consultarGraficoPorId&hdOidSeriesSelecionadas=1378"
   ]
  },
  {
   "cell_type": "markdown",
   "metadata": {},
   "source": [
    "## Vamos lá !"
   ]
  },
  {
   "cell_type": "code",
   "execution_count": 1,
   "metadata": {},
   "outputs": [],
   "source": [
    "import numpy as np\n",
    "import pandas as pd\n",
    "from statsmodels.tsa.statespace.sarimax import SARIMAX\n",
    "from statsmodels.graphics.tsaplots import plot_acf,plot_pacf \n",
    "from statsmodels.tsa.seasonal import seasonal_decompose \n",
    "from pmdarima import auto_arima                        \n",
    "from sklearn.metrics import mean_squared_error\n",
    "from statsmodels.tools.eval_measures import rmse\n",
    "import warnings\n",
    "warnings.filterwarnings(\"ignore\")"
   ]
  },
  {
   "cell_type": "code",
   "execution_count": 2,
   "metadata": {},
   "outputs": [
    {
     "name": "stdout",
     "output_type": "stream",
     "text": [
      "Wall time: 6.98 ms\n"
     ]
    }
   ],
   "source": [
    "%time data = pd.read_csv('C:/Users/skite/OneDrive/Documentos/GitHub/Projeto_comparacao_entre_modelos_TimeSeries/bcdata.sgs.1378.csv', sep = ';', encoding  = 'UTF-8')"
   ]
  },
  {
   "cell_type": "code",
   "execution_count": 3,
   "metadata": {},
   "outputs": [
    {
     "data": {
      "text/html": [
       "<div>\n",
       "<style scoped>\n",
       "    .dataframe tbody tr th:only-of-type {\n",
       "        vertical-align: middle;\n",
       "    }\n",
       "\n",
       "    .dataframe tbody tr th {\n",
       "        vertical-align: top;\n",
       "    }\n",
       "\n",
       "    .dataframe thead th {\n",
       "        text-align: right;\n",
       "    }\n",
       "</style>\n",
       "<table border=\"1\" class=\"dataframe\">\n",
       "  <thead>\n",
       "    <tr style=\"text-align: right;\">\n",
       "      <th></th>\n",
       "      <th>data</th>\n",
       "      <th>valor</th>\n",
       "    </tr>\n",
       "  </thead>\n",
       "  <tbody>\n",
       "    <tr>\n",
       "      <th>0</th>\n",
       "      <td>01/01/1981</td>\n",
       "      <td>87939</td>\n",
       "    </tr>\n",
       "    <tr>\n",
       "      <th>1</th>\n",
       "      <td>01/02/1981</td>\n",
       "      <td>65251</td>\n",
       "    </tr>\n",
       "    <tr>\n",
       "      <th>2</th>\n",
       "      <td>01/03/1981</td>\n",
       "      <td>64065</td>\n",
       "    </tr>\n",
       "    <tr>\n",
       "      <th>3</th>\n",
       "      <td>01/04/1981</td>\n",
       "      <td>69042</td>\n",
       "    </tr>\n",
       "    <tr>\n",
       "      <th>4</th>\n",
       "      <td>01/05/1981</td>\n",
       "      <td>62966</td>\n",
       "    </tr>\n",
       "  </tbody>\n",
       "</table>\n",
       "</div>"
      ],
      "text/plain": [
       "         data  valor\n",
       "0  01/01/1981  87939\n",
       "1  01/02/1981  65251\n",
       "2  01/03/1981  64065\n",
       "3  01/04/1981  69042\n",
       "4  01/05/1981  62966"
      ]
     },
     "execution_count": 3,
     "metadata": {},
     "output_type": "execute_result"
    }
   ],
   "source": [
    "data.head()"
   ]
  },
  {
   "cell_type": "code",
   "execution_count": 4,
   "metadata": {},
   "outputs": [
    {
     "data": {
      "text/html": [
       "<div>\n",
       "<style scoped>\n",
       "    .dataframe tbody tr th:only-of-type {\n",
       "        vertical-align: middle;\n",
       "    }\n",
       "\n",
       "    .dataframe tbody tr th {\n",
       "        vertical-align: top;\n",
       "    }\n",
       "\n",
       "    .dataframe thead th {\n",
       "        text-align: right;\n",
       "    }\n",
       "</style>\n",
       "<table border=\"1\" class=\"dataframe\">\n",
       "  <thead>\n",
       "    <tr style=\"text-align: right;\">\n",
       "      <th></th>\n",
       "      <th>data</th>\n",
       "      <th>valor</th>\n",
       "    </tr>\n",
       "  </thead>\n",
       "  <tbody>\n",
       "    <tr>\n",
       "      <th>472</th>\n",
       "      <td>01/05/2020</td>\n",
       "      <td>56266</td>\n",
       "    </tr>\n",
       "    <tr>\n",
       "      <th>473</th>\n",
       "      <td>01/06/2020</td>\n",
       "      <td>135140</td>\n",
       "    </tr>\n",
       "    <tr>\n",
       "      <th>474</th>\n",
       "      <td>01/07/2020</td>\n",
       "      <td>184818</td>\n",
       "    </tr>\n",
       "    <tr>\n",
       "      <th>475</th>\n",
       "      <td>01/08/2020</td>\n",
       "      <td>193650</td>\n",
       "    </tr>\n",
       "    <tr>\n",
       "      <th>476</th>\n",
       "      <td>01/09/2020</td>\n",
       "      <td>219033</td>\n",
       "    </tr>\n",
       "  </tbody>\n",
       "</table>\n",
       "</div>"
      ],
      "text/plain": [
       "           data   valor\n",
       "472  01/05/2020   56266\n",
       "473  01/06/2020  135140\n",
       "474  01/07/2020  184818\n",
       "475  01/08/2020  193650\n",
       "476  01/09/2020  219033"
      ]
     },
     "execution_count": 4,
     "metadata": {},
     "output_type": "execute_result"
    }
   ],
   "source": [
    "data.tail()"
   ]
  },
  {
   "cell_type": "markdown",
   "metadata": {},
   "source": [
    "**Temos dados de 01/01/1981 até 01/09/2020, ou seja, 39 anos de registro de venda de Autoveículos.**"
   ]
  },
  {
   "cell_type": "code",
   "execution_count": 5,
   "metadata": {},
   "outputs": [
    {
     "name": "stdout",
     "output_type": "stream",
     "text": [
      "<class 'pandas.core.frame.DataFrame'>\n",
      "RangeIndex: 477 entries, 0 to 476\n",
      "Data columns (total 2 columns):\n",
      " #   Column  Non-Null Count  Dtype \n",
      "---  ------  --------------  ----- \n",
      " 0   data    477 non-null    object\n",
      " 1   valor   477 non-null    int64 \n",
      "dtypes: int64(1), object(1)\n",
      "memory usage: 7.6+ KB\n"
     ]
    }
   ],
   "source": [
    "data.info()"
   ]
  },
  {
   "cell_type": "markdown",
   "metadata": {},
   "source": [
    "**Ajuste da variável data**"
   ]
  },
  {
   "cell_type": "code",
   "execution_count": 6,
   "metadata": {},
   "outputs": [],
   "source": [
    "data['data'] = data['data'].str[3:]"
   ]
  },
  {
   "cell_type": "code",
   "execution_count": 7,
   "metadata": {},
   "outputs": [],
   "source": [
    "data['ano'] = data['data'].str[3:]"
   ]
  },
  {
   "cell_type": "code",
   "execution_count": 8,
   "metadata": {},
   "outputs": [],
   "source": [
    "data['valor'] = data.valor.astype('float')\n",
    "data['ano'] = data.ano.astype('int')"
   ]
  },
  {
   "cell_type": "code",
   "execution_count": 9,
   "metadata": {},
   "outputs": [
    {
     "data": {
      "text/html": [
       "<div>\n",
       "<style scoped>\n",
       "    .dataframe tbody tr th:only-of-type {\n",
       "        vertical-align: middle;\n",
       "    }\n",
       "\n",
       "    .dataframe tbody tr th {\n",
       "        vertical-align: top;\n",
       "    }\n",
       "\n",
       "    .dataframe thead th {\n",
       "        text-align: right;\n",
       "    }\n",
       "</style>\n",
       "<table border=\"1\" class=\"dataframe\">\n",
       "  <thead>\n",
       "    <tr style=\"text-align: right;\">\n",
       "      <th></th>\n",
       "      <th>data</th>\n",
       "      <th>valor</th>\n",
       "      <th>ano</th>\n",
       "    </tr>\n",
       "  </thead>\n",
       "  <tbody>\n",
       "    <tr>\n",
       "      <th>0</th>\n",
       "      <td>01/1981</td>\n",
       "      <td>87939.0</td>\n",
       "      <td>1981</td>\n",
       "    </tr>\n",
       "    <tr>\n",
       "      <th>1</th>\n",
       "      <td>02/1981</td>\n",
       "      <td>65251.0</td>\n",
       "      <td>1981</td>\n",
       "    </tr>\n",
       "    <tr>\n",
       "      <th>2</th>\n",
       "      <td>03/1981</td>\n",
       "      <td>64065.0</td>\n",
       "      <td>1981</td>\n",
       "    </tr>\n",
       "    <tr>\n",
       "      <th>3</th>\n",
       "      <td>04/1981</td>\n",
       "      <td>69042.0</td>\n",
       "      <td>1981</td>\n",
       "    </tr>\n",
       "    <tr>\n",
       "      <th>4</th>\n",
       "      <td>05/1981</td>\n",
       "      <td>62966.0</td>\n",
       "      <td>1981</td>\n",
       "    </tr>\n",
       "    <tr>\n",
       "      <th>...</th>\n",
       "      <td>...</td>\n",
       "      <td>...</td>\n",
       "      <td>...</td>\n",
       "    </tr>\n",
       "    <tr>\n",
       "      <th>472</th>\n",
       "      <td>05/2020</td>\n",
       "      <td>56266.0</td>\n",
       "      <td>2020</td>\n",
       "    </tr>\n",
       "    <tr>\n",
       "      <th>473</th>\n",
       "      <td>06/2020</td>\n",
       "      <td>135140.0</td>\n",
       "      <td>2020</td>\n",
       "    </tr>\n",
       "    <tr>\n",
       "      <th>474</th>\n",
       "      <td>07/2020</td>\n",
       "      <td>184818.0</td>\n",
       "      <td>2020</td>\n",
       "    </tr>\n",
       "    <tr>\n",
       "      <th>475</th>\n",
       "      <td>08/2020</td>\n",
       "      <td>193650.0</td>\n",
       "      <td>2020</td>\n",
       "    </tr>\n",
       "    <tr>\n",
       "      <th>476</th>\n",
       "      <td>09/2020</td>\n",
       "      <td>219033.0</td>\n",
       "      <td>2020</td>\n",
       "    </tr>\n",
       "  </tbody>\n",
       "</table>\n",
       "<p>477 rows × 3 columns</p>\n",
       "</div>"
      ],
      "text/plain": [
       "        data     valor   ano\n",
       "0    01/1981   87939.0  1981\n",
       "1    02/1981   65251.0  1981\n",
       "2    03/1981   64065.0  1981\n",
       "3    04/1981   69042.0  1981\n",
       "4    05/1981   62966.0  1981\n",
       "..       ...       ...   ...\n",
       "472  05/2020   56266.0  2020\n",
       "473  06/2020  135140.0  2020\n",
       "474  07/2020  184818.0  2020\n",
       "475  08/2020  193650.0  2020\n",
       "476  09/2020  219033.0  2020\n",
       "\n",
       "[477 rows x 3 columns]"
      ]
     },
     "execution_count": 9,
     "metadata": {},
     "output_type": "execute_result"
    }
   ],
   "source": [
    "data"
   ]
  },
  {
   "cell_type": "markdown",
   "metadata": {},
   "source": [
    "**Filtro**"
   ]
  },
  {
   "cell_type": "code",
   "execution_count": 10,
   "metadata": {},
   "outputs": [],
   "source": [
    "data = data.loc[(data['ano'] >= 1981) & (data['ano'] <= 2019)]"
   ]
  },
  {
   "cell_type": "code",
   "execution_count": 11,
   "metadata": {},
   "outputs": [
    {
     "data": {
      "text/html": [
       "<div>\n",
       "<style scoped>\n",
       "    .dataframe tbody tr th:only-of-type {\n",
       "        vertical-align: middle;\n",
       "    }\n",
       "\n",
       "    .dataframe tbody tr th {\n",
       "        vertical-align: top;\n",
       "    }\n",
       "\n",
       "    .dataframe thead th {\n",
       "        text-align: right;\n",
       "    }\n",
       "</style>\n",
       "<table border=\"1\" class=\"dataframe\">\n",
       "  <thead>\n",
       "    <tr style=\"text-align: right;\">\n",
       "      <th></th>\n",
       "      <th>data</th>\n",
       "      <th>valor</th>\n",
       "      <th>ano</th>\n",
       "    </tr>\n",
       "  </thead>\n",
       "  <tbody>\n",
       "    <tr>\n",
       "      <th>0</th>\n",
       "      <td>01/1981</td>\n",
       "      <td>87939.0</td>\n",
       "      <td>1981</td>\n",
       "    </tr>\n",
       "    <tr>\n",
       "      <th>1</th>\n",
       "      <td>02/1981</td>\n",
       "      <td>65251.0</td>\n",
       "      <td>1981</td>\n",
       "    </tr>\n",
       "    <tr>\n",
       "      <th>2</th>\n",
       "      <td>03/1981</td>\n",
       "      <td>64065.0</td>\n",
       "      <td>1981</td>\n",
       "    </tr>\n",
       "    <tr>\n",
       "      <th>3</th>\n",
       "      <td>04/1981</td>\n",
       "      <td>69042.0</td>\n",
       "      <td>1981</td>\n",
       "    </tr>\n",
       "    <tr>\n",
       "      <th>4</th>\n",
       "      <td>05/1981</td>\n",
       "      <td>62966.0</td>\n",
       "      <td>1981</td>\n",
       "    </tr>\n",
       "    <tr>\n",
       "      <th>...</th>\n",
       "      <td>...</td>\n",
       "      <td>...</td>\n",
       "      <td>...</td>\n",
       "    </tr>\n",
       "    <tr>\n",
       "      <th>463</th>\n",
       "      <td>08/2019</td>\n",
       "      <td>253575.0</td>\n",
       "      <td>2019</td>\n",
       "    </tr>\n",
       "    <tr>\n",
       "      <th>464</th>\n",
       "      <td>09/2019</td>\n",
       "      <td>246657.0</td>\n",
       "      <td>2019</td>\n",
       "    </tr>\n",
       "    <tr>\n",
       "      <th>465</th>\n",
       "      <td>10/2019</td>\n",
       "      <td>258149.0</td>\n",
       "      <td>2019</td>\n",
       "    </tr>\n",
       "    <tr>\n",
       "      <th>466</th>\n",
       "      <td>11/2019</td>\n",
       "      <td>250468.0</td>\n",
       "      <td>2019</td>\n",
       "    </tr>\n",
       "    <tr>\n",
       "      <th>467</th>\n",
       "      <td>12/2019</td>\n",
       "      <td>262060.0</td>\n",
       "      <td>2019</td>\n",
       "    </tr>\n",
       "  </tbody>\n",
       "</table>\n",
       "<p>468 rows × 3 columns</p>\n",
       "</div>"
      ],
      "text/plain": [
       "        data     valor   ano\n",
       "0    01/1981   87939.0  1981\n",
       "1    02/1981   65251.0  1981\n",
       "2    03/1981   64065.0  1981\n",
       "3    04/1981   69042.0  1981\n",
       "4    05/1981   62966.0  1981\n",
       "..       ...       ...   ...\n",
       "463  08/2019  253575.0  2019\n",
       "464  09/2019  246657.0  2019\n",
       "465  10/2019  258149.0  2019\n",
       "466  11/2019  250468.0  2019\n",
       "467  12/2019  262060.0  2019\n",
       "\n",
       "[468 rows x 3 columns]"
      ]
     },
     "execution_count": 11,
     "metadata": {},
     "output_type": "execute_result"
    }
   ],
   "source": [
    "data"
   ]
  },
  {
   "cell_type": "code",
   "execution_count": 12,
   "metadata": {},
   "outputs": [],
   "source": [
    "data = data.drop(['ano'], axis='columns')"
   ]
  },
  {
   "cell_type": "markdown",
   "metadata": {},
   "source": [
    "**Vamos determinar a data como índice e aplicar o Datetime para transformar a variável.**"
   ]
  },
  {
   "cell_type": "code",
   "execution_count": 13,
   "metadata": {},
   "outputs": [],
   "source": [
    "data.data = pd.to_datetime(data.data)"
   ]
  },
  {
   "cell_type": "code",
   "execution_count": 14,
   "metadata": {},
   "outputs": [
    {
     "data": {
      "text/html": [
       "<div>\n",
       "<style scoped>\n",
       "    .dataframe tbody tr th:only-of-type {\n",
       "        vertical-align: middle;\n",
       "    }\n",
       "\n",
       "    .dataframe tbody tr th {\n",
       "        vertical-align: top;\n",
       "    }\n",
       "\n",
       "    .dataframe thead th {\n",
       "        text-align: right;\n",
       "    }\n",
       "</style>\n",
       "<table border=\"1\" class=\"dataframe\">\n",
       "  <thead>\n",
       "    <tr style=\"text-align: right;\">\n",
       "      <th></th>\n",
       "      <th>valor</th>\n",
       "    </tr>\n",
       "    <tr>\n",
       "      <th>data</th>\n",
       "      <th></th>\n",
       "    </tr>\n",
       "  </thead>\n",
       "  <tbody>\n",
       "    <tr>\n",
       "      <th>1981-01-01</th>\n",
       "      <td>87939.0</td>\n",
       "    </tr>\n",
       "    <tr>\n",
       "      <th>1981-02-01</th>\n",
       "      <td>65251.0</td>\n",
       "    </tr>\n",
       "    <tr>\n",
       "      <th>1981-03-01</th>\n",
       "      <td>64065.0</td>\n",
       "    </tr>\n",
       "    <tr>\n",
       "      <th>1981-04-01</th>\n",
       "      <td>69042.0</td>\n",
       "    </tr>\n",
       "    <tr>\n",
       "      <th>1981-05-01</th>\n",
       "      <td>62966.0</td>\n",
       "    </tr>\n",
       "  </tbody>\n",
       "</table>\n",
       "</div>"
      ],
      "text/plain": [
       "              valor\n",
       "data               \n",
       "1981-01-01  87939.0\n",
       "1981-02-01  65251.0\n",
       "1981-03-01  64065.0\n",
       "1981-04-01  69042.0\n",
       "1981-05-01  62966.0"
      ]
     },
     "execution_count": 14,
     "metadata": {},
     "output_type": "execute_result"
    }
   ],
   "source": [
    "data = data.set_index(\"data\")\n",
    "data.head()"
   ]
  },
  {
   "cell_type": "markdown",
   "metadata": {},
   "source": [
    "**Vamos definir a frequência do dados para mensal**"
   ]
  },
  {
   "cell_type": "code",
   "execution_count": 15,
   "metadata": {},
   "outputs": [],
   "source": [
    "data.index.freq = 'MS'"
   ]
  },
  {
   "cell_type": "code",
   "execution_count": 16,
   "metadata": {},
   "outputs": [
    {
     "data": {
      "image/png": "[encoded data removed]",
      "text/plain": [
       "<Figure size 1152x360 with 1 Axes>"
      ]
     },
     "metadata": {
      "needs_background": "light"
     },
     "output_type": "display_data"
    }
   ],
   "source": [
    "ax = data['valor'].plot(figsize = (16,5), title = \"vendas de autoveículos no Brasil\")\n",
    "ax.set(xlabel='Data', ylabel='Total de vendas');"
   ]
  },
  {
   "cell_type": "markdown",
   "metadata": {},
   "source": [
    "**Analisando as vendas ao longo dos anos, mostra que as vendas de autoveículos não é nada sazonal onde temos grande quedas próximos dos anos de 1985, 1999, e 2020**"
   ]
  },
  {
   "cell_type": "markdown",
   "metadata": {},
   "source": [
    "**Vamos utilizar o \"seasonal_decompose\" para verificar o comportamento da série**"
   ]
  },
  {
   "cell_type": "code",
   "execution_count": 17,
   "metadata": {},
   "outputs": [
    {
     "data": {
      "image/png": "[encoded data removed]",
      "text/plain": [
       "<Figure size 432x288 with 4 Axes>"
      ]
     },
     "metadata": {
      "needs_background": "light"
     },
     "output_type": "display_data"
    }
   ],
   "source": [
    "a = seasonal_decompose(data[\"valor\"], model = \"multiplicative\")\n",
    "a.plot();"
   ]
  },
  {
   "cell_type": "markdown",
   "metadata": {},
   "source": [
    "**Seasonal**"
   ]
  },
  {
   "cell_type": "code",
   "execution_count": 18,
   "metadata": {},
   "outputs": [
    {
     "data": {
      "image/png": "[encoded data removed]",
      "text/plain": [
       "<Figure size 1152x504 with 1 Axes>"
      ]
     },
     "metadata": {
      "needs_background": "light"
     },
     "output_type": "display_data"
    }
   ],
   "source": [
    "import matplotlib.pyplot as plt\n",
    "plt.figure(figsize = (16,7))\n",
    "a.seasonal.plot();"
   ]
  },
  {
   "cell_type": "markdown",
   "metadata": {},
   "source": [
    "           "
   ]
  },
  {
   "cell_type": "markdown",
   "metadata": {},
   "source": [
    "               "
   ]
  },
  {
   "cell_type": "markdown",
   "metadata": {},
   "source": [
    "                 "
   ]
  },
  {
   "cell_type": "markdown",
   "metadata": {},
   "source": [
    "# Previsão com o ARIMA"
   ]
  },
  {
   "cell_type": "markdown",
   "metadata": {},
   "source": [
    "**Vamos executar a função auto_arima () para obter os melhores valores p, d, q**"
   ]
  },
  {
   "cell_type": "code",
   "execution_count": 19,
   "metadata": {},
   "outputs": [],
   "source": [
    "# auto_arima(data['valor'], seasonal=True, m=12,max_p=7, max_d=5,max_q=7, max_P=4, max_D=4,max_Q=4).summary()"
   ]
  },
  {
   "cell_type": "markdown",
   "metadata": {},
   "source": [
    "**Como podemos ver os melhores parametros que o  auto_arima() nos retornou foi SARIMAX(5, 1, 4)x(2, 0, 2, 12)**"
   ]
  },
  {
   "cell_type": "markdown",
   "metadata": {},
   "source": [
    "**Ok, agora vamos separar os dados de treino e teste**"
   ]
  },
  {
   "cell_type": "code",
   "execution_count": 20,
   "metadata": {},
   "outputs": [],
   "source": [
    "train_data = data[:len(data)-12]\n",
    "test_data = data[len(data)-12:]"
   ]
  },
  {
   "cell_type": "code",
   "execution_count": 21,
   "metadata": {},
   "outputs": [
    {
     "data": {
      "text/html": [
       "<div>\n",
       "<style scoped>\n",
       "    .dataframe tbody tr th:only-of-type {\n",
       "        vertical-align: middle;\n",
       "    }\n",
       "\n",
       "    .dataframe tbody tr th {\n",
       "        vertical-align: top;\n",
       "    }\n",
       "\n",
       "    .dataframe thead th {\n",
       "        text-align: right;\n",
       "    }\n",
       "</style>\n",
       "<table border=\"1\" class=\"dataframe\">\n",
       "  <thead>\n",
       "    <tr style=\"text-align: right;\">\n",
       "      <th></th>\n",
       "      <th>valor</th>\n",
       "    </tr>\n",
       "    <tr>\n",
       "      <th>data</th>\n",
       "      <th></th>\n",
       "    </tr>\n",
       "  </thead>\n",
       "  <tbody>\n",
       "    <tr>\n",
       "      <th>1981-01-01</th>\n",
       "      <td>87939.0</td>\n",
       "    </tr>\n",
       "    <tr>\n",
       "      <th>1981-02-01</th>\n",
       "      <td>65251.0</td>\n",
       "    </tr>\n",
       "    <tr>\n",
       "      <th>1981-03-01</th>\n",
       "      <td>64065.0</td>\n",
       "    </tr>\n",
       "    <tr>\n",
       "      <th>1981-04-01</th>\n",
       "      <td>69042.0</td>\n",
       "    </tr>\n",
       "    <tr>\n",
       "      <th>1981-05-01</th>\n",
       "      <td>62966.0</td>\n",
       "    </tr>\n",
       "    <tr>\n",
       "      <th>...</th>\n",
       "      <td>...</td>\n",
       "    </tr>\n",
       "    <tr>\n",
       "      <th>2018-08-01</th>\n",
       "      <td>274312.0</td>\n",
       "    </tr>\n",
       "    <tr>\n",
       "      <th>2018-09-01</th>\n",
       "      <td>226447.0</td>\n",
       "    </tr>\n",
       "    <tr>\n",
       "      <th>2018-10-01</th>\n",
       "      <td>264434.0</td>\n",
       "    </tr>\n",
       "    <tr>\n",
       "      <th>2018-11-01</th>\n",
       "      <td>239547.0</td>\n",
       "    </tr>\n",
       "    <tr>\n",
       "      <th>2018-12-01</th>\n",
       "      <td>237798.0</td>\n",
       "    </tr>\n",
       "  </tbody>\n",
       "</table>\n",
       "<p>456 rows × 1 columns</p>\n",
       "</div>"
      ],
      "text/plain": [
       "               valor\n",
       "data                \n",
       "1981-01-01   87939.0\n",
       "1981-02-01   65251.0\n",
       "1981-03-01   64065.0\n",
       "1981-04-01   69042.0\n",
       "1981-05-01   62966.0\n",
       "...              ...\n",
       "2018-08-01  274312.0\n",
       "2018-09-01  226447.0\n",
       "2018-10-01  264434.0\n",
       "2018-11-01  239547.0\n",
       "2018-12-01  237798.0\n",
       "\n",
       "[456 rows x 1 columns]"
      ]
     },
     "execution_count": 21,
     "metadata": {},
     "output_type": "execute_result"
    }
   ],
   "source": [
    "train_data"
   ]
  },
  {
   "cell_type": "code",
   "execution_count": 22,
   "metadata": {},
   "outputs": [
    {
     "data": {
      "text/html": [
       "<div>\n",
       "<style scoped>\n",
       "    .dataframe tbody tr th:only-of-type {\n",
       "        vertical-align: middle;\n",
       "    }\n",
       "\n",
       "    .dataframe tbody tr th {\n",
       "        vertical-align: top;\n",
       "    }\n",
       "\n",
       "    .dataframe thead th {\n",
       "        text-align: right;\n",
       "    }\n",
       "</style>\n",
       "<table border=\"1\" class=\"dataframe\">\n",
       "  <thead>\n",
       "    <tr style=\"text-align: right;\">\n",
       "      <th></th>\n",
       "      <th>valor</th>\n",
       "    </tr>\n",
       "    <tr>\n",
       "      <th>data</th>\n",
       "      <th></th>\n",
       "    </tr>\n",
       "  </thead>\n",
       "  <tbody>\n",
       "    <tr>\n",
       "      <th>2019-01-01</th>\n",
       "      <td>200890.0</td>\n",
       "    </tr>\n",
       "    <tr>\n",
       "      <th>2019-02-01</th>\n",
       "      <td>217205.0</td>\n",
       "    </tr>\n",
       "    <tr>\n",
       "      <th>2019-03-01</th>\n",
       "      <td>225222.0</td>\n",
       "    </tr>\n",
       "    <tr>\n",
       "      <th>2019-04-01</th>\n",
       "      <td>240679.0</td>\n",
       "    </tr>\n",
       "    <tr>\n",
       "      <th>2019-05-01</th>\n",
       "      <td>261975.0</td>\n",
       "    </tr>\n",
       "    <tr>\n",
       "      <th>2019-06-01</th>\n",
       "      <td>240913.0</td>\n",
       "    </tr>\n",
       "    <tr>\n",
       "      <th>2019-07-01</th>\n",
       "      <td>260607.0</td>\n",
       "    </tr>\n",
       "    <tr>\n",
       "      <th>2019-08-01</th>\n",
       "      <td>253575.0</td>\n",
       "    </tr>\n",
       "    <tr>\n",
       "      <th>2019-09-01</th>\n",
       "      <td>246657.0</td>\n",
       "    </tr>\n",
       "    <tr>\n",
       "      <th>2019-10-01</th>\n",
       "      <td>258149.0</td>\n",
       "    </tr>\n",
       "    <tr>\n",
       "      <th>2019-11-01</th>\n",
       "      <td>250468.0</td>\n",
       "    </tr>\n",
       "    <tr>\n",
       "      <th>2019-12-01</th>\n",
       "      <td>262060.0</td>\n",
       "    </tr>\n",
       "  </tbody>\n",
       "</table>\n",
       "</div>"
      ],
      "text/plain": [
       "               valor\n",
       "data                \n",
       "2019-01-01  200890.0\n",
       "2019-02-01  217205.0\n",
       "2019-03-01  225222.0\n",
       "2019-04-01  240679.0\n",
       "2019-05-01  261975.0\n",
       "2019-06-01  240913.0\n",
       "2019-07-01  260607.0\n",
       "2019-08-01  253575.0\n",
       "2019-09-01  246657.0\n",
       "2019-10-01  258149.0\n",
       "2019-11-01  250468.0\n",
       "2019-12-01  262060.0"
      ]
     },
     "execution_count": 22,
     "metadata": {},
     "output_type": "execute_result"
    }
   ],
   "source": [
    "test_data"
   ]
  },
  {
   "cell_type": "code",
   "execution_count": 23,
   "metadata": {},
   "outputs": [
    {
     "data": {
      "text/plain": [
       "[<matplotlib.lines.Line2D at 0x25fa8a769c8>]"
      ]
     },
     "execution_count": 23,
     "metadata": {},
     "output_type": "execute_result"
    },
    {
     "data": {
      "image/png": "[encoded data removed]",
      "text/plain": [
       "<Figure size 432x288 with 1 Axes>"
      ]
     },
     "metadata": {
      "needs_background": "light"
     },
     "output_type": "display_data"
    }
   ],
   "source": [
    "plt.plot(train_data)\n",
    "plt.plot(test_data)"
   ]
  },
  {
   "cell_type": "markdown",
   "metadata": {},
   "source": [
    "## Vamos aplicar os parâmetros obtidos pelo o auto_arima() no SARIMAX e compará-lo com os dados reais."
   ]
  },
  {
   "cell_type": "code",
   "execution_count": 24,
   "metadata": {},
   "outputs": [
    {
     "data": {
      "text/html": [
       "<table class=\"simpletable\">\n",
       "<caption>SARIMAX Results</caption>\n",
       "<tr>\n",
       "  <th>Dep. Variable:</th>                  <td>valor</td>                <th>  No. Observations:  </th>    <td>456</td>   \n",
       "</tr>\n",
       "<tr>\n",
       "  <th>Model:</th>           <td>SARIMAX(5, 1, 4)x(2, 0, [1, 2], 12)</td> <th>  Log Likelihood     </th> <td>-5128.935</td>\n",
       "</tr>\n",
       "<tr>\n",
       "  <th>Date:</th>                     <td>Wed, 04 Nov 2020</td>           <th>  AIC                </th> <td>10285.871</td>\n",
       "</tr>\n",
       "<tr>\n",
       "  <th>Time:</th>                         <td>19:11:22</td>               <th>  BIC                </th> <td>10343.555</td>\n",
       "</tr>\n",
       "<tr>\n",
       "  <th>Sample:</th>                      <td>01-01-1981</td>              <th>  HQIC               </th> <td>10308.596</td>\n",
       "</tr>\n",
       "<tr>\n",
       "  <th></th>                            <td>- 12-01-2018</td>             <th>                     </th>     <td> </td>    \n",
       "</tr>\n",
       "<tr>\n",
       "  <th>Covariance Type:</th>                 <td>opg</td>                 <th>                     </th>     <td> </td>    \n",
       "</tr>\n",
       "</table>\n",
       "<table class=\"simpletable\">\n",
       "<tr>\n",
       "      <td></td>        <th>coef</th>     <th>std err</th>      <th>z</th>      <th>P>|z|</th>  <th>[0.025</th>    <th>0.975]</th>  \n",
       "</tr>\n",
       "<tr>\n",
       "  <th>ar.L1</th>    <td>   -0.0286</td> <td>    0.148</td> <td>   -0.192</td> <td> 0.847</td> <td>   -0.320</td> <td>    0.262</td>\n",
       "</tr>\n",
       "<tr>\n",
       "  <th>ar.L2</th>    <td>    0.1792</td> <td>    0.125</td> <td>    1.431</td> <td> 0.152</td> <td>   -0.066</td> <td>    0.425</td>\n",
       "</tr>\n",
       "<tr>\n",
       "  <th>ar.L3</th>    <td>    0.9459</td> <td>    0.038</td> <td>   24.676</td> <td> 0.000</td> <td>    0.871</td> <td>    1.021</td>\n",
       "</tr>\n",
       "<tr>\n",
       "  <th>ar.L4</th>    <td>   -0.1583</td> <td>    0.132</td> <td>   -1.199</td> <td> 0.231</td> <td>   -0.417</td> <td>    0.101</td>\n",
       "</tr>\n",
       "<tr>\n",
       "  <th>ar.L5</th>    <td>   -0.0164</td> <td>    0.083</td> <td>   -0.197</td> <td> 0.844</td> <td>   -0.180</td> <td>    0.147</td>\n",
       "</tr>\n",
       "<tr>\n",
       "  <th>ma.L1</th>    <td>   -0.4873</td> <td>    0.136</td> <td>   -3.571</td> <td> 0.000</td> <td>   -0.755</td> <td>   -0.220</td>\n",
       "</tr>\n",
       "<tr>\n",
       "  <th>ma.L2</th>    <td>   -0.2858</td> <td>    0.071</td> <td>   -4.032</td> <td> 0.000</td> <td>   -0.425</td> <td>   -0.147</td>\n",
       "</tr>\n",
       "<tr>\n",
       "  <th>ma.L3</th>    <td>   -0.8532</td> <td>    0.062</td> <td>  -13.859</td> <td> 0.000</td> <td>   -0.974</td> <td>   -0.733</td>\n",
       "</tr>\n",
       "<tr>\n",
       "  <th>ma.L4</th>    <td>    0.6368</td> <td>    0.126</td> <td>    5.038</td> <td> 0.000</td> <td>    0.389</td> <td>    0.885</td>\n",
       "</tr>\n",
       "<tr>\n",
       "  <th>ar.S.L12</th> <td>    1.2057</td> <td>    0.623</td> <td>    1.937</td> <td> 0.053</td> <td>   -0.014</td> <td>    2.426</td>\n",
       "</tr>\n",
       "<tr>\n",
       "  <th>ar.S.L24</th> <td>   -0.2295</td> <td>    0.584</td> <td>   -0.393</td> <td> 0.694</td> <td>   -1.374</td> <td>    0.915</td>\n",
       "</tr>\n",
       "<tr>\n",
       "  <th>ma.S.L12</th> <td>   -0.9243</td> <td>    0.636</td> <td>   -1.453</td> <td> 0.146</td> <td>   -2.171</td> <td>    0.322</td>\n",
       "</tr>\n",
       "<tr>\n",
       "  <th>ma.S.L24</th> <td>    0.0585</td> <td>    0.472</td> <td>    0.124</td> <td> 0.901</td> <td>   -0.867</td> <td>    0.984</td>\n",
       "</tr>\n",
       "<tr>\n",
       "  <th>sigma2</th>   <td> 4.897e+08</td> <td>  2.8e-09</td> <td> 1.75e+17</td> <td> 0.000</td> <td>  4.9e+08</td> <td>  4.9e+08</td>\n",
       "</tr>\n",
       "</table>\n",
       "<table class=\"simpletable\">\n",
       "<tr>\n",
       "  <th>Ljung-Box (Q):</th>          <td>61.54</td> <th>  Jarque-Bera (JB):  </th> <td>76.59</td>\n",
       "</tr>\n",
       "<tr>\n",
       "  <th>Prob(Q):</th>                <td>0.02</td>  <th>  Prob(JB):          </th> <td>0.00</td> \n",
       "</tr>\n",
       "<tr>\n",
       "  <th>Heteroskedasticity (H):</th> <td>2.95</td>  <th>  Skew:              </th> <td>-0.15</td>\n",
       "</tr>\n",
       "<tr>\n",
       "  <th>Prob(H) (two-sided):</th>    <td>0.00</td>  <th>  Kurtosis:          </th> <td>4.99</td> \n",
       "</tr>\n",
       "</table><br/><br/>Warnings:<br/>[1] Covariance matrix calculated using the outer product of gradients (complex-step).<br/>[2] Covariance matrix is singular or near-singular, with condition number 3.59e+33. Standard errors may be unstable."
      ],
      "text/plain": [
       "<class 'statsmodels.iolib.summary.Summary'>\n",
       "\"\"\"\n",
       "                                        SARIMAX Results                                        \n",
       "===============================================================================================\n",
       "Dep. Variable:                                   valor   No. Observations:                  456\n",
       "Model:             SARIMAX(5, 1, 4)x(2, 0, [1, 2], 12)   Log Likelihood               -5128.935\n",
       "Date:                                 Wed, 04 Nov 2020   AIC                          10285.871\n",
       "Time:                                         19:11:22   BIC                          10343.555\n",
       "Sample:                                     01-01-1981   HQIC                         10308.596\n",
       "                                          - 12-01-2018                                         \n",
       "Covariance Type:                                   opg                                         \n",
       "==============================================================================\n",
       "                 coef    std err          z      P>|z|      [0.025      0.975]\n",
       "------------------------------------------------------------------------------\n",
       "ar.L1         -0.0286      0.148     -0.192      0.847      -0.320       0.262\n",
       "ar.L2          0.1792      0.125      1.431      0.152      -0.066       0.425\n",
       "ar.L3          0.9459      0.038     24.676      0.000       0.871       1.021\n",
       "ar.L4         -0.1583      0.132     -1.199      0.231      -0.417       0.101\n",
       "ar.L5         -0.0164      0.083     -0.197      0.844      -0.180       0.147\n",
       "ma.L1         -0.4873      0.136     -3.571      0.000      -0.755      -0.220\n",
       "ma.L2         -0.2858      0.071     -4.032      0.000      -0.425      -0.147\n",
       "ma.L3         -0.8532      0.062    -13.859      0.000      -0.974      -0.733\n",
       "ma.L4          0.6368      0.126      5.038      0.000       0.389       0.885\n",
       "ar.S.L12       1.2057      0.623      1.937      0.053      -0.014       2.426\n",
       "ar.S.L24      -0.2295      0.584     -0.393      0.694      -1.374       0.915\n",
       "ma.S.L12      -0.9243      0.636     -1.453      0.146      -2.171       0.322\n",
       "ma.S.L24       0.0585      0.472      0.124      0.901      -0.867       0.984\n",
       "sigma2      4.897e+08    2.8e-09   1.75e+17      0.000     4.9e+08     4.9e+08\n",
       "===================================================================================\n",
       "Ljung-Box (Q):                       61.54   Jarque-Bera (JB):                76.59\n",
       "Prob(Q):                              0.02   Prob(JB):                         0.00\n",
       "Heteroskedasticity (H):               2.95   Skew:                            -0.15\n",
       "Prob(H) (two-sided):                  0.00   Kurtosis:                         4.99\n",
       "===================================================================================\n",
       "\n",
       "Warnings:\n",
       "[1] Covariance matrix calculated using the outer product of gradients (complex-step).\n",
       "[2] Covariance matrix is singular or near-singular, with condition number 3.59e+33. Standard errors may be unstable.\n",
       "\"\"\""
      ]
     },
     "execution_count": 24,
     "metadata": {},
     "output_type": "execute_result"
    }
   ],
   "source": [
    "arima_model = SARIMAX(train_data['valor'], order = (5,1,4), seasonal_order = (2,0,2,12))\n",
    "arima_result = arima_model.fit()\n",
    "arima_result.summary()"
   ]
  },
  {
   "cell_type": "markdown",
   "metadata": {},
   "source": [
    "**Vamos comparar o modelo.**"
   ]
  },
  {
   "cell_type": "code",
   "execution_count": 25,
   "metadata": {},
   "outputs": [
    {
     "data": {
      "text/plain": [
       "2019-01-01    213092.628987\n",
       "2019-02-01    201942.226409\n",
       "2019-03-01    236590.014980\n",
       "2019-04-01    246594.876472\n",
       "2019-05-01    233138.930980\n",
       "2019-06-01    239204.577545\n",
       "2019-07-01    251209.000615\n",
       "2019-08-01    251425.698814\n",
       "2019-09-01    235719.804753\n",
       "2019-10-01    255536.327789\n",
       "2019-11-01    235735.004486\n",
       "2019-12-01    256292.960481\n",
       "Freq: MS, Name: Previsão ARIMA, dtype: float64"
      ]
     },
     "execution_count": 25,
     "metadata": {},
     "output_type": "execute_result"
    }
   ],
   "source": [
    "arima_pred = arima_result.predict(start = len(train_data), end = len(data)-1, typ=\"levels\").rename(\"Previsão ARIMA\")\n",
    "arima_pred"
   ]
  },
  {
   "cell_type": "code",
   "execution_count": 26,
   "metadata": {},
   "outputs": [
    {
     "data": {
      "image/png": "[encoded data removed]",
      "text/plain": [
       "<Figure size 1152x360 with 1 Axes>"
      ]
     },
     "metadata": {
      "needs_background": "light"
     },
     "output_type": "display_data"
    }
   ],
   "source": [
    "test_data['valor'].plot(figsize = (16,5), legend=True)\n",
    "arima_pred.plot(legend = True);"
   ]
  },
  {
   "cell_type": "markdown",
   "metadata": {},
   "source": [
    "**Note como a previsão do modelo ARIMA se comporta, observe também que ele não consegue acompanhar a queda brusca que tivemos nas vendas de Autoveículos no mes de abril até maio, isso se dá ao fato que nesses dois mês tivemos o pico do  da COVID-19 no Brasil onde a população teve que ficar confinada em seus lares e fabricas e lojas tiveram que ser fechadas para conter o  avanço dos casos da COVID no país.**"
   ]
  },
  {
   "cell_type": "markdown",
   "metadata": {},
   "source": [
    "**Por esse motivo essa queda brusta será muito dificil de ser acompanlhada, poís uma queda desse tipo não ocorreu nos 39 anos anteriores.**"
   ]
  },
  {
   "cell_type": "code",
   "execution_count": 27,
   "metadata": {},
   "outputs": [
    {
     "name": "stdout",
     "output_type": "stream",
     "text": [
      "MSE Error: 154186120.02530438\n",
      "RMSE Error: 12417.170371115328\n",
      "Mean: 158793.8311965812\n"
     ]
    }
   ],
   "source": [
    "arima_rmse_error = rmse(test_data['valor'], arima_pred)\n",
    "arima_mse_error = arima_rmse_error**2\n",
    "mean_value = data['valor'].mean()\n",
    "\n",
    "print(f'MSE Error: {arima_mse_error}\\nRMSE Error: {arima_rmse_error}\\nMean: {mean_value}')"
   ]
  },
  {
   "cell_type": "code",
   "execution_count": 28,
   "metadata": {},
   "outputs": [],
   "source": [
    "test_data['ARIMA_Predictions'] = arima_pred"
   ]
  },
  {
   "cell_type": "markdown",
   "metadata": {},
   "source": [
    "              "
   ]
  },
  {
   "cell_type": "markdown",
   "metadata": {},
   "source": [
    "            "
   ]
  },
  {
   "cell_type": "markdown",
   "metadata": {},
   "source": [
    "            "
   ]
  },
  {
   "cell_type": "markdown",
   "metadata": {},
   "source": [
    "# Previsão com o LSTM"
   ]
  },
  {
   "cell_type": "markdown",
   "metadata": {},
   "source": [
    "**Primeiro passo vamos fazer a normalização dos dados com o MinMaxScaler**"
   ]
  },
  {
   "cell_type": "code",
   "execution_count": 29,
   "metadata": {},
   "outputs": [],
   "source": [
    "from sklearn.preprocessing import MinMaxScaler\n",
    "scaler = MinMaxScaler()"
   ]
  },
  {
   "cell_type": "code",
   "execution_count": 30,
   "metadata": {},
   "outputs": [],
   "source": [
    "scaler.fit(train_data)\n",
    "scaled_train_data = scaler.transform(train_data)\n",
    "scaled_test_data = scaler.transform(test_data)"
   ]
  },
  {
   "cell_type": "markdown",
   "metadata": {},
   "source": [
    "**Para utilizar o LSTM vamos usar o Time Series Generator object.**"
   ]
  },
  {
   "cell_type": "code",
   "execution_count": 31,
   "metadata": {},
   "outputs": [
    {
     "name": "stderr",
     "output_type": "stream",
     "text": [
      "Using TensorFlow backend.\n"
     ]
    }
   ],
   "source": [
    "from keras.preprocessing.sequence import TimeseriesGenerator\n",
    "\n",
    "n_input = 12\n",
    "n_features= 1\n",
    "generator = TimeseriesGenerator(scaled_train_data, scaled_train_data, length=n_input, batch_size=1)"
   ]
  },
  {
   "cell_type": "code",
   "execution_count": 32,
   "metadata": {},
   "outputs": [],
   "source": [
    "from keras.models import Sequential\n",
    "from keras.layers import Dense\n",
    "from keras.layers import LSTM"
   ]
  },
  {
   "cell_type": "markdown",
   "metadata": {},
   "source": [
    "**Criação da Rede com o Keras**"
   ]
  },
  {
   "cell_type": "code",
   "execution_count": 33,
   "metadata": {},
   "outputs": [],
   "source": [
    "lstm_model = Sequential()"
   ]
  },
  {
   "cell_type": "markdown",
   "metadata": {},
   "source": [
    "**Camadas da LSTM**"
   ]
  },
  {
   "cell_type": "code",
   "execution_count": 34,
   "metadata": {},
   "outputs": [],
   "source": [
    "lstm_model.add(LSTM(200, activation='relu', input_shape=(n_input, n_features)))\n",
    "lstm_model.add(Dense(1))"
   ]
  },
  {
   "cell_type": "markdown",
   "metadata": {},
   "source": [
    "**Compilação do Modelo**"
   ]
  },
  {
   "cell_type": "code",
   "execution_count": 35,
   "metadata": {},
   "outputs": [],
   "source": [
    "lstm_model.compile(optimizer='adam', loss='mse')"
   ]
  },
  {
   "cell_type": "markdown",
   "metadata": {},
   "source": [
    "**Sumário do Modelo**"
   ]
  },
  {
   "cell_type": "code",
   "execution_count": 36,
   "metadata": {},
   "outputs": [
    {
     "name": "stdout",
     "output_type": "stream",
     "text": [
      "Model: \"sequential_1\"\n",
      "_________________________________________________________________\n",
      "Layer (type)                 Output Shape              Param #   \n",
      "=================================================================\n",
      "lstm_1 (LSTM)                (None, 200)               161600    \n",
      "_________________________________________________________________\n",
      "dense_1 (Dense)              (None, 1)                 201       \n",
      "=================================================================\n",
      "Total params: 161,801\n",
      "Trainable params: 161,801\n",
      "Non-trainable params: 0\n",
      "_________________________________________________________________\n"
     ]
    }
   ],
   "source": [
    "lstm_model.summary()"
   ]
  },
  {
   "cell_type": "markdown",
   "metadata": {},
   "source": [
    "**Ajuste do Modelo**"
   ]
  },
  {
   "cell_type": "code",
   "execution_count": 37,
   "metadata": {
    "scrolled": true
   },
   "outputs": [
    {
     "name": "stdout",
     "output_type": "stream",
     "text": [
      "Epoch 1/80\n",
      "444/444 [==============================] - 5s 12ms/step - loss: 0.0111\n",
      "Epoch 2/80\n",
      "444/444 [==============================] - 5s 11ms/step - loss: 0.0060\n",
      "Epoch 3/80\n",
      "444/444 [==============================] - 5s 10ms/step - loss: 0.0066\n",
      "Epoch 4/80\n",
      "444/444 [==============================] - 5s 11ms/step - loss: 0.0062\n",
      "Epoch 5/80\n",
      "444/444 [==============================] - 6s 13ms/step - loss: 0.0058\n",
      "Epoch 6/80\n",
      "444/444 [==============================] - 5s 12ms/step - loss: 0.0049\n",
      "Epoch 7/80\n",
      "444/444 [==============================] - 5s 12ms/step - loss: 0.0051\n",
      "Epoch 8/80\n",
      "444/444 [==============================] - 5s 12ms/step - loss: 0.0049\n",
      "Epoch 9/80\n",
      "444/444 [==============================] - 5s 11ms/step - loss: 0.0049\n",
      "Epoch 10/80\n",
      "444/444 [==============================] - 5s 11ms/step - loss: 0.0047\n",
      "Epoch 11/80\n",
      "444/444 [==============================] - 6s 13ms/step - loss: 0.0049\n",
      "Epoch 12/80\n",
      "444/444 [==============================] - 5s 11ms/step - loss: 0.0046\n",
      "Epoch 13/80\n",
      "444/444 [==============================] - 5s 11ms/step - loss: 0.0046\n",
      "Epoch 14/80\n",
      "444/444 [==============================] - 5s 12ms/step - loss: 0.0051\n",
      "Epoch 15/80\n",
      "444/444 [==============================] - 5s 11ms/step - loss: 0.0045\n",
      "Epoch 16/80\n",
      "444/444 [==============================] - 5s 12ms/step - loss: 0.0046\n",
      "Epoch 17/80\n",
      "444/444 [==============================] - 5s 11ms/step - loss: 0.0042\n",
      "Epoch 18/80\n",
      "444/444 [==============================] - 5s 12ms/step - loss: 0.0044\n",
      "Epoch 19/80\n",
      "444/444 [==============================] - 5s 11ms/step - loss: 0.0041\n",
      "Epoch 20/80\n",
      "444/444 [==============================] - 5s 12ms/step - loss: 0.0045\n",
      "Epoch 21/80\n",
      "444/444 [==============================] - 5s 12ms/step - loss: 0.0046\n",
      "Epoch 22/80\n",
      "444/444 [==============================] - 5s 11ms/step - loss: 0.0044\n",
      "Epoch 23/80\n",
      "444/444 [==============================] - 5s 11ms/step - loss: 0.0043\n",
      "Epoch 24/80\n",
      "444/444 [==============================] - 5s 11ms/step - loss: 0.0042\n",
      "Epoch 25/80\n",
      "444/444 [==============================] - 5s 12ms/step - loss: 0.0043\n",
      "Epoch 26/80\n",
      "444/444 [==============================] - 5s 12ms/step - loss: 0.0046\n",
      "Epoch 27/80\n",
      "444/444 [==============================] - 5s 11ms/step - loss: 0.0043\n",
      "Epoch 28/80\n",
      "444/444 [==============================] - 5s 11ms/step - loss: 0.0043\n",
      "Epoch 29/80\n",
      "444/444 [==============================] - 5s 11ms/step - loss: 0.0040\n",
      "Epoch 30/80\n",
      "444/444 [==============================] - 5s 12ms/step - loss: 0.0042\n",
      "Epoch 31/80\n",
      "444/444 [==============================] - 5s 11ms/step - loss: 0.0042\n",
      "Epoch 32/80\n",
      "444/444 [==============================] - 6s 13ms/step - loss: 0.0041\n",
      "Epoch 33/80\n",
      "444/444 [==============================] - 6s 13ms/step - loss: 0.0042: 0s - l\n",
      "Epoch 34/80\n",
      "444/444 [==============================] - 5s 11ms/step - loss: 0.0041\n",
      "Epoch 35/80\n",
      "444/444 [==============================] - 5s 12ms/step - loss: 0.0042\n",
      "Epoch 36/80\n",
      "444/444 [==============================] - 5s 12ms/step - loss: 0.0041\n",
      "Epoch 37/80\n",
      "444/444 [==============================] - 5s 12ms/step - loss: 0.0042\n",
      "Epoch 38/80\n",
      "444/444 [==============================] - 5s 12ms/step - loss: 0.0041\n",
      "Epoch 39/80\n",
      "444/444 [==============================] - 5s 12ms/step - loss: 0.0039\n",
      "Epoch 40/80\n",
      "444/444 [==============================] - 5s 11ms/step - loss: 0.0041\n",
      "Epoch 41/80\n",
      "444/444 [==============================] - 5s 12ms/step - loss: 0.0041\n",
      "Epoch 42/80\n",
      "444/444 [==============================] - 5s 12ms/step - loss: 0.0040\n",
      "Epoch 43/80\n",
      "444/444 [==============================] - 5s 12ms/step - loss: 0.0040\n",
      "Epoch 44/80\n",
      "444/444 [==============================] - 5s 12ms/step - loss: 0.0043\n",
      "Epoch 45/80\n",
      "444/444 [==============================] - 5s 12ms/step - loss: 0.0039\n",
      "Epoch 46/80\n",
      "444/444 [==============================] - 5s 12ms/step - loss: 0.0042\n",
      "Epoch 47/80\n",
      "444/444 [==============================] - 5s 12ms/step - loss: 0.0041\n",
      "Epoch 48/80\n",
      "444/444 [==============================] - 5s 12ms/step - loss: 0.0041\n",
      "Epoch 49/80\n",
      "444/444 [==============================] - 5s 12ms/step - loss: 0.0040\n",
      "Epoch 50/80\n",
      "444/444 [==============================] - 6s 13ms/step - loss: 0.0040\n",
      "Epoch 51/80\n",
      "444/444 [==============================] - 6s 13ms/step - loss: 0.0040: 0s - l\n",
      "Epoch 52/80\n",
      "444/444 [==============================] - 6s 13ms/step - loss: 0.0040\n",
      "Epoch 53/80\n",
      "444/444 [==============================] - 5s 12ms/step - loss: 0.0039\n",
      "Epoch 54/80\n",
      "444/444 [==============================] - 5s 12ms/step - loss: 0.0039\n",
      "Epoch 55/80\n",
      "444/444 [==============================] - 5s 11ms/step - loss: 0.0040\n",
      "Epoch 56/80\n",
      "444/444 [==============================] - 5s 12ms/step - loss: 0.0039\n",
      "Epoch 57/80\n",
      "444/444 [==============================] - 5s 12ms/step - loss: 0.0037\n",
      "Epoch 58/80\n",
      "444/444 [==============================] - 5s 12ms/step - loss: 0.0038\n",
      "Epoch 59/80\n",
      "444/444 [==============================] - 5s 12ms/step - loss: 0.0038\n",
      "Epoch 60/80\n",
      "444/444 [==============================] - 5s 12ms/step - loss: 0.0039\n",
      "Epoch 61/80\n",
      "444/444 [==============================] - 5s 11ms/step - loss: 0.0040\n",
      "Epoch 62/80\n",
      "444/444 [==============================] - 5s 11ms/step - loss: 0.0039\n",
      "Epoch 63/80\n",
      "444/444 [==============================] - 5s 12ms/step - loss: 0.0039\n",
      "Epoch 64/80\n",
      "444/444 [==============================] - 5s 11ms/step - loss: 0.0039\n",
      "Epoch 65/80\n",
      "444/444 [==============================] - 5s 12ms/step - loss: 0.0040\n",
      "Epoch 66/80\n",
      "444/444 [==============================] - 5s 12ms/step - loss: 0.0039\n",
      "Epoch 67/80\n",
      "444/444 [==============================] - 5s 11ms/step - loss: 0.0037\n",
      "Epoch 68/80\n",
      "444/444 [==============================] - 5s 12ms/step - loss: 0.0039\n",
      "Epoch 69/80\n",
      "444/444 [==============================] - 5s 12ms/step - loss: 0.0038\n",
      "Epoch 70/80\n",
      "444/444 [==============================] - 5s 11ms/step - loss: 0.0038\n",
      "Epoch 71/80\n",
      "444/444 [==============================] - 5s 11ms/step - loss: 0.0038\n",
      "Epoch 72/80\n",
      "444/444 [==============================] - 5s 12ms/step - loss: 0.0038\n",
      "Epoch 73/80\n",
      "444/444 [==============================] - 5s 11ms/step - loss: 0.0038:\n",
      "Epoch 74/80\n",
      "444/444 [==============================] - 6s 13ms/step - loss: 0.0037\n",
      "Epoch 75/80\n",
      "444/444 [==============================] - 5s 12ms/step - loss: 0.0038\n",
      "Epoch 76/80\n",
      "444/444 [==============================] - 5s 11ms/step - loss: 0.0038\n",
      "Epoch 77/80\n",
      "444/444 [==============================] - 5s 12ms/step - loss: 0.0038: \n",
      "Epoch 78/80\n",
      "444/444 [==============================] - 6s 13ms/step - loss: 0.0038\n",
      "Epoch 79/80\n",
      "444/444 [==============================] - 5s 11ms/step - loss: 0.0037\n",
      "Epoch 80/80\n",
      "444/444 [==============================] - 5s 11ms/step - loss: 0.0036\n"
     ]
    },
    {
     "data": {
      "text/plain": [
       "<keras.callbacks.callbacks.History at 0x25fb5718ac8>"
      ]
     },
     "execution_count": 37,
     "metadata": {},
     "output_type": "execute_result"
    }
   ],
   "source": [
    "lstm_model.fit_generator(generator, epochs=80)"
   ]
  },
  {
   "cell_type": "code",
   "execution_count": 38,
   "metadata": {},
   "outputs": [],
   "source": [
    "lstm_predictions_scaled = list()\n",
    "\n",
    "batch = scaled_train_data[-n_input:]\n",
    "current_batch = batch.reshape((1, n_input, n_features))\n",
    "\n",
    "for i in range(len(test_data)):   \n",
    "    lstm_pred = lstm_model.predict(current_batch)[0]\n",
    "    lstm_predictions_scaled.append(lstm_pred) \n",
    "    current_batch = np.append(current_batch[:,1:,:],[[lstm_pred]],axis=1)"
   ]
  },
  {
   "cell_type": "markdown",
   "metadata": {},
   "source": [
    "**Como os dados foram normalizados precisamos retorná-los à forma original.**"
   ]
  },
  {
   "cell_type": "markdown",
   "metadata": {},
   "source": [
    "**Esses são os valores normalizados**"
   ]
  },
  {
   "cell_type": "code",
   "execution_count": 39,
   "metadata": {},
   "outputs": [
    {
     "data": {
      "text/plain": [
       "[array([0.56814206], dtype=float32),\n",
       " array([0.5457536], dtype=float32),\n",
       " array([0.6076209], dtype=float32),\n",
       " array([0.6316001], dtype=float32),\n",
       " array([0.6148877], dtype=float32),\n",
       " array([0.62892246], dtype=float32),\n",
       " array([0.6305611], dtype=float32),\n",
       " array([0.6577841], dtype=float32),\n",
       " array([0.6219485], dtype=float32),\n",
       " array([0.6463009], dtype=float32),\n",
       " array([0.6354626], dtype=float32),\n",
       " array([0.6225729], dtype=float32)]"
      ]
     },
     "execution_count": 39,
     "metadata": {},
     "output_type": "execute_result"
    }
   ],
   "source": [
    "lstm_predictions_scaled"
   ]
  },
  {
   "cell_type": "markdown",
   "metadata": {},
   "source": [
    "**Vamos reverter os valores o inverse_transform**"
   ]
  },
  {
   "cell_type": "code",
   "execution_count": 40,
   "metadata": {},
   "outputs": [
    {
     "data": {
      "text/plain": [
       "array([[233270.02854705],\n",
       "       [225479.96449828],\n",
       "       [247006.69038355],\n",
       "       [255350.24850428],\n",
       "       [249535.1802206 ],\n",
       "       [254418.57081413],\n",
       "       [254988.73939276],\n",
       "       [264460.97910762],\n",
       "       [251991.97382689],\n",
       "       [260465.40229678],\n",
       "       [256694.20544565],\n",
       "       [252209.24015999]])"
      ]
     },
     "execution_count": 40,
     "metadata": {},
     "output_type": "execute_result"
    }
   ],
   "source": [
    "lstm_predictions = scaler.inverse_transform(lstm_predictions_scaled)\n",
    "lstm_predictions"
   ]
  },
  {
   "cell_type": "markdown",
   "metadata": {},
   "source": [
    "### Vamos comparar o modelo."
   ]
  },
  {
   "cell_type": "code",
   "execution_count": 41,
   "metadata": {},
   "outputs": [],
   "source": [
    "test_data['LSTM_Predictions'] = lstm_predictions"
   ]
  },
  {
   "cell_type": "code",
   "execution_count": 42,
   "metadata": {},
   "outputs": [
    {
     "data": {
      "text/html": [
       "<div>\n",
       "<style scoped>\n",
       "    .dataframe tbody tr th:only-of-type {\n",
       "        vertical-align: middle;\n",
       "    }\n",
       "\n",
       "    .dataframe tbody tr th {\n",
       "        vertical-align: top;\n",
       "    }\n",
       "\n",
       "    .dataframe thead th {\n",
       "        text-align: right;\n",
       "    }\n",
       "</style>\n",
       "<table border=\"1\" class=\"dataframe\">\n",
       "  <thead>\n",
       "    <tr style=\"text-align: right;\">\n",
       "      <th></th>\n",
       "      <th>valor</th>\n",
       "      <th>ARIMA_Predictions</th>\n",
       "      <th>LSTM_Predictions</th>\n",
       "    </tr>\n",
       "    <tr>\n",
       "      <th>data</th>\n",
       "      <th></th>\n",
       "      <th></th>\n",
       "      <th></th>\n",
       "    </tr>\n",
       "  </thead>\n",
       "  <tbody>\n",
       "    <tr>\n",
       "      <th>2019-01-01</th>\n",
       "      <td>200890.0</td>\n",
       "      <td>213092.628987</td>\n",
       "      <td>233270.028547</td>\n",
       "    </tr>\n",
       "    <tr>\n",
       "      <th>2019-02-01</th>\n",
       "      <td>217205.0</td>\n",
       "      <td>201942.226409</td>\n",
       "      <td>225479.964498</td>\n",
       "    </tr>\n",
       "    <tr>\n",
       "      <th>2019-03-01</th>\n",
       "      <td>225222.0</td>\n",
       "      <td>236590.014980</td>\n",
       "      <td>247006.690384</td>\n",
       "    </tr>\n",
       "    <tr>\n",
       "      <th>2019-04-01</th>\n",
       "      <td>240679.0</td>\n",
       "      <td>246594.876472</td>\n",
       "      <td>255350.248504</td>\n",
       "    </tr>\n",
       "    <tr>\n",
       "      <th>2019-05-01</th>\n",
       "      <td>261975.0</td>\n",
       "      <td>233138.930980</td>\n",
       "      <td>249535.180221</td>\n",
       "    </tr>\n",
       "    <tr>\n",
       "      <th>2019-06-01</th>\n",
       "      <td>240913.0</td>\n",
       "      <td>239204.577545</td>\n",
       "      <td>254418.570814</td>\n",
       "    </tr>\n",
       "    <tr>\n",
       "      <th>2019-07-01</th>\n",
       "      <td>260607.0</td>\n",
       "      <td>251209.000615</td>\n",
       "      <td>254988.739393</td>\n",
       "    </tr>\n",
       "    <tr>\n",
       "      <th>2019-08-01</th>\n",
       "      <td>253575.0</td>\n",
       "      <td>251425.698814</td>\n",
       "      <td>264460.979108</td>\n",
       "    </tr>\n",
       "    <tr>\n",
       "      <th>2019-09-01</th>\n",
       "      <td>246657.0</td>\n",
       "      <td>235719.804753</td>\n",
       "      <td>251991.973827</td>\n",
       "    </tr>\n",
       "    <tr>\n",
       "      <th>2019-10-01</th>\n",
       "      <td>258149.0</td>\n",
       "      <td>255536.327789</td>\n",
       "      <td>260465.402297</td>\n",
       "    </tr>\n",
       "    <tr>\n",
       "      <th>2019-11-01</th>\n",
       "      <td>250468.0</td>\n",
       "      <td>235735.004486</td>\n",
       "      <td>256694.205446</td>\n",
       "    </tr>\n",
       "    <tr>\n",
       "      <th>2019-12-01</th>\n",
       "      <td>262060.0</td>\n",
       "      <td>256292.960481</td>\n",
       "      <td>252209.240160</td>\n",
       "    </tr>\n",
       "  </tbody>\n",
       "</table>\n",
       "</div>"
      ],
      "text/plain": [
       "               valor  ARIMA_Predictions  LSTM_Predictions\n",
       "data                                                     \n",
       "2019-01-01  200890.0      213092.628987     233270.028547\n",
       "2019-02-01  217205.0      201942.226409     225479.964498\n",
       "2019-03-01  225222.0      236590.014980     247006.690384\n",
       "2019-04-01  240679.0      246594.876472     255350.248504\n",
       "2019-05-01  261975.0      233138.930980     249535.180221\n",
       "2019-06-01  240913.0      239204.577545     254418.570814\n",
       "2019-07-01  260607.0      251209.000615     254988.739393\n",
       "2019-08-01  253575.0      251425.698814     264460.979108\n",
       "2019-09-01  246657.0      235719.804753     251991.973827\n",
       "2019-10-01  258149.0      255536.327789     260465.402297\n",
       "2019-11-01  250468.0      235735.004486     256694.205446\n",
       "2019-12-01  262060.0      256292.960481     252209.240160"
      ]
     },
     "execution_count": 42,
     "metadata": {},
     "output_type": "execute_result"
    }
   ],
   "source": [
    "test_data"
   ]
  },
  {
   "cell_type": "code",
   "execution_count": 43,
   "metadata": {},
   "outputs": [
    {
     "data": {
      "image/png": "[encoded data removed]",
      "text/plain": [
       "<Figure size 1152x360 with 1 Axes>"
      ]
     },
     "metadata": {
      "needs_background": "light"
     },
     "output_type": "display_data"
    }
   ],
   "source": [
    "test_data['valor'].plot(figsize = (16,5), legend=True)\n",
    "test_data['LSTM_Predictions'].plot(legend = True);"
   ]
  },
  {
   "cell_type": "markdown",
   "metadata": {},
   "source": [
    "**Cálculo do Erro**"
   ]
  },
  {
   "cell_type": "code",
   "execution_count": 44,
   "metadata": {},
   "outputs": [
    {
     "name": "stdout",
     "output_type": "stream",
     "text": [
      "MSE Error: 205300772.9575031\n",
      "RMSE Error: 14328.320660757949\n",
      "Mean: 158793.8311965812\n"
     ]
    }
   ],
   "source": [
    "lstm_rmse_error = rmse(test_data['valor'], test_data[\"LSTM_Predictions\"])\n",
    "lstm_mse_error = lstm_rmse_error**2\n",
    "mean_value = data['valor'].mean()\n",
    "\n",
    "print(f'MSE Error: {lstm_mse_error}\\nRMSE Error: {lstm_rmse_error}\\nMean: {mean_value}')"
   ]
  },
  {
   "cell_type": "markdown",
   "metadata": {},
   "source": [
    "                 "
   ]
  },
  {
   "cell_type": "markdown",
   "metadata": {},
   "source": [
    "           "
   ]
  },
  {
   "cell_type": "markdown",
   "metadata": {},
   "source": [
    "             "
   ]
  },
  {
   "cell_type": "markdown",
   "metadata": {},
   "source": [
    "# Previsão com o Prophet"
   ]
  },
  {
   "cell_type": "code",
   "execution_count": 58,
   "metadata": {},
   "outputs": [
    {
     "name": "stdout",
     "output_type": "stream",
     "text": [
      "<class 'pandas.core.frame.DataFrame'>\n",
      "DatetimeIndex: 468 entries, 1981-01-01 to 2019-12-01\n",
      "Freq: MS\n",
      "Data columns (total 1 columns):\n",
      " #   Column  Non-Null Count  Dtype  \n",
      "---  ------  --------------  -----  \n",
      " 0   valor   468 non-null    float64\n",
      "dtypes: float64(1)\n",
      "memory usage: 7.3 KB\n"
     ]
    }
   ],
   "source": [
    "data.info()"
   ]
  },
  {
   "cell_type": "markdown",
   "metadata": {},
   "source": [
    "**Vamos fazer uma copia do DataSet original**"
   ]
  },
  {
   "cell_type": "code",
   "execution_count": 59,
   "metadata": {},
   "outputs": [],
   "source": [
    "data_pr = data.copy()\n",
    "data_pr = data.reset_index()"
   ]
  },
  {
   "cell_type": "markdown",
   "metadata": {},
   "source": [
    "**Formatação das colunas para o padrão do Prophet**"
   ]
  },
  {
   "cell_type": "code",
   "execution_count": 60,
   "metadata": {},
   "outputs": [],
   "source": [
    "data_pr.columns = ['ds','y'] "
   ]
  },
  {
   "cell_type": "code",
   "execution_count": 61,
   "metadata": {},
   "outputs": [],
   "source": [
    "train_data_pr = data_pr.iloc[:len(data)-12]\n",
    "test_data_pr = data_pr.iloc[len(data)-12:]"
   ]
  },
  {
   "cell_type": "code",
   "execution_count": 62,
   "metadata": {},
   "outputs": [],
   "source": [
    "from fbprophet import Prophet"
   ]
  },
  {
   "cell_type": "code",
   "execution_count": 63,
   "metadata": {},
   "outputs": [
    {
     "name": "stderr",
     "output_type": "stream",
     "text": [
      "INFO:fbprophet:Disabling weekly seasonality. Run prophet with weekly_seasonality=True to override this.\n",
      "INFO:fbprophet:Disabling daily seasonality. Run prophet with daily_seasonality=True to override this.\n"
     ]
    }
   ],
   "source": [
    "m = Prophet()\n",
    "m.fit(train_data_pr)\n",
    "future = m.make_future_dataframe(periods=12,freq='MS')\n",
    "prophet_pred = m.predict(future)"
   ]
  },
  {
   "cell_type": "code",
   "execution_count": 64,
   "metadata": {},
   "outputs": [
    {
     "data": {
      "text/html": [
       "<div>\n",
       "<style scoped>\n",
       "    .dataframe tbody tr th:only-of-type {\n",
       "        vertical-align: middle;\n",
       "    }\n",
       "\n",
       "    .dataframe tbody tr th {\n",
       "        vertical-align: top;\n",
       "    }\n",
       "\n",
       "    .dataframe thead th {\n",
       "        text-align: right;\n",
       "    }\n",
       "</style>\n",
       "<table border=\"1\" class=\"dataframe\">\n",
       "  <thead>\n",
       "    <tr style=\"text-align: right;\">\n",
       "      <th></th>\n",
       "      <th>ds</th>\n",
       "      <th>trend</th>\n",
       "      <th>yhat_lower</th>\n",
       "      <th>yhat_upper</th>\n",
       "      <th>trend_lower</th>\n",
       "      <th>trend_upper</th>\n",
       "      <th>additive_terms</th>\n",
       "      <th>additive_terms_lower</th>\n",
       "      <th>additive_terms_upper</th>\n",
       "      <th>yearly</th>\n",
       "      <th>yearly_lower</th>\n",
       "      <th>yearly_upper</th>\n",
       "      <th>multiplicative_terms</th>\n",
       "      <th>multiplicative_terms_lower</th>\n",
       "      <th>multiplicative_terms_upper</th>\n",
       "      <th>yhat</th>\n",
       "    </tr>\n",
       "  </thead>\n",
       "  <tbody>\n",
       "    <tr>\n",
       "      <th>463</th>\n",
       "      <td>2019-08-01</td>\n",
       "      <td>215293.850855</td>\n",
       "      <td>202088.151433</td>\n",
       "      <td>258577.195311</td>\n",
       "      <td>215034.060865</td>\n",
       "      <td>215547.691172</td>\n",
       "      <td>15066.502903</td>\n",
       "      <td>15066.502903</td>\n",
       "      <td>15066.502903</td>\n",
       "      <td>15066.502903</td>\n",
       "      <td>15066.502903</td>\n",
       "      <td>15066.502903</td>\n",
       "      <td>0.0</td>\n",
       "      <td>0.0</td>\n",
       "      <td>0.0</td>\n",
       "      <td>230360.353758</td>\n",
       "    </tr>\n",
       "    <tr>\n",
       "      <th>464</th>\n",
       "      <td>2019-09-01</td>\n",
       "      <td>214688.235829</td>\n",
       "      <td>192308.525698</td>\n",
       "      <td>251433.795062</td>\n",
       "      <td>214341.337062</td>\n",
       "      <td>215016.889673</td>\n",
       "      <td>7665.828970</td>\n",
       "      <td>7665.828970</td>\n",
       "      <td>7665.828970</td>\n",
       "      <td>7665.828970</td>\n",
       "      <td>7665.828970</td>\n",
       "      <td>7665.828970</td>\n",
       "      <td>0.0</td>\n",
       "      <td>0.0</td>\n",
       "      <td>0.0</td>\n",
       "      <td>222354.064799</td>\n",
       "    </tr>\n",
       "    <tr>\n",
       "      <th>465</th>\n",
       "      <td>2019-10-01</td>\n",
       "      <td>214102.156772</td>\n",
       "      <td>193443.421214</td>\n",
       "      <td>255928.493193</td>\n",
       "      <td>213638.835481</td>\n",
       "      <td>214579.983666</td>\n",
       "      <td>10533.167062</td>\n",
       "      <td>10533.167062</td>\n",
       "      <td>10533.167062</td>\n",
       "      <td>10533.167062</td>\n",
       "      <td>10533.167062</td>\n",
       "      <td>10533.167062</td>\n",
       "      <td>0.0</td>\n",
       "      <td>0.0</td>\n",
       "      <td>0.0</td>\n",
       "      <td>224635.323834</td>\n",
       "    </tr>\n",
       "    <tr>\n",
       "      <th>466</th>\n",
       "      <td>2019-11-01</td>\n",
       "      <td>213496.541746</td>\n",
       "      <td>185434.404154</td>\n",
       "      <td>246012.273918</td>\n",
       "      <td>212923.382671</td>\n",
       "      <td>214086.639450</td>\n",
       "      <td>3679.146381</td>\n",
       "      <td>3679.146381</td>\n",
       "      <td>3679.146381</td>\n",
       "      <td>3679.146381</td>\n",
       "      <td>3679.146381</td>\n",
       "      <td>3679.146381</td>\n",
       "      <td>0.0</td>\n",
       "      <td>0.0</td>\n",
       "      <td>0.0</td>\n",
       "      <td>217175.688127</td>\n",
       "    </tr>\n",
       "    <tr>\n",
       "      <th>467</th>\n",
       "      <td>2019-12-01</td>\n",
       "      <td>212910.462689</td>\n",
       "      <td>196196.781534</td>\n",
       "      <td>256113.687530</td>\n",
       "      <td>212216.719978</td>\n",
       "      <td>213632.238193</td>\n",
       "      <td>12706.301012</td>\n",
       "      <td>12706.301012</td>\n",
       "      <td>12706.301012</td>\n",
       "      <td>12706.301012</td>\n",
       "      <td>12706.301012</td>\n",
       "      <td>12706.301012</td>\n",
       "      <td>0.0</td>\n",
       "      <td>0.0</td>\n",
       "      <td>0.0</td>\n",
       "      <td>225616.763701</td>\n",
       "    </tr>\n",
       "  </tbody>\n",
       "</table>\n",
       "</div>"
      ],
      "text/plain": [
       "            ds          trend     yhat_lower     yhat_upper    trend_lower  \\\n",
       "463 2019-08-01  215293.850855  202088.151433  258577.195311  215034.060865   \n",
       "464 2019-09-01  214688.235829  192308.525698  251433.795062  214341.337062   \n",
       "465 2019-10-01  214102.156772  193443.421214  255928.493193  213638.835481   \n",
       "466 2019-11-01  213496.541746  185434.404154  246012.273918  212923.382671   \n",
       "467 2019-12-01  212910.462689  196196.781534  256113.687530  212216.719978   \n",
       "\n",
       "       trend_upper  additive_terms  additive_terms_lower  \\\n",
       "463  215547.691172    15066.502903          15066.502903   \n",
       "464  215016.889673     7665.828970           7665.828970   \n",
       "465  214579.983666    10533.167062          10533.167062   \n",
       "466  214086.639450     3679.146381           3679.146381   \n",
       "467  213632.238193    12706.301012          12706.301012   \n",
       "\n",
       "     additive_terms_upper        yearly  yearly_lower  yearly_upper  \\\n",
       "463          15066.502903  15066.502903  15066.502903  15066.502903   \n",
       "464           7665.828970   7665.828970   7665.828970   7665.828970   \n",
       "465          10533.167062  10533.167062  10533.167062  10533.167062   \n",
       "466           3679.146381   3679.146381   3679.146381   3679.146381   \n",
       "467          12706.301012  12706.301012  12706.301012  12706.301012   \n",
       "\n",
       "     multiplicative_terms  multiplicative_terms_lower  \\\n",
       "463                   0.0                         0.0   \n",
       "464                   0.0                         0.0   \n",
       "465                   0.0                         0.0   \n",
       "466                   0.0                         0.0   \n",
       "467                   0.0                         0.0   \n",
       "\n",
       "     multiplicative_terms_upper           yhat  \n",
       "463                         0.0  230360.353758  \n",
       "464                         0.0  222354.064799  \n",
       "465                         0.0  224635.323834  \n",
       "466                         0.0  217175.688127  \n",
       "467                         0.0  225616.763701  "
      ]
     },
     "execution_count": 64,
     "metadata": {},
     "output_type": "execute_result"
    }
   ],
   "source": [
    "prophet_pred.tail()"
   ]
  },
  {
   "cell_type": "code",
   "execution_count": 65,
   "metadata": {},
   "outputs": [],
   "source": [
    "prophet_pred = pd.DataFrame({\"Date\" : prophet_pred[-12:]['ds'], \"Pred\" : prophet_pred[-12:][\"yhat\"]})"
   ]
  },
  {
   "cell_type": "code",
   "execution_count": 66,
   "metadata": {},
   "outputs": [],
   "source": [
    "prophet_pred = prophet_pred.set_index(\"Date\")"
   ]
  },
  {
   "cell_type": "code",
   "execution_count": 67,
   "metadata": {},
   "outputs": [],
   "source": [
    "prophet_pred.index.freq = \"MS\""
   ]
  },
  {
   "cell_type": "code",
   "execution_count": 68,
   "metadata": {},
   "outputs": [
    {
     "data": {
      "text/html": [
       "<div>\n",
       "<style scoped>\n",
       "    .dataframe tbody tr th:only-of-type {\n",
       "        vertical-align: middle;\n",
       "    }\n",
       "\n",
       "    .dataframe tbody tr th {\n",
       "        vertical-align: top;\n",
       "    }\n",
       "\n",
       "    .dataframe thead th {\n",
       "        text-align: right;\n",
       "    }\n",
       "</style>\n",
       "<table border=\"1\" class=\"dataframe\">\n",
       "  <thead>\n",
       "    <tr style=\"text-align: right;\">\n",
       "      <th></th>\n",
       "      <th>Pred</th>\n",
       "    </tr>\n",
       "    <tr>\n",
       "      <th>Date</th>\n",
       "      <th></th>\n",
       "    </tr>\n",
       "  </thead>\n",
       "  <tbody>\n",
       "    <tr>\n",
       "      <th>2019-01-01</th>\n",
       "      <td>193169.807875</td>\n",
       "    </tr>\n",
       "    <tr>\n",
       "      <th>2019-02-01</th>\n",
       "      <td>196045.687059</td>\n",
       "    </tr>\n",
       "    <tr>\n",
       "      <th>2019-03-01</th>\n",
       "      <td>225799.005481</td>\n",
       "    </tr>\n",
       "    <tr>\n",
       "      <th>2019-04-01</th>\n",
       "      <td>216160.929288</td>\n",
       "    </tr>\n",
       "    <tr>\n",
       "      <th>2019-05-01</th>\n",
       "      <td>225425.474979</td>\n",
       "    </tr>\n",
       "    <tr>\n",
       "      <th>2019-06-01</th>\n",
       "      <td>216759.589474</td>\n",
       "    </tr>\n",
       "    <tr>\n",
       "      <th>2019-07-01</th>\n",
       "      <td>222100.195173</td>\n",
       "    </tr>\n",
       "    <tr>\n",
       "      <th>2019-08-01</th>\n",
       "      <td>230360.353758</td>\n",
       "    </tr>\n",
       "    <tr>\n",
       "      <th>2019-09-01</th>\n",
       "      <td>222354.064799</td>\n",
       "    </tr>\n",
       "    <tr>\n",
       "      <th>2019-10-01</th>\n",
       "      <td>224635.323834</td>\n",
       "    </tr>\n",
       "    <tr>\n",
       "      <th>2019-11-01</th>\n",
       "      <td>217175.688127</td>\n",
       "    </tr>\n",
       "    <tr>\n",
       "      <th>2019-12-01</th>\n",
       "      <td>225616.763701</td>\n",
       "    </tr>\n",
       "  </tbody>\n",
       "</table>\n",
       "</div>"
      ],
      "text/plain": [
       "                     Pred\n",
       "Date                     \n",
       "2019-01-01  193169.807875\n",
       "2019-02-01  196045.687059\n",
       "2019-03-01  225799.005481\n",
       "2019-04-01  216160.929288\n",
       "2019-05-01  225425.474979\n",
       "2019-06-01  216759.589474\n",
       "2019-07-01  222100.195173\n",
       "2019-08-01  230360.353758\n",
       "2019-09-01  222354.064799\n",
       "2019-10-01  224635.323834\n",
       "2019-11-01  217175.688127\n",
       "2019-12-01  225616.763701"
      ]
     },
     "execution_count": 68,
     "metadata": {},
     "output_type": "execute_result"
    }
   ],
   "source": [
    "prophet_pred"
   ]
  },
  {
   "cell_type": "code",
   "execution_count": 69,
   "metadata": {},
   "outputs": [],
   "source": [
    "test_data[\"Prophet_Predictions\"] = prophet_pred['Pred'].values"
   ]
  },
  {
   "cell_type": "code",
   "execution_count": 70,
   "metadata": {},
   "outputs": [
    {
     "data": {
      "image/png": "[encoded data removed]",
      "text/plain": [
       "<Figure size 1152x360 with 1 Axes>"
      ]
     },
     "metadata": {
      "needs_background": "light"
     },
     "output_type": "display_data"
    }
   ],
   "source": [
    "import seaborn as sns\n",
    "plt.figure(figsize=(16,5))\n",
    "ax = sns.lineplot(x= test_data.index, y=test_data[\"valor\"])\n",
    "sns.lineplot(x=test_data.index, y = test_data[\"Prophet_Predictions\"]);"
   ]
  },
  {
   "cell_type": "code",
   "execution_count": 71,
   "metadata": {},
   "outputs": [
    {
     "name": "stdout",
     "output_type": "stream",
     "text": [
      "MSE Error: 766668508.8454291\n",
      "RMSE Error: 27688.77947554621\n",
      "Mean: 158793.8311965812\n"
     ]
    }
   ],
   "source": [
    "prophet_rmse_error = rmse(test_data['valor'], test_data[\"Prophet_Predictions\"])\n",
    "prophet_mse_error = prophet_rmse_error**2\n",
    "mean_value = data['valor'].mean()\n",
    "\n",
    "print(f'MSE Error: {prophet_mse_error}\\nRMSE Error: {prophet_rmse_error}\\nMean: {mean_value}')"
   ]
  },
  {
   "cell_type": "markdown",
   "metadata": {},
   "source": [
    "## Comparativo entre os modelos"
   ]
  },
  {
   "cell_type": "code",
   "execution_count": 72,
   "metadata": {},
   "outputs": [],
   "source": [
    "rmse_errors = [arima_rmse_error, lstm_rmse_error, prophet_rmse_error]\n",
    "mse_errors = [arima_mse_error, lstm_mse_error, prophet_mse_error]\n",
    "errors = pd.DataFrame({\"Models\" : [\"ARIMA\", \"LSTM\", \"Prophet\"],\"RMSE Errors\" : rmse_errors, \"MSE Errors\" : mse_errors})"
   ]
  },
  {
   "cell_type": "code",
   "execution_count": 79,
   "metadata": {},
   "outputs": [
    {
     "data": {
      "image/png": "[encoded data removed]",
      "text/plain": [
       "<Figure size 1152x648 with 1 Axes>"
      ]
     },
     "metadata": {
      "needs_background": "light"
     },
     "output_type": "display_data"
    }
   ],
   "source": [
    "plt.figure(figsize=(16,9))\n",
    "plt.plot_date(test_data.index, test_data[\"valor\"], linestyle=\"-\", label='valor')\n",
    "plt.plot_date(test_data.index, test_data[\"ARIMA_Predictions\"], linestyle=\"-.\", label='ARIMA_Predictions')\n",
    "plt.plot_date(test_data.index, test_data[\"LSTM_Predictions\"], linestyle=\"--\", label='LSTM_Predictions')\n",
    "plt.plot_date(test_data.index, test_data[\"Prophet_Predictions\"], linestyle=\":\", label='Prophet_Predictions')\n",
    "plt.legend()\n",
    "plt.show()"
   ]
  },
  {
   "cell_type": "code",
   "execution_count": 81,
   "metadata": {},
   "outputs": [
    {
     "name": "stdout",
     "output_type": "stream",
     "text": [
      "Mean: 243200.0\n"
     ]
    },
    {
     "data": {
      "text/html": [
       "<div>\n",
       "<style scoped>\n",
       "    .dataframe tbody tr th:only-of-type {\n",
       "        vertical-align: middle;\n",
       "    }\n",
       "\n",
       "    .dataframe tbody tr th {\n",
       "        vertical-align: top;\n",
       "    }\n",
       "\n",
       "    .dataframe thead th {\n",
       "        text-align: right;\n",
       "    }\n",
       "</style>\n",
       "<table border=\"1\" class=\"dataframe\">\n",
       "  <thead>\n",
       "    <tr style=\"text-align: right;\">\n",
       "      <th></th>\n",
       "      <th>Models</th>\n",
       "      <th>RMSE Errors</th>\n",
       "      <th>MSE Errors</th>\n",
       "    </tr>\n",
       "  </thead>\n",
       "  <tbody>\n",
       "    <tr>\n",
       "      <th>0</th>\n",
       "      <td>ARIMA</td>\n",
       "      <td>12417.170371</td>\n",
       "      <td>1.541861e+08</td>\n",
       "    </tr>\n",
       "    <tr>\n",
       "      <th>1</th>\n",
       "      <td>LSTM</td>\n",
       "      <td>14328.320661</td>\n",
       "      <td>2.053008e+08</td>\n",
       "    </tr>\n",
       "    <tr>\n",
       "      <th>2</th>\n",
       "      <td>Prophet</td>\n",
       "      <td>27688.779476</td>\n",
       "      <td>7.666685e+08</td>\n",
       "    </tr>\n",
       "  </tbody>\n",
       "</table>\n",
       "</div>"
      ],
      "text/plain": [
       "    Models   RMSE Errors    MSE Errors\n",
       "0    ARIMA  12417.170371  1.541861e+08\n",
       "1     LSTM  14328.320661  2.053008e+08\n",
       "2  Prophet  27688.779476  7.666685e+08"
      ]
     },
     "execution_count": 81,
     "metadata": {},
     "output_type": "execute_result"
    }
   ],
   "source": [
    "print(f\"Mean: {test_data['valor'].mean()}\")\n",
    "errors"
   ]
  },
  {
   "cell_type": "code",
   "execution_count": 82,
   "metadata": {},
   "outputs": [
    {
     "data": {
      "text/html": [
       "<div>\n",
       "<style scoped>\n",
       "    .dataframe tbody tr th:only-of-type {\n",
       "        vertical-align: middle;\n",
       "    }\n",
       "\n",
       "    .dataframe tbody tr th {\n",
       "        vertical-align: top;\n",
       "    }\n",
       "\n",
       "    .dataframe thead th {\n",
       "        text-align: right;\n",
       "    }\n",
       "</style>\n",
       "<table border=\"1\" class=\"dataframe\">\n",
       "  <thead>\n",
       "    <tr style=\"text-align: right;\">\n",
       "      <th></th>\n",
       "      <th>valor</th>\n",
       "      <th>ARIMA_Predictions</th>\n",
       "      <th>LSTM_Predictions</th>\n",
       "      <th>Prophet_Predictions</th>\n",
       "    </tr>\n",
       "    <tr>\n",
       "      <th>data</th>\n",
       "      <th></th>\n",
       "      <th></th>\n",
       "      <th></th>\n",
       "      <th></th>\n",
       "    </tr>\n",
       "  </thead>\n",
       "  <tbody>\n",
       "    <tr>\n",
       "      <th>2019-01-01</th>\n",
       "      <td>200890.0</td>\n",
       "      <td>213092.628987</td>\n",
       "      <td>233270.028547</td>\n",
       "      <td>193169.807875</td>\n",
       "    </tr>\n",
       "    <tr>\n",
       "      <th>2019-02-01</th>\n",
       "      <td>217205.0</td>\n",
       "      <td>201942.226409</td>\n",
       "      <td>225479.964498</td>\n",
       "      <td>196045.687059</td>\n",
       "    </tr>\n",
       "    <tr>\n",
       "      <th>2019-03-01</th>\n",
       "      <td>225222.0</td>\n",
       "      <td>236590.014980</td>\n",
       "      <td>247006.690384</td>\n",
       "      <td>225799.005481</td>\n",
       "    </tr>\n",
       "    <tr>\n",
       "      <th>2019-04-01</th>\n",
       "      <td>240679.0</td>\n",
       "      <td>246594.876472</td>\n",
       "      <td>255350.248504</td>\n",
       "      <td>216160.929288</td>\n",
       "    </tr>\n",
       "    <tr>\n",
       "      <th>2019-05-01</th>\n",
       "      <td>261975.0</td>\n",
       "      <td>233138.930980</td>\n",
       "      <td>249535.180221</td>\n",
       "      <td>225425.474979</td>\n",
       "    </tr>\n",
       "    <tr>\n",
       "      <th>2019-06-01</th>\n",
       "      <td>240913.0</td>\n",
       "      <td>239204.577545</td>\n",
       "      <td>254418.570814</td>\n",
       "      <td>216759.589474</td>\n",
       "    </tr>\n",
       "    <tr>\n",
       "      <th>2019-07-01</th>\n",
       "      <td>260607.0</td>\n",
       "      <td>251209.000615</td>\n",
       "      <td>254988.739393</td>\n",
       "      <td>222100.195173</td>\n",
       "    </tr>\n",
       "    <tr>\n",
       "      <th>2019-08-01</th>\n",
       "      <td>253575.0</td>\n",
       "      <td>251425.698814</td>\n",
       "      <td>264460.979108</td>\n",
       "      <td>230360.353758</td>\n",
       "    </tr>\n",
       "    <tr>\n",
       "      <th>2019-09-01</th>\n",
       "      <td>246657.0</td>\n",
       "      <td>235719.804753</td>\n",
       "      <td>251991.973827</td>\n",
       "      <td>222354.064799</td>\n",
       "    </tr>\n",
       "    <tr>\n",
       "      <th>2019-10-01</th>\n",
       "      <td>258149.0</td>\n",
       "      <td>255536.327789</td>\n",
       "      <td>260465.402297</td>\n",
       "      <td>224635.323834</td>\n",
       "    </tr>\n",
       "    <tr>\n",
       "      <th>2019-11-01</th>\n",
       "      <td>250468.0</td>\n",
       "      <td>235735.004486</td>\n",
       "      <td>256694.205446</td>\n",
       "      <td>217175.688127</td>\n",
       "    </tr>\n",
       "    <tr>\n",
       "      <th>2019-12-01</th>\n",
       "      <td>262060.0</td>\n",
       "      <td>256292.960481</td>\n",
       "      <td>252209.240160</td>\n",
       "      <td>225616.763701</td>\n",
       "    </tr>\n",
       "  </tbody>\n",
       "</table>\n",
       "</div>"
      ],
      "text/plain": [
       "               valor  ARIMA_Predictions  LSTM_Predictions  Prophet_Predictions\n",
       "data                                                                          \n",
       "2019-01-01  200890.0      213092.628987     233270.028547        193169.807875\n",
       "2019-02-01  217205.0      201942.226409     225479.964498        196045.687059\n",
       "2019-03-01  225222.0      236590.014980     247006.690384        225799.005481\n",
       "2019-04-01  240679.0      246594.876472     255350.248504        216160.929288\n",
       "2019-05-01  261975.0      233138.930980     249535.180221        225425.474979\n",
       "2019-06-01  240913.0      239204.577545     254418.570814        216759.589474\n",
       "2019-07-01  260607.0      251209.000615     254988.739393        222100.195173\n",
       "2019-08-01  253575.0      251425.698814     264460.979108        230360.353758\n",
       "2019-09-01  246657.0      235719.804753     251991.973827        222354.064799\n",
       "2019-10-01  258149.0      255536.327789     260465.402297        224635.323834\n",
       "2019-11-01  250468.0      235735.004486     256694.205446        217175.688127\n",
       "2019-12-01  262060.0      256292.960481     252209.240160        225616.763701"
      ]
     },
     "execution_count": 82,
     "metadata": {},
     "output_type": "execute_result"
    }
   ],
   "source": [
    "test_data"
   ]
  },
  {
   "cell_type": "code",
   "execution_count": null,
   "metadata": {},
   "outputs": [],
   "source": []
  },
  {
   "cell_type": "code",
   "execution_count": null,
   "metadata": {},
   "outputs": [],
   "source": []
  },
  {
   "cell_type": "code",
   "execution_count": null,
   "metadata": {},
   "outputs": [],
   "source": []
  }
 ],
 "metadata": {
  "kernelspec": {
   "display_name": "Python 3",
   "language": "python",
   "name": "python3"
  },
  "language_info": {
   "codemirror_mode": {
    "name": "ipython",
    "version": 3
   },
   "file_extension": ".py",
   "mimetype": "text/x-python",
   "name": "python",
   "nbconvert_exporter": "python",
   "pygments_lexer": "ipython3",
   "version": "3.7.6"
  }
 },
 "nbformat": 4,
 "nbformat_minor": 4
}
